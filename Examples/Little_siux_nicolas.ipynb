{
  "nbformat": 4,
  "nbformat_minor": 0,
  "metadata": {
    "colab": {
      "name": "Little_siux_nicolas",
      "provenance": [],
      "mount_file_id": "1e5Ci8eNsNR3oFlEqug9gKOJx9G5nFtIv",
      "authorship_tag": "ABX9TyP3SIvR8ZMy3z/jkaJVoCjP",
      "include_colab_link": true
    },
    "kernelspec": {
      "name": "python3",
      "display_name": "Python 3"
    },
    "language_info": {
      "name": "python"
    }
  },
  "cells": [
    {
      "cell_type": "markdown",
      "metadata": {
        "id": "view-in-github",
        "colab_type": "text"
      },
      "source": [
        "<a href=\"https://colab.research.google.com/github/nicolas998/WMF/blob/ghos_topo/Examples/Little_siux_nicolas.ipynb\" target=\"_parent\"><img src=\"https://colab.research.google.com/assets/colab-badge.svg\" alt=\"Open In Colab\"/></a>"
      ]
    },
    {
      "cell_type": "markdown",
      "metadata": {
        "id": "P5ESKiuzYDbK"
      },
      "source": [
        "# Load packages "
      ]
    },
    {
      "cell_type": "code",
      "metadata": {
        "id": "d4YaQ3rFX_dE"
      },
      "source": [
        "!apt-get install -qq libgdal-dev libproj-dev\n",
        "!pip install cartopy\n",
        "!pip install netCDF4\n",
        "!pip install rasterio\n",
        "!pip install git+https://github.com/nicolas998/WMF.git@ghos_topo --upgrade\n",
        "!pip install pysheds\n",
        "!pip install geopandas \n",
        "!pip install geemap|"
      ],
      "execution_count": null,
      "outputs": []
    },
    {
      "cell_type": "code",
      "metadata": {
        "id": "NoNYW5bVIvJn"
      },
      "source": [
        "!pip install git+https://github.com/nicolas998/WMF.git@ghos_topo --upgrade"
      ],
      "execution_count": null,
      "outputs": []
    },
    {
      "cell_type": "code",
      "metadata": {
        "id": "CqJH2NHLYHyx"
      },
      "source": [
        "import pylab as pl \n",
        "from wmf import wmf \n",
        "import numpy as np \n",
        "import pandas as pd \n",
        "import os\n",
        "import osgeo\n",
        "from wmf import ghost_topo as go \n",
        "import ee\n",
        "import folium\n",
        "import geopandas as geop\n",
        "import warnings\n",
        "warnings.filterwarnings('ignore')"
      ],
      "execution_count": null,
      "outputs": []
    },
    {
      "cell_type": "markdown",
      "metadata": {
        "id": "Vb6F9DsmZvmA"
      },
      "source": [
        "# Define Watershed "
      ]
    },
    {
      "cell_type": "markdown",
      "metadata": {
        "id": "jVzghg7jYyXw"
      },
      "source": [
        "## Load data "
      ]
    },
    {
      "cell_type": "code",
      "metadata": {
        "id": "wZFEdcaYYmeJ"
      },
      "source": [
        "DEM, epsg = wmf.read_map_raster('/content/drive/MyDrive/IIHR/2021_IWA/data/littlesiouxV2.tif', isDEMorDIR=True, dxp=90, noDataP=-9999) \n",
        "DIR, epsg = wmf.read_map_raster('/content/drive/MyDrive/IIHR/2021_IWA/data/LS90_dir.tif', isDEMorDIR=True, dxp=90, noDataP=-9999, isDIR=True) \n"
      ],
      "execution_count": 3,
      "outputs": []
    },
    {
      "cell_type": "markdown",
      "metadata": {
        "id": "Midq-8o3Zqkh"
      },
      "source": [
        "## Define Watershed"
      ]
    },
    {
      "cell_type": "code",
      "metadata": {
        "colab": {
          "base_uri": "https://localhost:8080/"
        },
        "id": "cnz6nZmxZEJ5",
        "outputId": "898fdbaf-2896-4e85-d122-bd8d3871c712"
      },
      "source": [
        "st = wmf.Stream(310015,4769947, DEM, DIR)\n",
        "st.Save_Stream2Map('/content/drive/MyDrive/IIHR/2021_IWA/little_siux/guide_stream.shp', EPSG = int(epsg))\n",
        "cu = wmf.SimuBasin(267781,4702029, DEM, DIR, stream=st, threshold=1000)\n",
        "cu.Save_Basin2Map('/content/drive/MyDrive/IIHR/2021_IWA/little_siux/watershed.shp', dx = 90, EPSG = int(epsg), )"
      ],
      "execution_count": 12,
      "outputs": [
        {
          "output_type": "stream",
          "text": [
            "1\n"
          ],
          "name": "stdout"
        }
      ]
    },
    {
      "cell_type": "code",
      "metadata": {
        "colab": {
          "base_uri": "https://localhost:8080/"
        },
        "id": "OIIxQIJIBGMo",
        "outputId": "b9c0b584-61fd-41a6-848c-b32977e4f54f"
      },
      "source": [
        "st = wmf.Stream(315722,4829408, DEM, DIR)\n",
        "#st.Save_Stream2Map('/content/drive/MyDrive/IIHR/2021_IWA/little_siux/guide_stream.shp', EPSG = int(epsg))\n",
        "cu = wmf.SimuBasin(319337,4803138, DEM, DIR, stream=st, threshold=1000)\n",
        "#cu.Save_Basin2Map('/content/drive/MyDrive/IIHR/2021_IWA/little_siux/watershed.shp', dx = 90, EPSG = int(epsg), )"
      ],
      "execution_count": 4,
      "outputs": [
        {
          "output_type": "stream",
          "text": [
            "1\n"
          ],
          "name": "stdout"
        }
      ]
    },
    {
      "cell_type": "markdown",
      "metadata": {
        "id": "81Bb1naFZ0Jf"
      },
      "source": [
        "# Ghost pre-processing "
      ]
    },
    {
      "cell_type": "markdown",
      "metadata": {
        "id": "K4GZS-1gbdo_"
      },
      "source": [
        "## Define mesh and river segments "
      ]
    },
    {
      "cell_type": "code",
      "metadata": {
        "id": "wZdLWwcwZlnQ"
      },
      "source": [
        "gp = go.ghost_preprocess(cu, path_dem='/content/drive/MyDrive/IIHR/2021_IWA/data/littlesiouxV2.tif', \n",
        "    seg_threshold=800,\n",
        "    seg_point_distance=75)\n",
        "\n",
        "corrected = gp.get_segments_topology(epsilon=0.1)\n",
        "gp.get_mesh_river_points(clean_close_points=True,\n",
        "                         min_river2river_distance=50)\n",
        "gp.get_mesh_grid_points(mesh_spaces=12,\n",
        "                        border_iter=3,\n",
        "                        clean_with_river=True,\n",
        "                        min_dem2river_distance=50)\n",
        "\n",
        "gp.get_voronoi_polygons()\n",
        "gp.define_polygons_topology()"
      ],
      "execution_count": null,
      "outputs": []
    },
    {
      "cell_type": "code",
      "metadata": {
        "id": "osqpyJO8Z6zI"
      },
      "source": [
        "gp.write_mesh_file('/content/drive/MyDrive/IIHR/2021_IWA/data/mesh2.mesh','/content/drive/MyDrive/IIHR/2021_IWA/data/mesh2.shp',)\n",
        "gp.write_river_file(path = '/content/drive/MyDrive/IIHR/2021_IWA/data/exampl2.riv', \n",
        "              shp_path = '/content/drive/MyDrive/IIHR/2021_IWA/data/example_riv2.shp',)"
      ],
      "execution_count": 6,
      "outputs": []
    },
    {
      "cell_type": "markdown",
      "metadata": {
        "id": "EW9xAK5Wb9Mo"
      },
      "source": [
        "## Get soil and land use data from EE"
      ]
    },
    {
      "cell_type": "code",
      "metadata": {
        "id": "1QVRGylEbaLp"
      },
      "source": [
        "#Gets the soil data\n",
        "soils = go.get_soils_data()\n",
        "gp.get_physical_prop(soils, \n",
        "                     prop_name='soils', \n",
        "                     sliced=True, \n",
        "                     xdivisions=2, \n",
        "                     ydivisions=2)\n",
        "#Fill the geometries with null values.\n",
        "gp.polygons_shp['soils'].fillna(gp.polygons_shp['soils'].value_counts().idxmax(), \n",
        "                                inplace = True)\n",
        "#Make the variable an integer\n",
        "gp.polygons_shp['soils'] = gp.polygons_shp['soils'].astype(int)"
      ],
      "execution_count": null,
      "outputs": []
    },
    {
      "cell_type": "code",
      "metadata": {
        "id": "xCrIgJBnb7ZY"
      },
      "source": [
        "#Gets the land use data\n",
        "land_use = go.get_land_use_data()\n",
        "gp.get_physical_prop(land_use, \n",
        "                     prop_name='land', \n",
        "                     band = 'cropland',\n",
        "                     sliced=True, \n",
        "                     xdivisions=2, \n",
        "                     ydivisions=2)\n",
        "#Make the vartiable and integer\n",
        "gp.polygons_shp['land'] = gp.polygons_shp['land'].astype(int)"
      ],
      "execution_count": null,
      "outputs": []
    },
    {
      "cell_type": "markdown",
      "metadata": {
        "id": "2WTvL5Dnce7w"
      },
      "source": [
        "## Writes the attribute file "
      ]
    },
    {
      "cell_type": "code",
      "metadata": {
        "colab": {
          "base_uri": "https://localhost:8080/",
          "height": 204
        },
        "id": "6WidMUsccqsI",
        "outputId": "f974a59c-0d94-4afa-bece-2326c2513915"
      },
      "source": [
        "gp.polygons_shp.head()"
      ],
      "execution_count": 10,
      "outputs": [
        {
          "output_type": "execute_result",
          "data": {
            "text/html": [
              "<div>\n",
              "<style scoped>\n",
              "    .dataframe tbody tr th:only-of-type {\n",
              "        vertical-align: middle;\n",
              "    }\n",
              "\n",
              "    .dataframe tbody tr th {\n",
              "        vertical-align: top;\n",
              "    }\n",
              "\n",
              "    .dataframe thead th {\n",
              "        text-align: right;\n",
              "    }\n",
              "</style>\n",
              "<table border=\"1\" class=\"dataframe\">\n",
              "  <thead>\n",
              "    <tr style=\"text-align: right;\">\n",
              "      <th></th>\n",
              "      <th>polygon</th>\n",
              "      <th>area[m2]</th>\n",
              "      <th>z[m]</th>\n",
              "      <th>nfaces</th>\n",
              "      <th>geometry</th>\n",
              "      <th>soils</th>\n",
              "      <th>land</th>\n",
              "    </tr>\n",
              "  </thead>\n",
              "  <tbody>\n",
              "    <tr>\n",
              "      <th>0</th>\n",
              "      <td>1</td>\n",
              "      <td>157079.008789</td>\n",
              "      <td>1386.189148</td>\n",
              "      <td>7</td>\n",
              "      <td>POLYGON ((318967.885 4803611.603, 319408.257 4...</td>\n",
              "      <td>7</td>\n",
              "      <td>1</td>\n",
              "    </tr>\n",
              "    <tr>\n",
              "      <th>1</th>\n",
              "      <td>2</td>\n",
              "      <td>229234.270874</td>\n",
              "      <td>1390.207275</td>\n",
              "      <td>6</td>\n",
              "      <td>POLYGON ((318966.303 4803612.605, 318739.559 4...</td>\n",
              "      <td>7</td>\n",
              "      <td>176</td>\n",
              "    </tr>\n",
              "    <tr>\n",
              "      <th>2</th>\n",
              "      <td>3</td>\n",
              "      <td>383845.358276</td>\n",
              "      <td>1389.457886</td>\n",
              "      <td>5</td>\n",
              "      <td>POLYGON ((318780.531 4804891.985, 319412.102 4...</td>\n",
              "      <td>7</td>\n",
              "      <td>175</td>\n",
              "    </tr>\n",
              "    <tr>\n",
              "      <th>3</th>\n",
              "      <td>4</td>\n",
              "      <td>334246.502319</td>\n",
              "      <td>1386.305664</td>\n",
              "      <td>6</td>\n",
              "      <td>POLYGON ((318766.076 4805333.605, 319323.061 4...</td>\n",
              "      <td>7</td>\n",
              "      <td>176</td>\n",
              "    </tr>\n",
              "    <tr>\n",
              "      <th>4</th>\n",
              "      <td>5</td>\n",
              "      <td>365964.567383</td>\n",
              "      <td>1394.131042</td>\n",
              "      <td>5</td>\n",
              "      <td>POLYGON ((318491.127 4805725.000, 318633.485 4...</td>\n",
              "      <td>7</td>\n",
              "      <td>1</td>\n",
              "    </tr>\n",
              "  </tbody>\n",
              "</table>\n",
              "</div>"
            ],
            "text/plain": [
              "   polygon       area[m2]  ...  soils  land\n",
              "0        1  157079.008789  ...      7     1\n",
              "1        2  229234.270874  ...      7   176\n",
              "2        3  383845.358276  ...      7   175\n",
              "3        4  334246.502319  ...      7   176\n",
              "4        5  365964.567383  ...      7     1\n",
              "\n",
              "[5 rows x 7 columns]"
            ]
          },
          "metadata": {
            "tags": []
          },
          "execution_count": 10
        }
      ]
    },
    {
      "cell_type": "code",
      "metadata": {
        "id": "rACnXaUIcAAQ"
      },
      "source": [
        "gp.write_attribute_file('/content/drive/MyDrive/IIHR/2021_IWA/little_siux/attribute.att', \n",
        "                        'soils', \n",
        "                        'land')"
      ],
      "execution_count": 11,
      "outputs": []
    },
    {
      "cell_type": "code",
      "metadata": {
        "id": "Yld06pp9cADX"
      },
      "source": [
        ""
      ],
      "execution_count": null,
      "outputs": []
    },
    {
      "cell_type": "code",
      "metadata": {
        "id": "H3QaNMsfcAFn"
      },
      "source": [
        ""
      ],
      "execution_count": null,
      "outputs": []
    },
    {
      "cell_type": "code",
      "metadata": {
        "id": "aWLB3Ej_cAH0"
      },
      "source": [
        ""
      ],
      "execution_count": null,
      "outputs": []
    }
  ]
}