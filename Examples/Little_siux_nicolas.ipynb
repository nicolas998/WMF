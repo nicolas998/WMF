{
  "nbformat": 4,
  "nbformat_minor": 0,
  "metadata": {
    "colab": {
      "name": "Little_siux_nicolas",
      "provenance": [],
      "mount_file_id": "1e5Ci8eNsNR3oFlEqug9gKOJx9G5nFtIv",
      "authorship_tag": "ABX9TyMIK1BabCfgVYBQjJnKDFIi",
      "include_colab_link": true
    },
    "kernelspec": {
      "name": "python3",
      "display_name": "Python 3"
    },
    "language_info": {
      "name": "python"
    }
  },
  "cells": [
    {
      "cell_type": "markdown",
      "metadata": {
        "id": "view-in-github",
        "colab_type": "text"
      },
      "source": [
        "<a href=\"https://colab.research.google.com/github/nicolas998/WMF/blob/ghos_topo/Examples/Little_siux_nicolas.ipynb\" target=\"_parent\"><img src=\"https://colab.research.google.com/assets/colab-badge.svg\" alt=\"Open In Colab\"/></a>"
      ]
    },
    {
      "cell_type": "markdown",
      "metadata": {
        "id": "P5ESKiuzYDbK"
      },
      "source": [
        "# Load packages "
      ]
    },
    {
      "cell_type": "code",
      "metadata": {
        "id": "d4YaQ3rFX_dE"
      },
      "source": [
        "!apt-get install -qq libgdal-dev libproj-dev\n",
        "!pip install cartopy\n",
        "!pip install netCDF4\n",
        "!pip install rasterio\n",
        "!pip install git+https://github.com/nicolas998/WMF.git@ghos_topo --upgrade\n",
        "!pip install pysheds\n",
        "!pip install geopandas \n",
        "!pip install geemap|"
      ],
      "execution_count": null,
      "outputs": []
    },
    {
      "cell_type": "code",
      "metadata": {
        "id": "NoNYW5bVIvJn"
      },
      "source": [
        "!pip install git+https://github.com/nicolas998/WMF.git@ghos_topo --upgrade"
      ],
      "execution_count": null,
      "outputs": []
    },
    {
      "cell_type": "code",
      "metadata": {
        "id": "CqJH2NHLYHyx"
      },
      "source": [
        "import pylab as pl \n",
        "from wmf import wmf \n",
        "import numpy as np \n",
        "import pandas as pd \n",
        "import os\n",
        "import osgeo\n",
        "from wmf import ghost_topo as go \n",
        "import ee\n",
        "import folium\n",
        "import geopandas as geop\n",
        "import warnings\n",
        "warnings.filterwarnings('ignore')"
      ],
      "execution_count": null,
      "outputs": []
    },
    {
      "cell_type": "markdown",
      "metadata": {
        "id": "Vb6F9DsmZvmA"
      },
      "source": [
        "# Define Watershed "
      ]
    },
    {
      "cell_type": "markdown",
      "metadata": {
        "id": "jVzghg7jYyXw"
      },
      "source": [
        "## Load data "
      ]
    },
    {
      "cell_type": "code",
      "metadata": {
        "id": "wZFEdcaYYmeJ"
      },
      "source": [
        "DEM, epsg = wmf.read_map_raster('/content/drive/MyDrive/IIHR/2021_IWA/data/littlesiouxV2.tif', isDEMorDIR=True, dxp=90, noDataP=-9999) \n",
        "DIR, epsg = wmf.read_map_raster('/content/drive/MyDrive/IIHR/2021_IWA/data/LS90_dir.tif', isDEMorDIR=True, dxp=90, noDataP=-9999, isDIR=True) \n"
      ],
      "execution_count": 3,
      "outputs": []
    },
    {
      "cell_type": "markdown",
      "metadata": {
        "id": "Midq-8o3Zqkh"
      },
      "source": [
        "## Define Watershed"
      ]
    },
    {
      "cell_type": "code",
      "metadata": {
        "colab": {
          "base_uri": "https://localhost:8080/"
        },
        "id": "cnz6nZmxZEJ5",
        "outputId": "898fdbaf-2896-4e85-d122-bd8d3871c712"
      },
      "source": [
        "st = wmf.Stream(310015,4769947, DEM, DIR)\n",
        "st.Save_Stream2Map('/content/drive/MyDrive/IIHR/2021_IWA/little_siux/guide_stream.shp', EPSG = int(epsg))\n",
        "cu = wmf.SimuBasin(267781,4702029, DEM, DIR, stream=st, threshold=1000)\n",
        "cu.Save_Basin2Map('/content/drive/MyDrive/IIHR/2021_IWA/little_siux/watershed.shp', dx = 90, EPSG = int(epsg), )"
      ],
      "execution_count": 12,
      "outputs": [
        {
          "output_type": "stream",
          "text": [
            "1\n"
          ],
          "name": "stdout"
        }
      ]
    },
    {
      "cell_type": "code",
      "metadata": {
        "colab": {
          "base_uri": "https://localhost:8080/"
        },
        "id": "OIIxQIJIBGMo",
        "outputId": "b9c0b584-61fd-41a6-848c-b32977e4f54f"
      },
      "source": [
        "st = wmf.Stream(315722,4829408, DEM, DIR)\n",
        "#st.Save_Stream2Map('/content/drive/MyDrive/IIHR/2021_IWA/little_siux/guide_stream.shp', EPSG = int(epsg))\n",
        "cu = wmf.SimuBasin(319337,4803138, DEM, DIR, stream=st, threshold=1000)\n",
        "#cu.Save_Basin2Map('/content/drive/MyDrive/IIHR/2021_IWA/little_siux/watershed.shp', dx = 90, EPSG = int(epsg), )"
      ],
      "execution_count": 4,
      "outputs": [
        {
          "output_type": "stream",
          "text": [
            "1\n"
          ],
          "name": "stdout"
        }
      ]
    },
    {
      "cell_type": "markdown",
      "metadata": {
        "id": "81Bb1naFZ0Jf"
      },
      "source": [
        "# Ghost pre-processing "
      ]
    },
    {
      "cell_type": "markdown",
      "metadata": {
        "id": "K4GZS-1gbdo_"
      },
      "source": [
        "## Define mesh and river segments "
      ]
    },
    {
      "cell_type": "code",
      "metadata": {
        "id": "wZdLWwcwZlnQ"
      },
      "source": [
        "gp = go.ghost_preprocess(cu, path_dem='/content/drive/MyDrive/IIHR/2021_IWA/data/littlesiouxV2.tif', \n",
        "    seg_threshold=800,\n",
        "    seg_point_distance=75)\n",
        "\n",
        "corrected = gp.get_segments_topology(epsilon=0.1)\n",
        "gp.get_mesh_river_points(clean_close_points=True,\n",
        "                         min_river2river_distance=50)\n",
        "gp.get_mesh_grid_points(mesh_spaces=12,\n",
        "                        border_iter=3,\n",
        "                        clean_with_river=True,\n",
        "                        min_dem2river_distance=50)\n",
        "\n",
        "gp.get_voronoi_polygons()\n",
        "gp.define_polygons_topology()"
      ],
      "execution_count": 13,
      "outputs": []
    },
    {
      "cell_type": "code",
      "metadata": {
        "id": "osqpyJO8Z6zI"
      },
      "source": [
        "gp.write_mesh_file('/content/drive/MyDrive/IIHR/2021_IWA/data/mesh2.mesh','/content/drive/MyDrive/IIHR/2021_IWA/data/mesh2.shp',)\n",
        "gp.write_river_file(path = '/content/drive/MyDrive/IIHR/2021_IWA/data/exampl2.riv', \n",
        "              shp_path = '/content/drive/MyDrive/IIHR/2021_IWA/data/example_riv2.shp',)"
      ],
      "execution_count": 14,
      "outputs": []
    },
    {
      "cell_type": "markdown",
      "metadata": {
        "id": "EW9xAK5Wb9Mo"
      },
      "source": [
        "## Get soil and land use data from EE"
      ]
    },
    {
      "cell_type": "code",
      "metadata": {
        "id": "1QVRGylEbaLp"
      },
      "source": [
        "#Gets the soil data\n",
        "soils = go.get_soils_data()\n",
        "gp.get_physical_prop(soils, \n",
        "                     prop_name='soils', \n",
        "                     sliced=True, \n",
        "                     xdivisions=3, \n",
        "                     ydivisions=3)\n",
        "#Fill the geometries with null values.\n",
        "gp.polygons_shp['soils'].fillna(gp.polygons_shp['soils'].value_counts().idxmax(), \n",
        "                                inplace = True)\n",
        "#Make the variable an integer\n",
        "gp.polygons_shp['soils'] = gp.polygons_shp['soils'].astype(int)"
      ],
      "execution_count": null,
      "outputs": []
    },
    {
      "cell_type": "code",
      "metadata": {
        "id": "xCrIgJBnb7ZY"
      },
      "source": [
        "#Gets the land use data\n",
        "land_use = go.get_land_use_data()\n",
        "gp.get_physical_prop(land_use, \n",
        "                     prop_name='land', \n",
        "                     band = 'cropland',\n",
        "                     sliced=True, \n",
        "                     xdivisions=3, \n",
        "                     ydivisions=3)\n",
        "#Make the vartiable and integer\n",
        "gp.polygons_shp['land'] = gp.polygons_shp['land'].astype(int)"
      ],
      "execution_count": null,
      "outputs": []
    },
    {
      "cell_type": "markdown",
      "metadata": {
        "id": "2WTvL5Dnce7w"
      },
      "source": [
        "## Writes the attribute file "
      ]
    },
    {
      "cell_type": "code",
      "metadata": {
        "id": "rACnXaUIcAAQ"
      },
      "source": [
        "gp.write_attribute_file('/content/drive/MyDrive/IIHR/2021_IWA/little_siux/attribute.att', \n",
        "                        'soils', \n",
        "                        'land')"
      ],
      "execution_count": 23,
      "outputs": []
    },
    {
      "cell_type": "code",
      "metadata": {
        "colab": {
          "base_uri": "https://localhost:8080/"
        },
        "id": "ec2V2az7jedQ",
        "outputId": "96b16008-2a67-43a6-eac8-b4d35400849a"
      },
      "source": [
        "[i for i in gp.polygons_topology[10542][4] if i < 10716]"
      ],
      "execution_count": 55,
      "outputs": [
        {
          "output_type": "execute_result",
          "data": {
            "text/plain": [
              "[]"
            ]
          },
          "metadata": {
            "tags": []
          },
          "execution_count": 55
        }
      ]
    },
    {
      "cell_type": "code",
      "metadata": {
        "colab": {
          "base_uri": "https://localhost:8080/"
        },
        "id": "rFXM9J7flNhn",
        "outputId": "ed8c7639-aa4f-45be-e8d9-a05506745f2c"
      },
      "source": [
        "gp.polygons_shp.loc[10542]"
      ],
      "execution_count": 46,
      "outputs": [
        {
          "output_type": "execute_result",
          "data": {
            "text/plain": [
              "polygon                                                 10543\n",
              "area[m2]                                               162706\n",
              "z[m]                                             -3.40282e+22\n",
              "nfaces                                                     13\n",
              "geometry    POLYGON ((341960 4763470, 342050 4763380, 3421...\n",
              "soils                                                       0\n",
              "land                                                        0\n",
              "Name: 10542, dtype: object"
            ]
          },
          "metadata": {
            "tags": []
          },
          "execution_count": 46
        }
      ]
    },
    {
      "cell_type": "code",
      "metadata": {
        "colab": {
          "base_uri": "https://localhost:8080/"
        },
        "id": "9N0nOgMljgAR",
        "outputId": "070ec7fe-c3af-45fa-fffd-7aeab152bf03"
      },
      "source": [
        "gp.vor_cat[gp.vor_cat < 3].shape"
      ],
      "execution_count": 51,
      "outputs": [
        {
          "output_type": "execute_result",
          "data": {
            "text/plain": [
              "(10716,)"
            ]
          },
          "metadata": {
            "tags": []
          },
          "execution_count": 51
        }
      ]
    },
    {
      "cell_type": "code",
      "metadata": {
        "colab": {
          "base_uri": "https://localhost:8080/"
        },
        "id": "mAPlrOGGlhD3",
        "outputId": "2f10b168-f184-4e68-e39d-32665f778e3e"
      },
      "source": [
        "len(gp.polygons_topology)"
      ],
      "execution_count": 52,
      "outputs": [
        {
          "output_type": "execute_result",
          "data": {
            "text/plain": [
              "10716"
            ]
          },
          "metadata": {
            "tags": []
          },
          "execution_count": 52
        }
      ]
    },
    {
      "cell_type": "code",
      "metadata": {
        "id": "sTAylvuppJKO"
      },
      "source": [
        ""
      ],
      "execution_count": null,
      "outputs": []
    }
  ]
}