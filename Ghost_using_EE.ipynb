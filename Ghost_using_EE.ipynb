{
  "nbformat": 4,
  "nbformat_minor": 0,
  "metadata": {
    "colab": {
      "name": "Ghost_using_EE.ipynb",
      "provenance": [],
      "toc_visible": true,
      "mount_file_id": "1mut6S5rEyrcCA22ndnMLFT-St8HBgWpV",
      "authorship_tag": "ABX9TyPiL7/Ys9GsP1eLKNWVX0M5",
      "include_colab_link": true
    },
    "kernelspec": {
      "name": "python3",
      "display_name": "Python 3"
    },
    "language_info": {
      "name": "python"
    }
  },
  "cells": [
    {
      "cell_type": "markdown",
      "metadata": {
        "id": "view-in-github",
        "colab_type": "text"
      },
      "source": [
        "<a href=\"https://colab.research.google.com/github/nicolas998/WMF/blob/ghos_topo/Ghost_using_EE.ipynb\" target=\"_parent\"><img src=\"https://colab.research.google.com/assets/colab-badge.svg\" alt=\"Open In Colab\"/></a>"
      ]
    },
    {
      "cell_type": "markdown",
      "metadata": {
        "id": "lMHQs-tF_cHi"
      },
      "source": [
        "# Install packages"
      ]
    },
    {
      "cell_type": "code",
      "metadata": {
        "id": "o7ZTRVp9_HJO"
      },
      "source": [
        "!apt-get install -qq libgdal-dev libproj-dev\n",
        "!pip install cartopy\n",
        "!pip install netCDF4\n",
        "!pip install rasterio\n",
        "!pip install git+https://github.com/nicolas998/WMF.git@ghos_topo --upgrade\n",
        "!pip install pysheds\n",
        "!pip install geopandas \n",
        "!pip install geemap"
      ],
      "execution_count": null,
      "outputs": []
    },
    {
      "cell_type": "code",
      "metadata": {
        "id": "hF0u_cvy_zoV"
      },
      "source": [
        "import pylab as pl \n",
        "from wmf import wmf \n",
        "import numpy as np \n",
        "import pandas as pd \n",
        "import os\n",
        "import osgeo\n",
        "from wmf import ghost_topo as go \n",
        "import ee\n",
        "import folium\n",
        "import geopandas as geop\n",
        "import warnings\n",
        "warnings.filterwarnings('ignore')"
      ],
      "execution_count": null,
      "outputs": []
    },
    {
      "cell_type": "markdown",
      "metadata": {
        "id": "IKJ9dzcGAlxJ"
      },
      "source": [
        "# Set up a watershed "
      ]
    },
    {
      "cell_type": "markdown",
      "metadata": {
        "id": "mcAAuhNSB9mQ"
      },
      "source": [
        "## Read and process DEM "
      ]
    },
    {
      "cell_type": "code",
      "metadata": {
        "colab": {
          "base_uri": "https://localhost:8080/",
          "height": 0
        },
        "id": "qiHo4qP7AWmL",
        "outputId": "597a2799-c649-486d-d346-2fb7e29790a3"
      },
      "source": [
        "DEM, DIR,epsg  = wmf.dem_process('/content/drive/MyDrive/IIHR/2021_IWA/data/dem.tif', dxp = 96, noData = -9999)"
      ],
      "execution_count": 3,
      "outputs": [
        {
          "output_type": "stream",
          "text": [
            "1. DEM raster readed\n",
            "2. DEM depressions filled\n",
            "3. DEM corrected\n",
            "4. DIR map derived\n",
            "5. Finish!\n"
          ],
          "name": "stdout"
        }
      ]
    },
    {
      "cell_type": "markdown",
      "metadata": {
        "id": "6W4UBYpLCB5_"
      },
      "source": [
        "## Extract watershed"
      ]
    },
    {
      "cell_type": "code",
      "metadata": {
        "colab": {
          "base_uri": "https://localhost:8080/",
          "height": 0
        },
        "id": "cmpVxRSNBlOI",
        "outputId": "82e1c14b-4218-483a-cc28-fb6613a85475"
      },
      "source": [
        "st = wmf.Stream(352378,4605633, DEM, DIR)\n",
        "cu = wmf.SimuBasin(340517,4589890, DEM, DIR, stream=st, threshold=50)"
      ],
      "execution_count": 4,
      "outputs": [
        {
          "output_type": "stream",
          "text": [
            "1\n"
          ],
          "name": "stdout"
        }
      ]
    },
    {
      "cell_type": "markdown",
      "metadata": {
        "id": "Uzo34TNJCIme"
      },
      "source": [
        "## Get ghost class and its elements"
      ]
    },
    {
      "cell_type": "code",
      "metadata": {
        "id": "OrE8K9bNBpd6"
      },
      "source": [
        "gp = go.ghost_preprocess(cu, path_dem='/content/drive/MyDrive/IIHR/2021_IWA/data/dem.tif', \n",
        "    seg_threshold=700,\n",
        "    seg_point_distance=75)\n",
        "\n",
        "corrected = gp.get_segments_topology(epsilon=0.1)\n",
        "gp.get_mesh_river_points(clean_close_points=True,\n",
        "                         min_river2river_distance=50)\n",
        "gp.get_mesh_grid_points(mesh_spaces=5,\n",
        "                        border_iter=4,\n",
        "                        clean_with_river=True,\n",
        "                        min_dem2river_distance=50)\n",
        "\n",
        "gp.get_voronoi_polygons()\n",
        "gp.define_polygons_topology()"
      ],
      "execution_count": 5,
      "outputs": []
    },
    {
      "cell_type": "markdown",
      "metadata": {
        "id": "_XV7xG7uCDW8"
      },
      "source": [
        "# Use earth explorer functions to set up the soil properties"
      ]
    },
    {
      "cell_type": "code",
      "metadata": {
        "id": "2juqz_Zm94KF"
      },
      "source": [
        "gp.write_mesh_file('/content/drive/MyDrive/IIHR/2021_IWA/data/mesh.mesh','/content/drive/MyDrive/IIHR/2021_IWA/data/mesh.shp')"
      ],
      "execution_count": 6,
      "outputs": []
    },
    {
      "cell_type": "code",
      "metadata": {
        "id": "HiJQwYdt9_VG"
      },
      "source": [
        "#Gets the soil data\n",
        "soils = go.get_soils_data()\n",
        "gp.get_physical_prop(soils, prop_name='soils')\n",
        "#Fill the geometries with null values.\n",
        "gp.polygons_shp['soils'].fillna(gp.polygons_shp['soils'].value_counts().idxmax(), \n",
        "                                inplace = True)\n",
        "#Make the variable an integer\n",
        "gp.polygons_shp['soils'] = gp.polygons_shp['soils'].astype(int)"
      ],
      "execution_count": 24,
      "outputs": []
    },
    {
      "cell_type": "code",
      "metadata": {
        "id": "dPErzYCp_9fL"
      },
      "source": [
        "#Gets the land use data\n",
        "land_use = go.get_land_use_data()\n",
        "gp.get_physical_prop(land_use, prop_name='land', band = 'cropland')\n",
        "#Make the vartiable and integer\n",
        "gp.polygons_shp['land'] = gp.polygons_shp['land'].astype(int)\n"
      ],
      "execution_count": 8,
      "outputs": []
    },
    {
      "cell_type": "code",
      "metadata": {
        "id": "OgGlyZHrPyqK"
      },
      "source": [
        "path = '/content/drive/MyDrive/IIHR/2021_IWA/data/example.att'\n",
        "f = open(path, 'w')\n",
        "f.write('INDEX SOIL LC METEO LAI SS LAKE CLOSE_SEG BCns\\n')\n",
        "for i in gp.polygons_shp.index:\n",
        "  poly = gp.polygons_shp.loc[i,'polygon']\n",
        "  soil = gp.polygons_shp.loc[i,'soils']\n",
        "  land = gp.polygons_shp.loc[i,'land']\n",
        "  sides = gp.polygons_topology[i][3]\n",
        "  f.write('%d %d %d 1 1 0 0 1 ' % (poly,soil, land))\n",
        "  for z in range(sides):\n",
        "          f.write('0 ')\n",
        "  f.write('\\n')\n",
        "f.close()"
      ],
      "execution_count": 35,
      "outputs": []
    },
    {
      "cell_type": "markdown",
      "metadata": {
        "id": "tUHux_Co9hhd"
      },
      "source": [
        "# Use of the properties function in google colab "
      ]
    },
    {
      "cell_type": "markdown",
      "metadata": {
        "id": "RqTyD5doCl0o"
      },
      "source": [
        "# Get Earth Engine data "
      ]
    },
    {
      "cell_type": "code",
      "metadata": {
        "id": "NBAYDyfFCT_x"
      },
      "source": [
        "# Trigger the authentication flow.\n",
        "ee.Authenticate()\n",
        "# Initialize the library.\n",
        "ee.Initialize()"
      ],
      "execution_count": null,
      "outputs": []
    },
    {
      "cell_type": "markdown",
      "metadata": {
        "id": "a5HyKg-YF4X3"
      },
      "source": [
        "## Resample soil data to the polygons "
      ]
    },
    {
      "cell_type": "code",
      "metadata": {
        "id": "jvY_IBAQTlwK"
      },
      "source": [
        "# Convert the boundary of the watershed to an ee feature \n",
        "cu.Save_Basin2Map('/content/drive/MyDrive/IIHR/2021_IWA/data/divisory.shp', EPSG=int(cu.epsg))\n",
        "shapefile = geop.read_file('/content/drive/MyDrive/IIHR/2021_IWA/data/divisory.shp')\n",
        "shapefile.to_crs(4326, inplace = True)\n",
        "boundary = ee.Feature(eval(shapefile.iloc[0:1].to_json())['features'][0])\n",
        "xc = shapefile.centroid.x[0]\n",
        "yc = shapefile.centroid.y[0]\n",
        "\n",
        "#Get the polygons in ee\n",
        "gp.write_mesh_file('/content/drive/MyDrive/IIHR/2021_IWA/data/mesh.mesh','/content/drive/MyDrive/IIHR/2021_IWA/data/mesh.shp')\n",
        "shapefile = geop.read_file('/content/drive/MyDrive/IIHR/2021_IWA/data/mesh.shp')\n",
        "shapefile.to_crs(4326, inplace = True)\n",
        "features = []\n",
        "for i in range(shapefile.shape[0]):\n",
        "    geom = shapefile.iloc[i:i+1,:] \n",
        "    jsonDict = eval(geom.to_json()) \n",
        "    geojsonDict = jsonDict['features'][0] \n",
        "    features.append(ee.Feature(geojsonDict)) \n",
        "polygons = ee.FeatureCollection(features)"
      ],
      "execution_count": 7,
      "outputs": []
    },
    {
      "cell_type": "code",
      "metadata": {
        "id": "gZosnCZfDcZX"
      },
      "source": [
        "# Define a method for displaying Earth Engine image tiles to folium map.\n",
        "def Mapdisplay(center, dicc, Tiles=\"OpensTreetMap\",zoom_start=10):\n",
        "    '''\n",
        "    :param center: Center of the map (Latitude and Longitude).\n",
        "    :param dicc: Earth Engine Geometries or Tiles dictionary\n",
        "    :param Tiles: Mapbox Bright,Mapbox Control Room,Stamen Terrain,Stamen Toner,stamenwatercolor,cartodbpositron.\n",
        "    :zoom_start: Initial zoom level for the map.\n",
        "    :return: A folium.Map object.\n",
        "    '''\n",
        "    mapViz = folium.Map(location=center,tiles=Tiles, zoom_start=zoom_start)\n",
        "    for k,v in dicc.items():\n",
        "      if ee.image.Image in [type(x) for x in v.values()]:        \n",
        "        folium.TileLayer(\n",
        "            tiles = v[\"tile_fetcher\"].url_format,\n",
        "            attr  = 'Google Earth Engine',\n",
        "            overlay =True,\n",
        "            name  = k\n",
        "          ).add_to(mapViz)\n",
        "      else:        \n",
        "        folium.GeoJson(\n",
        "        data = v,\n",
        "        name = k\n",
        "          ).add_to(mapViz)\n",
        "    mapViz.add_child(folium.LayerControl())\n",
        "    return mapViz\n",
        "\n",
        "def add_ee_layer(self, ee_image_object, vis_params, name):\n",
        "  map_id_dict = ee.Image(ee_image_object).getMapId(vis_params)\n",
        "  folium.raster_layers.TileLayer(\n",
        "    tiles = map_id_dict['tile_fetcher'].url_format,\n",
        "    attr = 'Map Data &copy; <a href=\"https://earthengine.google.com/\">Google Earth Engine</a>',\n",
        "    name = name,\n",
        "    overlay = True,\n",
        "    control = True\n",
        "  ).add_to(self)\n",
        "\n",
        "# Add EE drawing method to folium.\n",
        "folium.Map.add_ee_layer = add_ee_layer\n",
        "\n",
        "# Set visualization parameters.\n",
        "vis_params = {\n",
        "  'bands':['b10'],\n",
        "  'min': 0,\n",
        "  'max': 12,\n",
        "  'palette': [\"d5c36b\",\"b96947\",\"9d3706\",\"ae868f\",\"f86714\",\"46d143\",\n",
        "    \"368f20\",\"3e5a14\",\"ffd557\",\"fff72e\",\"ff5a9d\",\"ff005b\",]}\n",
        "\n",
        "# Create a folium map object.\n",
        "my_map = folium.Map(location=[yc, xc], zoom_start=10)\n",
        "\n",
        "# Add the elevation model to the map object.\n",
        "#my_map.add_ee_layer(data.updateMask(data.gt(0)), vis_params, 'soil_texture')\n",
        "my_map.add_ee_layer(data_c, vis_params, 'soil_texture')\n",
        "#my_map.add_ee_layer(fc.getInfo(), {}, 'divisory')\n",
        "folium.GeoJson(\n",
        "        data = boundary.getInfo(),\n",
        "        name = 'divisory'\n",
        "          ).add_to(my_map)\n",
        "# Add a layer control panel to the map.\n",
        "my_map.add_child(folium.LayerControl())\n",
        "\n",
        "# Display the map.\n",
        "display(my_map)"
      ],
      "execution_count": null,
      "outputs": []
    }
  ]
}