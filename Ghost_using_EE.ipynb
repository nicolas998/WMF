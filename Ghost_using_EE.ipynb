{
  "nbformat": 4,
  "nbformat_minor": 0,
  "metadata": {
    "colab": {
      "name": "Ghost_using_EE.ipynb",
      "provenance": [],
      "toc_visible": true,
      "mount_file_id": "1mut6S5rEyrcCA22ndnMLFT-St8HBgWpV",
      "authorship_tag": "ABX9TyMl+jggvadYcB1m6s8a65TT",
      "include_colab_link": true
    },
    "kernelspec": {
      "name": "python3",
      "display_name": "Python 3"
    },
    "language_info": {
      "name": "python"
    }
  },
  "cells": [
    {
      "cell_type": "markdown",
      "metadata": {
        "id": "view-in-github",
        "colab_type": "text"
      },
      "source": [
        "<a href=\"https://colab.research.google.com/github/nicolas998/WMF/blob/ghos_topo/Ghost_using_EE.ipynb\" target=\"_parent\"><img src=\"https://colab.research.google.com/assets/colab-badge.svg\" alt=\"Open In Colab\"/></a>"
      ]
    },
    {
      "cell_type": "markdown",
      "metadata": {
        "id": "lMHQs-tF_cHi"
      },
      "source": [
        "# Install packages"
      ]
    },
    {
      "cell_type": "code",
      "metadata": {
        "id": "o7ZTRVp9_HJO",
        "colab": {
          "base_uri": "https://localhost:8080/"
        },
        "outputId": "82ff0b26-cc6f-4ee9-e411-4b56ef3b79ad"
      },
      "source": [
        "!apt-get install -qq libgdal-dev libproj-dev\n",
        "!pip install cartopy\n",
        "!pip install netCDF4\n",
        "!pip install rasterio\n",
        "!pip install git+https://github.com/nicolas998/WMF.git@ghos_topo --upgrade\n",
        "!pip install pysheds\n",
        "!pip install geopandas \n",
        "!pip install geemap"
      ],
      "execution_count": 1,
      "outputs": [
        {
          "output_type": "stream",
          "text": [
            "Requirement already satisfied: cartopy in /usr/local/lib/python3.7/dist-packages (0.19.0.post1)\n",
            "Requirement already satisfied: numpy>=1.13.3 in /usr/local/lib/python3.7/dist-packages (from cartopy) (1.19.5)\n",
            "Requirement already satisfied: shapely>=1.5.6 in /usr/local/lib/python3.7/dist-packages (from cartopy) (1.7.1)\n",
            "Requirement already satisfied: pyshp>=2 in /usr/local/lib/python3.7/dist-packages (from cartopy) (2.1.3)\n",
            "Requirement already satisfied: netCDF4 in /usr/local/lib/python3.7/dist-packages (1.5.6)\n",
            "Requirement already satisfied: numpy>=1.9 in /usr/local/lib/python3.7/dist-packages (from netCDF4) (1.19.5)\n",
            "Requirement already satisfied: cftime in /usr/local/lib/python3.7/dist-packages (from netCDF4) (1.4.1)\n",
            "Requirement already satisfied: rasterio in /usr/local/lib/python3.7/dist-packages (1.2.3)\n",
            "Requirement already satisfied: snuggs>=1.4.1 in /usr/local/lib/python3.7/dist-packages (from rasterio) (1.4.7)\n",
            "Requirement already satisfied: attrs in /usr/local/lib/python3.7/dist-packages (from rasterio) (21.2.0)\n",
            "Requirement already satisfied: affine in /usr/local/lib/python3.7/dist-packages (from rasterio) (2.3.0)\n",
            "Requirement already satisfied: click<8,>=4.0 in /usr/local/lib/python3.7/dist-packages (from rasterio) (7.1.2)\n",
            "Requirement already satisfied: numpy in /usr/local/lib/python3.7/dist-packages (from rasterio) (1.19.5)\n",
            "Requirement already satisfied: click-plugins in /usr/local/lib/python3.7/dist-packages (from rasterio) (1.1.1)\n",
            "Requirement already satisfied: certifi in /usr/local/lib/python3.7/dist-packages (from rasterio) (2020.12.5)\n",
            "Requirement already satisfied: cligj>=0.5 in /usr/local/lib/python3.7/dist-packages (from rasterio) (0.7.1)\n",
            "Requirement already satisfied: pyparsing>=2.1.6 in /usr/local/lib/python3.7/dist-packages (from snuggs>=1.4.1->rasterio) (2.4.7)\n",
            "Collecting git+https://github.com/nicolas998/WMF.git@ghos_topo\n",
            "  Cloning https://github.com/nicolas998/WMF.git (to revision ghos_topo) to /tmp/pip-req-build-fqrlmoll\n",
            "  Running command git clone -q https://github.com/nicolas998/WMF.git /tmp/pip-req-build-fqrlmoll\n",
            "  Running command git checkout -b ghos_topo --track origin/ghos_topo\n",
            "  Switched to a new branch 'ghos_topo'\n",
            "  Branch 'ghos_topo' set up to track remote branch 'ghos_topo' from 'origin'.\n",
            "Building wheels for collected packages: wmf\n",
            "  Building wheel for wmf (setup.py) ... \u001b[?25l\u001b[?25hdone\n",
            "  Created wheel for wmf: filename=wmf-1.1-cp37-cp37m-linux_x86_64.whl size=630441 sha256=5c42218864d4a8188b54ab33d359a1dabc2032c2ab9f5c498318d0967edd4504\n",
            "  Stored in directory: /tmp/pip-ephem-wheel-cache-2e4gtehn/wheels/8c/e7/ab/9b2ff844fb0371d8fc2083cb3e45d40f9e9b694aa9e3203385\n",
            "Successfully built wmf\n",
            "Installing collected packages: wmf\n",
            "  Found existing installation: wmf 1.1\n",
            "    Uninstalling wmf-1.1:\n",
            "      Successfully uninstalled wmf-1.1\n",
            "Successfully installed wmf-1.1\n",
            "Requirement already satisfied: pysheds in /usr/local/lib/python3.7/dist-packages (0.2.7)\n",
            "Requirement already satisfied: numpy in /usr/local/lib/python3.7/dist-packages (from pysheds) (1.19.5)\n",
            "Requirement already satisfied: affine in /usr/local/lib/python3.7/dist-packages (from pysheds) (2.3.0)\n",
            "Requirement already satisfied: geojson in /usr/local/lib/python3.7/dist-packages (from pysheds) (2.5.0)\n",
            "Requirement already satisfied: pandas in /usr/local/lib/python3.7/dist-packages (from pysheds) (1.1.5)\n",
            "Requirement already satisfied: rasterio>=1 in /usr/local/lib/python3.7/dist-packages (from pysheds) (1.2.3)\n",
            "Requirement already satisfied: scipy in /usr/local/lib/python3.7/dist-packages (from pysheds) (1.4.1)\n",
            "Requirement already satisfied: pyproj in /usr/local/lib/python3.7/dist-packages (from pysheds) (3.0.1)\n",
            "Requirement already satisfied: scikit-image in /usr/local/lib/python3.7/dist-packages (from pysheds) (0.16.2)\n",
            "Requirement already satisfied: pytz>=2017.2 in /usr/local/lib/python3.7/dist-packages (from pandas->pysheds) (2018.9)\n",
            "Requirement already satisfied: python-dateutil>=2.7.3 in /usr/local/lib/python3.7/dist-packages (from pandas->pysheds) (2.8.1)\n",
            "Requirement already satisfied: certifi in /usr/local/lib/python3.7/dist-packages (from rasterio>=1->pysheds) (2020.12.5)\n",
            "Requirement already satisfied: attrs in /usr/local/lib/python3.7/dist-packages (from rasterio>=1->pysheds) (21.2.0)\n",
            "Requirement already satisfied: click<8,>=4.0 in /usr/local/lib/python3.7/dist-packages (from rasterio>=1->pysheds) (7.1.2)\n",
            "Requirement already satisfied: cligj>=0.5 in /usr/local/lib/python3.7/dist-packages (from rasterio>=1->pysheds) (0.7.1)\n",
            "Requirement already satisfied: snuggs>=1.4.1 in /usr/local/lib/python3.7/dist-packages (from rasterio>=1->pysheds) (1.4.7)\n",
            "Requirement already satisfied: click-plugins in /usr/local/lib/python3.7/dist-packages (from rasterio>=1->pysheds) (1.1.1)\n",
            "Requirement already satisfied: networkx>=2.0 in /usr/local/lib/python3.7/dist-packages (from scikit-image->pysheds) (2.5.1)\n",
            "Requirement already satisfied: matplotlib!=3.0.0,>=2.0.0 in /usr/local/lib/python3.7/dist-packages (from scikit-image->pysheds) (3.2.2)\n",
            "Requirement already satisfied: pillow>=4.3.0 in /usr/local/lib/python3.7/dist-packages (from scikit-image->pysheds) (7.1.2)\n",
            "Requirement already satisfied: imageio>=2.3.0 in /usr/local/lib/python3.7/dist-packages (from scikit-image->pysheds) (2.4.1)\n",
            "Requirement already satisfied: PyWavelets>=0.4.0 in /usr/local/lib/python3.7/dist-packages (from scikit-image->pysheds) (1.1.1)\n",
            "Requirement already satisfied: six>=1.5 in /usr/local/lib/python3.7/dist-packages (from python-dateutil>=2.7.3->pandas->pysheds) (1.15.0)\n",
            "Requirement already satisfied: pyparsing>=2.1.6 in /usr/local/lib/python3.7/dist-packages (from snuggs>=1.4.1->rasterio>=1->pysheds) (2.4.7)\n",
            "Requirement already satisfied: decorator<5,>=4.3 in /usr/local/lib/python3.7/dist-packages (from networkx>=2.0->scikit-image->pysheds) (4.4.2)\n",
            "Requirement already satisfied: cycler>=0.10 in /usr/local/lib/python3.7/dist-packages (from matplotlib!=3.0.0,>=2.0.0->scikit-image->pysheds) (0.10.0)\n",
            "Requirement already satisfied: kiwisolver>=1.0.1 in /usr/local/lib/python3.7/dist-packages (from matplotlib!=3.0.0,>=2.0.0->scikit-image->pysheds) (1.3.1)\n",
            "Requirement already satisfied: geopandas in /usr/local/lib/python3.7/dist-packages (0.9.0)\n",
            "Requirement already satisfied: fiona>=1.8 in /usr/local/lib/python3.7/dist-packages (from geopandas) (1.8.19)\n",
            "Requirement already satisfied: pyproj>=2.2.0 in /usr/local/lib/python3.7/dist-packages (from geopandas) (3.0.1)\n",
            "Requirement already satisfied: shapely>=1.6 in /usr/local/lib/python3.7/dist-packages (from geopandas) (1.7.1)\n",
            "Requirement already satisfied: pandas>=0.24.0 in /usr/local/lib/python3.7/dist-packages (from geopandas) (1.1.5)\n",
            "Requirement already satisfied: six>=1.7 in /usr/local/lib/python3.7/dist-packages (from fiona>=1.8->geopandas) (1.15.0)\n",
            "Requirement already satisfied: munch in /usr/local/lib/python3.7/dist-packages (from fiona>=1.8->geopandas) (2.5.0)\n",
            "Requirement already satisfied: attrs>=17 in /usr/local/lib/python3.7/dist-packages (from fiona>=1.8->geopandas) (21.2.0)\n",
            "Requirement already satisfied: click-plugins>=1.0 in /usr/local/lib/python3.7/dist-packages (from fiona>=1.8->geopandas) (1.1.1)\n",
            "Requirement already satisfied: click<8,>=4.0 in /usr/local/lib/python3.7/dist-packages (from fiona>=1.8->geopandas) (7.1.2)\n",
            "Requirement already satisfied: cligj>=0.5 in /usr/local/lib/python3.7/dist-packages (from fiona>=1.8->geopandas) (0.7.1)\n",
            "Requirement already satisfied: certifi in /usr/local/lib/python3.7/dist-packages (from fiona>=1.8->geopandas) (2020.12.5)\n",
            "Requirement already satisfied: pytz>=2017.2 in /usr/local/lib/python3.7/dist-packages (from pandas>=0.24.0->geopandas) (2018.9)\n",
            "Requirement already satisfied: python-dateutil>=2.7.3 in /usr/local/lib/python3.7/dist-packages (from pandas>=0.24.0->geopandas) (2.8.1)\n",
            "Requirement already satisfied: numpy>=1.15.4 in /usr/local/lib/python3.7/dist-packages (from pandas>=0.24.0->geopandas) (1.19.5)\n",
            "Requirement already satisfied: geemap in /usr/local/lib/python3.7/dist-packages (0.8.16)\n",
            "Requirement already satisfied: ffmpeg-python in /usr/local/lib/python3.7/dist-packages (from geemap) (0.2.0)\n",
            "Requirement already satisfied: python-box in /usr/local/lib/python3.7/dist-packages (from geemap) (5.3.0)\n",
            "Requirement already satisfied: colour in /usr/local/lib/python3.7/dist-packages (from geemap) (0.1.5)\n",
            "Requirement already satisfied: pyshp>=2.1.3 in /usr/local/lib/python3.7/dist-packages (from geemap) (2.1.3)\n",
            "Requirement already satisfied: bqplot in /usr/local/lib/python3.7/dist-packages (from geemap) (0.12.26)\n",
            "Requirement already satisfied: pycrs in /usr/local/lib/python3.7/dist-packages (from geemap) (1.0.2)\n",
            "Requirement already satisfied: matplotlib in /usr/local/lib/python3.7/dist-packages (from geemap) (3.2.2)\n",
            "Requirement already satisfied: click in /usr/local/lib/python3.7/dist-packages (from geemap) (7.1.2)\n",
            "Requirement already satisfied: folium>=0.11.0 in /usr/local/lib/python3.7/dist-packages (from geemap) (0.12.1)\n",
            "Requirement already satisfied: googledrivedownloader in /usr/local/lib/python3.7/dist-packages (from geemap) (0.4)\n",
            "Requirement already satisfied: ipyfilechooser in /usr/local/lib/python3.7/dist-packages (from geemap) (0.4.3)\n",
            "Requirement already satisfied: ipyevents in /usr/local/lib/python3.7/dist-packages (from geemap) (0.8.2)\n",
            "Requirement already satisfied: ipynb-py-convert in /usr/local/lib/python3.7/dist-packages (from geemap) (0.4.6)\n",
            "Requirement already satisfied: pillow in /usr/local/lib/python3.7/dist-packages (from geemap) (7.1.2)\n",
            "Requirement already satisfied: voila in /usr/local/lib/python3.7/dist-packages (from geemap) (0.2.10)\n",
            "Requirement already satisfied: geocoder in /usr/local/lib/python3.7/dist-packages (from geemap) (1.38.1)\n",
            "Requirement already satisfied: mss in /usr/local/lib/python3.7/dist-packages (from geemap) (6.1.0)\n",
            "Requirement already satisfied: earthengine-api>=0.1.230 in /usr/local/lib/python3.7/dist-packages (from geemap) (0.1.264)\n",
            "Requirement already satisfied: ipytree in /usr/local/lib/python3.7/dist-packages (from geemap) (0.2.1)\n",
            "Requirement already satisfied: numpy in /usr/local/lib/python3.7/dist-packages (from geemap) (1.19.5)\n",
            "Requirement already satisfied: pandas in /usr/local/lib/python3.7/dist-packages (from geemap) (1.1.5)\n",
            "Requirement already satisfied: whiteboxgui in /usr/local/lib/python3.7/dist-packages (from geemap) (0.1.9)\n",
            "Requirement already satisfied: ipyleaflet<=0.13.3 in /usr/local/lib/python3.7/dist-packages (from geemap) (0.13.3)\n",
            "Requirement already satisfied: geeadd>=0.5.1 in /usr/local/lib/python3.7/dist-packages (from geemap) (0.5.4)\n",
            "Requirement already satisfied: future in /usr/local/lib/python3.7/dist-packages (from ffmpeg-python->geemap) (0.16.0)\n",
            "Requirement already satisfied: traittypes>=0.0.6 in /usr/local/lib/python3.7/dist-packages (from bqplot->geemap) (0.2.1)\n",
            "Requirement already satisfied: traitlets>=4.3.0 in /usr/local/lib/python3.7/dist-packages (from bqplot->geemap) (5.0.5)\n",
            "Requirement already satisfied: ipywidgets>=7.5.0 in /usr/local/lib/python3.7/dist-packages (from bqplot->geemap) (7.6.3)\n",
            "Requirement already satisfied: cycler>=0.10 in /usr/local/lib/python3.7/dist-packages (from matplotlib->geemap) (0.10.0)\n",
            "Requirement already satisfied: kiwisolver>=1.0.1 in /usr/local/lib/python3.7/dist-packages (from matplotlib->geemap) (1.3.1)\n",
            "Requirement already satisfied: python-dateutil>=2.1 in /usr/local/lib/python3.7/dist-packages (from matplotlib->geemap) (2.8.1)\n",
            "Requirement already satisfied: pyparsing!=2.0.4,!=2.1.2,!=2.1.6,>=2.0.1 in /usr/local/lib/python3.7/dist-packages (from matplotlib->geemap) (2.4.7)\n",
            "Requirement already satisfied: requests in /usr/local/lib/python3.7/dist-packages (from folium>=0.11.0->geemap) (2.23.0)\n",
            "Requirement already satisfied: branca>=0.3.0 in /usr/local/lib/python3.7/dist-packages (from folium>=0.11.0->geemap) (0.4.2)\n",
            "Requirement already satisfied: jinja2>=2.9 in /usr/local/lib/python3.7/dist-packages (from folium>=0.11.0->geemap) (2.11.3)\n",
            "Requirement already satisfied: nbconvert<7,>=6.0.0 in /usr/local/lib/python3.7/dist-packages (from voila->geemap) (6.0.7)\n",
            "Requirement already satisfied: jupyter-server<2.0.0,>=0.3.0 in /usr/local/lib/python3.7/dist-packages (from voila->geemap) (1.7.0)\n",
            "Requirement already satisfied: nbclient<0.6,>=0.4.0 in /usr/local/lib/python3.7/dist-packages (from voila->geemap) (0.5.3)\n",
            "Requirement already satisfied: jupyter-client<7,>=6.1.3 in /usr/local/lib/python3.7/dist-packages (from voila->geemap) (6.1.12)\n",
            "Requirement already satisfied: ratelim in /usr/local/lib/python3.7/dist-packages (from geocoder->geemap) (0.1.6)\n",
            "Requirement already satisfied: six in /usr/local/lib/python3.7/dist-packages (from geocoder->geemap) (1.15.0)\n",
            "Requirement already satisfied: google-auth>=1.4.1 in /usr/local/lib/python3.7/dist-packages (from earthengine-api>=0.1.230->geemap) (1.30.0)\n",
            "Requirement already satisfied: google-cloud-storage in /usr/local/lib/python3.7/dist-packages (from earthengine-api>=0.1.230->geemap) (1.18.1)\n",
            "Requirement already satisfied: google-auth-httplib2>=0.0.3 in /usr/local/lib/python3.7/dist-packages (from earthengine-api>=0.1.230->geemap) (0.0.4)\n",
            "Requirement already satisfied: httplib2shim in /usr/local/lib/python3.7/dist-packages (from earthengine-api>=0.1.230->geemap) (0.0.3)\n",
            "Requirement already satisfied: httplib2<1dev,>=0.9.2 in /usr/local/lib/python3.7/dist-packages (from earthengine-api>=0.1.230->geemap) (0.17.4)\n",
            "Requirement already satisfied: google-api-python-client<2,>=1.12.1 in /usr/local/lib/python3.7/dist-packages (from earthengine-api>=0.1.230->geemap) (1.12.8)\n",
            "Requirement already satisfied: pytz>=2017.2 in /usr/local/lib/python3.7/dist-packages (from pandas->geemap) (2018.9)\n",
            "Requirement already satisfied: whitebox in /usr/local/lib/python3.7/dist-packages (from whiteboxgui->geemap) (1.4.1)\n",
            "Requirement already satisfied: logzero>=1.5.0 in /usr/local/lib/python3.7/dist-packages (from geeadd>=0.5.1->geemap) (1.7.0)\n",
            "Requirement already satisfied: beautifulsoup4>=4.9.0 in /usr/local/lib/python3.7/dist-packages (from geeadd>=0.5.1->geemap) (4.9.3)\n",
            "Requirement already satisfied: ipython-genutils in /usr/local/lib/python3.7/dist-packages (from traitlets>=4.3.0->bqplot->geemap) (0.2.0)\n",
            "Requirement already satisfied: nbformat>=4.2.0 in /usr/local/lib/python3.7/dist-packages (from ipywidgets>=7.5.0->bqplot->geemap) (5.1.3)\n",
            "Requirement already satisfied: widgetsnbextension~=3.5.0 in /usr/local/lib/python3.7/dist-packages (from ipywidgets>=7.5.0->bqplot->geemap) (3.5.1)\n",
            "Requirement already satisfied: jupyterlab-widgets>=1.0.0; python_version >= \"3.6\" in /usr/local/lib/python3.7/dist-packages (from ipywidgets>=7.5.0->bqplot->geemap) (1.0.0)\n",
            "Requirement already satisfied: ipython>=4.0.0; python_version >= \"3.3\" in /usr/local/lib/python3.7/dist-packages (from ipywidgets>=7.5.0->bqplot->geemap) (5.5.0)\n",
            "Requirement already satisfied: ipykernel>=4.5.1 in /usr/local/lib/python3.7/dist-packages (from ipywidgets>=7.5.0->bqplot->geemap) (4.10.1)\n",
            "Requirement already satisfied: idna<3,>=2.5 in /usr/local/lib/python3.7/dist-packages (from requests->folium>=0.11.0->geemap) (2.10)\n",
            "Requirement already satisfied: chardet<4,>=3.0.2 in /usr/local/lib/python3.7/dist-packages (from requests->folium>=0.11.0->geemap) (3.0.4)\n",
            "Requirement already satisfied: certifi>=2017.4.17 in /usr/local/lib/python3.7/dist-packages (from requests->folium>=0.11.0->geemap) (2020.12.5)\n",
            "Requirement already satisfied: urllib3!=1.25.0,!=1.25.1,<1.26,>=1.21.1 in /usr/local/lib/python3.7/dist-packages (from requests->folium>=0.11.0->geemap) (1.24.3)\n",
            "Requirement already satisfied: MarkupSafe>=0.23 in /usr/local/lib/python3.7/dist-packages (from jinja2>=2.9->folium>=0.11.0->geemap) (2.0.0)\n",
            "Requirement already satisfied: defusedxml in /usr/local/lib/python3.7/dist-packages (from nbconvert<7,>=6.0.0->voila->geemap) (0.7.1)\n",
            "Requirement already satisfied: mistune<2,>=0.8.1 in /usr/local/lib/python3.7/dist-packages (from nbconvert<7,>=6.0.0->voila->geemap) (0.8.4)\n",
            "Requirement already satisfied: pygments>=2.4.1 in /usr/local/lib/python3.7/dist-packages (from nbconvert<7,>=6.0.0->voila->geemap) (2.6.1)\n",
            "Requirement already satisfied: jupyter-core in /usr/local/lib/python3.7/dist-packages (from nbconvert<7,>=6.0.0->voila->geemap) (4.7.1)\n",
            "Requirement already satisfied: testpath in /usr/local/lib/python3.7/dist-packages (from nbconvert<7,>=6.0.0->voila->geemap) (0.4.4)\n",
            "Requirement already satisfied: pandocfilters>=1.4.1 in /usr/local/lib/python3.7/dist-packages (from nbconvert<7,>=6.0.0->voila->geemap) (1.4.3)\n",
            "Requirement already satisfied: jupyterlab-pygments in /usr/local/lib/python3.7/dist-packages (from nbconvert<7,>=6.0.0->voila->geemap) (0.1.2)\n",
            "Requirement already satisfied: entrypoints>=0.2.2 in /usr/local/lib/python3.7/dist-packages (from nbconvert<7,>=6.0.0->voila->geemap) (0.3)\n",
            "Requirement already satisfied: bleach in /usr/local/lib/python3.7/dist-packages (from nbconvert<7,>=6.0.0->voila->geemap) (3.3.0)\n",
            "Requirement already satisfied: terminado>=0.8.3 in /usr/local/lib/python3.7/dist-packages (from jupyter-server<2.0.0,>=0.3.0->voila->geemap) (0.9.5)\n",
            "Requirement already satisfied: websocket-client in /usr/local/lib/python3.7/dist-packages (from jupyter-server<2.0.0,>=0.3.0->voila->geemap) (1.0.0)\n",
            "Requirement already satisfied: anyio<4,>=3.0.1; python_version >= \"3.7\" in /usr/local/lib/python3.7/dist-packages (from jupyter-server<2.0.0,>=0.3.0->voila->geemap) (3.1.0)\n",
            "Requirement already satisfied: tornado>=6.1.0 in /usr/local/lib/python3.7/dist-packages (from jupyter-server<2.0.0,>=0.3.0->voila->geemap) (6.1)\n",
            "Requirement already satisfied: Send2Trash in /usr/local/lib/python3.7/dist-packages (from jupyter-server<2.0.0,>=0.3.0->voila->geemap) (1.5.0)\n",
            "Requirement already satisfied: pyzmq>=17 in /usr/local/lib/python3.7/dist-packages (from jupyter-server<2.0.0,>=0.3.0->voila->geemap) (22.0.3)\n",
            "Requirement already satisfied: prometheus-client in /usr/local/lib/python3.7/dist-packages (from jupyter-server<2.0.0,>=0.3.0->voila->geemap) (0.10.1)\n",
            "Requirement already satisfied: argon2-cffi in /usr/local/lib/python3.7/dist-packages (from jupyter-server<2.0.0,>=0.3.0->voila->geemap) (20.1.0)\n",
            "Requirement already satisfied: nest-asyncio in /usr/local/lib/python3.7/dist-packages (from nbclient<0.6,>=0.4.0->voila->geemap) (1.5.1)\n",
            "Requirement already satisfied: async-generator in /usr/local/lib/python3.7/dist-packages (from nbclient<0.6,>=0.4.0->voila->geemap) (1.10)\n",
            "Requirement already satisfied: decorator in /usr/local/lib/python3.7/dist-packages (from ratelim->geocoder->geemap) (4.4.2)\n",
            "Requirement already satisfied: rsa<5,>=3.1.4; python_version >= \"3.6\" in /usr/local/lib/python3.7/dist-packages (from google-auth>=1.4.1->earthengine-api>=0.1.230->geemap) (4.7.2)\n",
            "Requirement already satisfied: cachetools<5.0,>=2.0.0 in /usr/local/lib/python3.7/dist-packages (from google-auth>=1.4.1->earthengine-api>=0.1.230->geemap) (4.2.2)\n",
            "Requirement already satisfied: setuptools>=40.3.0 in /usr/local/lib/python3.7/dist-packages (from google-auth>=1.4.1->earthengine-api>=0.1.230->geemap) (56.1.0)\n",
            "Requirement already satisfied: pyasn1-modules>=0.2.1 in /usr/local/lib/python3.7/dist-packages (from google-auth>=1.4.1->earthengine-api>=0.1.230->geemap) (0.2.8)\n",
            "Requirement already satisfied: google-resumable-media<0.5.0dev,>=0.3.1 in /usr/local/lib/python3.7/dist-packages (from google-cloud-storage->earthengine-api>=0.1.230->geemap) (0.4.1)\n",
            "Requirement already satisfied: google-cloud-core<2.0dev,>=1.0.0 in /usr/local/lib/python3.7/dist-packages (from google-cloud-storage->earthengine-api>=0.1.230->geemap) (1.0.3)\n",
            "Requirement already satisfied: google-api-core<2dev,>=1.21.0 in /usr/local/lib/python3.7/dist-packages (from google-api-python-client<2,>=1.12.1->earthengine-api>=0.1.230->geemap) (1.26.3)\n",
            "Requirement already satisfied: uritemplate<4dev,>=3.0.0 in /usr/local/lib/python3.7/dist-packages (from google-api-python-client<2,>=1.12.1->earthengine-api>=0.1.230->geemap) (3.0.1)\n",
            "Requirement already satisfied: soupsieve>1.2; python_version >= \"3.0\" in /usr/local/lib/python3.7/dist-packages (from beautifulsoup4>=4.9.0->geeadd>=0.5.1->geemap) (2.2.1)\n",
            "Requirement already satisfied: jsonschema!=2.5.0,>=2.4 in /usr/local/lib/python3.7/dist-packages (from nbformat>=4.2.0->ipywidgets>=7.5.0->bqplot->geemap) (2.6.0)\n",
            "Requirement already satisfied: notebook>=4.4.1 in /usr/local/lib/python3.7/dist-packages (from widgetsnbextension~=3.5.0->ipywidgets>=7.5.0->bqplot->geemap) (5.3.1)\n",
            "Requirement already satisfied: prompt-toolkit<2.0.0,>=1.0.4 in /usr/local/lib/python3.7/dist-packages (from ipython>=4.0.0; python_version >= \"3.3\"->ipywidgets>=7.5.0->bqplot->geemap) (1.0.18)\n",
            "Requirement already satisfied: simplegeneric>0.8 in /usr/local/lib/python3.7/dist-packages (from ipython>=4.0.0; python_version >= \"3.3\"->ipywidgets>=7.5.0->bqplot->geemap) (0.8.1)\n",
            "Requirement already satisfied: pickleshare in /usr/local/lib/python3.7/dist-packages (from ipython>=4.0.0; python_version >= \"3.3\"->ipywidgets>=7.5.0->bqplot->geemap) (0.7.5)\n",
            "Requirement already satisfied: pexpect; sys_platform != \"win32\" in /usr/local/lib/python3.7/dist-packages (from ipython>=4.0.0; python_version >= \"3.3\"->ipywidgets>=7.5.0->bqplot->geemap) (4.8.0)\n",
            "Requirement already satisfied: packaging in /usr/local/lib/python3.7/dist-packages (from bleach->nbconvert<7,>=6.0.0->voila->geemap) (20.9)\n",
            "Requirement already satisfied: webencodings in /usr/local/lib/python3.7/dist-packages (from bleach->nbconvert<7,>=6.0.0->voila->geemap) (0.5.1)\n",
            "Requirement already satisfied: ptyprocess; os_name != \"nt\" in /usr/local/lib/python3.7/dist-packages (from terminado>=0.8.3->jupyter-server<2.0.0,>=0.3.0->voila->geemap) (0.7.0)\n",
            "Requirement already satisfied: typing-extensions; python_version < \"3.8\" in /usr/local/lib/python3.7/dist-packages (from anyio<4,>=3.0.1; python_version >= \"3.7\"->jupyter-server<2.0.0,>=0.3.0->voila->geemap) (3.7.4.3)\n",
            "Requirement already satisfied: sniffio>=1.1 in /usr/local/lib/python3.7/dist-packages (from anyio<4,>=3.0.1; python_version >= \"3.7\"->jupyter-server<2.0.0,>=0.3.0->voila->geemap) (1.2.0)\n",
            "Requirement already satisfied: cffi>=1.0.0 in /usr/local/lib/python3.7/dist-packages (from argon2-cffi->jupyter-server<2.0.0,>=0.3.0->voila->geemap) (1.14.5)\n",
            "Requirement already satisfied: pyasn1>=0.1.3 in /usr/local/lib/python3.7/dist-packages (from rsa<5,>=3.1.4; python_version >= \"3.6\"->google-auth>=1.4.1->earthengine-api>=0.1.230->geemap) (0.4.8)\n",
            "Requirement already satisfied: googleapis-common-protos<2.0dev,>=1.6.0 in /usr/local/lib/python3.7/dist-packages (from google-api-core<2dev,>=1.21.0->google-api-python-client<2,>=1.12.1->earthengine-api>=0.1.230->geemap) (1.53.0)\n",
            "Requirement already satisfied: protobuf>=3.12.0 in /usr/local/lib/python3.7/dist-packages (from google-api-core<2dev,>=1.21.0->google-api-python-client<2,>=1.12.1->earthengine-api>=0.1.230->geemap) (3.12.4)\n",
            "Requirement already satisfied: wcwidth in /usr/local/lib/python3.7/dist-packages (from prompt-toolkit<2.0.0,>=1.0.4->ipython>=4.0.0; python_version >= \"3.3\"->ipywidgets>=7.5.0->bqplot->geemap) (0.2.5)\n",
            "Requirement already satisfied: pycparser in /usr/local/lib/python3.7/dist-packages (from cffi>=1.0.0->argon2-cffi->jupyter-server<2.0.0,>=0.3.0->voila->geemap) (2.20)\n"
          ],
          "name": "stdout"
        }
      ]
    },
    {
      "cell_type": "code",
      "metadata": {
        "id": "hF0u_cvy_zoV",
        "colab": {
          "base_uri": "https://localhost:8080/"
        },
        "outputId": "60ee96f9-8c5b-4d34-eeb9-b93c7d6dde5d"
      },
      "source": [
        "import pylab as pl \n",
        "from wmf import wmf \n",
        "import numpy as np \n",
        "import pandas as pd \n",
        "import os\n",
        "import osgeo\n",
        "from wmf import ghost_topo as go \n",
        "import ee\n",
        "import folium\n",
        "import geopandas as geop\n",
        "import warnings\n",
        "warnings.filterwarnings('ignore')"
      ],
      "execution_count": 2,
      "outputs": [
        {
          "output_type": "stream",
          "text": [
            "No se logra importar deap tools, por lo tanto se deshabilita SimuBasin.Calib_NSGAII\n",
            "To authorize access needed by Earth Engine, open the following URL in a web browser and follow the instructions. If the web browser does not start automatically, please manually browse the URL below.\n",
            "\n",
            "    https://accounts.google.com/o/oauth2/auth?client_id=517222506229-vsmmajv00ul0bs7p89v5m89qs8eb9359.apps.googleusercontent.com&scope=https%3A%2F%2Fwww.googleapis.com%2Fauth%2Fearthengine+https%3A%2F%2Fwww.googleapis.com%2Fauth%2Fdevstorage.full_control&redirect_uri=urn%3Aietf%3Awg%3Aoauth%3A2.0%3Aoob&response_type=code&code_challenge=bw3TZ_ZF7FBRWLYt66WdKYGGlF_6Cj9KNjU2DnaVjTI&code_challenge_method=S256\n",
            "\n",
            "The authorization workflow will generate a code, which you should paste in the box below. \n",
            "Enter verification code: 4/1AY0e-g61x-f54srlgugv_n_g2iRi5ZNQrb1Zacbzi_BbRIzsjGVddkxeY0Q\n",
            "\n",
            "Successfully saved authorization token.\n"
          ],
          "name": "stdout"
        }
      ]
    },
    {
      "cell_type": "markdown",
      "metadata": {
        "id": "IKJ9dzcGAlxJ"
      },
      "source": [
        "# Set up a watershed "
      ]
    },
    {
      "cell_type": "markdown",
      "metadata": {
        "id": "mcAAuhNSB9mQ"
      },
      "source": [
        "## Read and process DEM "
      ]
    },
    {
      "cell_type": "code",
      "metadata": {
        "colab": {
          "base_uri": "https://localhost:8080/"
        },
        "id": "qiHo4qP7AWmL",
        "outputId": "2fbefa50-0d5d-4583-8926-2694b0fa4f08"
      },
      "source": [
        "DEM, DIR,epsg  = wmf.dem_process('/content/drive/MyDrive/IIHR/2021_IWA/data/dem.tif', dxp = 96, noData = -9999)"
      ],
      "execution_count": 3,
      "outputs": [
        {
          "output_type": "stream",
          "text": [
            "1. DEM raster readed\n",
            "2. DEM depressions filled\n",
            "3. DEM corrected\n",
            "4. DIR map derived\n",
            "5. Finish!\n"
          ],
          "name": "stdout"
        }
      ]
    },
    {
      "cell_type": "markdown",
      "metadata": {
        "id": "6W4UBYpLCB5_"
      },
      "source": [
        "## Extract watershed"
      ]
    },
    {
      "cell_type": "code",
      "metadata": {
        "colab": {
          "base_uri": "https://localhost:8080/"
        },
        "id": "cmpVxRSNBlOI",
        "outputId": "e01c5fa1-d232-4deb-89f8-8f458d13e2fa"
      },
      "source": [
        "st = wmf.Stream(352378,4605633, DEM, DIR)\n",
        "cu = wmf.SimuBasin(340517,4589890, DEM, DIR, stream=st, threshold=50)"
      ],
      "execution_count": 4,
      "outputs": [
        {
          "output_type": "stream",
          "text": [
            "1\n"
          ],
          "name": "stdout"
        }
      ]
    },
    {
      "cell_type": "markdown",
      "metadata": {
        "id": "Uzo34TNJCIme"
      },
      "source": [
        "## Get ghost class and its elements"
      ]
    },
    {
      "cell_type": "code",
      "metadata": {
        "id": "OrE8K9bNBpd6"
      },
      "source": [
        "gp = go.ghost_preprocess(cu, path_dem='/content/drive/MyDrive/IIHR/2021_IWA/data/dem.tif', \n",
        "    seg_threshold=700,\n",
        "    seg_point_distance=75)\n",
        "\n",
        "corrected = gp.get_segments_topology(epsilon=0.1)\n",
        "gp.get_mesh_river_points(clean_close_points=True,\n",
        "                         min_river2river_distance=50)\n",
        "gp.get_mesh_grid_points(mesh_spaces=5,\n",
        "                        border_iter=4,\n",
        "                        clean_with_river=True,\n",
        "                        min_dem2river_distance=50)\n",
        "\n",
        "gp.get_voronoi_polygons()\n",
        "gp.define_polygons_topology()"
      ],
      "execution_count": 5,
      "outputs": []
    },
    {
      "cell_type": "markdown",
      "metadata": {
        "id": "_XV7xG7uCDW8"
      },
      "source": [
        "# Use earth explorer functions to set up the soil properties"
      ]
    },
    {
      "cell_type": "code",
      "metadata": {
        "id": "2juqz_Zm94KF"
      },
      "source": [
        "gp.write_mesh_file('/content/drive/MyDrive/IIHR/2021_IWA/data/mesh.mesh','/content/drive/MyDrive/IIHR/2021_IWA/data/mesh.shp')"
      ],
      "execution_count": 6,
      "outputs": []
    },
    {
      "cell_type": "code",
      "metadata": {
        "id": "HiJQwYdt9_VG"
      },
      "source": [
        "data = go.get_soils_data()\n",
        "gp.get_physical_prop(data, prop_name='soils')"
      ],
      "execution_count": 7,
      "outputs": []
    },
    {
      "cell_type": "code",
      "metadata": {
        "colab": {
          "base_uri": "https://localhost:8080/",
          "height": 419
        },
        "id": "dPErzYCp_9fL",
        "outputId": "5b22d598-42e6-45dd-938d-6d8f4517f885"
      },
      "source": [
        "gp.polygons_shp"
      ],
      "execution_count": 8,
      "outputs": [
        {
          "output_type": "execute_result",
          "data": {
            "text/html": [
              "<div>\n",
              "<style scoped>\n",
              "    .dataframe tbody tr th:only-of-type {\n",
              "        vertical-align: middle;\n",
              "    }\n",
              "\n",
              "    .dataframe tbody tr th {\n",
              "        vertical-align: top;\n",
              "    }\n",
              "\n",
              "    .dataframe thead th {\n",
              "        text-align: right;\n",
              "    }\n",
              "</style>\n",
              "<table border=\"1\" class=\"dataframe\">\n",
              "  <thead>\n",
              "    <tr style=\"text-align: right;\">\n",
              "      <th></th>\n",
              "      <th>polygon</th>\n",
              "      <th>area[m2]</th>\n",
              "      <th>z[m]</th>\n",
              "      <th>nfaces</th>\n",
              "      <th>geometry</th>\n",
              "      <th>soils</th>\n",
              "    </tr>\n",
              "  </thead>\n",
              "  <tbody>\n",
              "    <tr>\n",
              "      <th>0</th>\n",
              "      <td>1</td>\n",
              "      <td>63136.789673</td>\n",
              "      <td>363.152206</td>\n",
              "      <td>5</td>\n",
              "      <td>POLYGON ((340496.385 4590466.772, 340873.595 4...</td>\n",
              "      <td>5.0</td>\n",
              "    </tr>\n",
              "    <tr>\n",
              "      <th>1</th>\n",
              "      <td>2</td>\n",
              "      <td>123059.175171</td>\n",
              "      <td>363.387451</td>\n",
              "      <td>7</td>\n",
              "      <td>POLYGON ((340552.789 4590641.500, 340576.518 4...</td>\n",
              "      <td>5.0</td>\n",
              "    </tr>\n",
              "    <tr>\n",
              "      <th>2</th>\n",
              "      <td>3</td>\n",
              "      <td>58271.146484</td>\n",
              "      <td>364.064880</td>\n",
              "      <td>4</td>\n",
              "      <td>POLYGON ((341385.660 4590391.004, 341125.717 4...</td>\n",
              "      <td>8.0</td>\n",
              "    </tr>\n",
              "    <tr>\n",
              "      <th>3</th>\n",
              "      <td>4</td>\n",
              "      <td>45806.885620</td>\n",
              "      <td>364.779419</td>\n",
              "      <td>5</td>\n",
              "      <td>POLYGON ((341764.706 4590622.827, 341600.985 4...</td>\n",
              "      <td>8.0</td>\n",
              "    </tr>\n",
              "    <tr>\n",
              "      <th>4</th>\n",
              "      <td>5</td>\n",
              "      <td>60503.160889</td>\n",
              "      <td>365.442841</td>\n",
              "      <td>6</td>\n",
              "      <td>POLYGON ((341776.067 4590096.305, 341750.203 4...</td>\n",
              "      <td>5.0</td>\n",
              "    </tr>\n",
              "    <tr>\n",
              "      <th>...</th>\n",
              "      <td>...</td>\n",
              "      <td>...</td>\n",
              "      <td>...</td>\n",
              "      <td>...</td>\n",
              "      <td>...</td>\n",
              "      <td>...</td>\n",
              "    </tr>\n",
              "    <tr>\n",
              "      <th>2385</th>\n",
              "      <td>2386</td>\n",
              "      <td>262754.893555</td>\n",
              "      <td>423.937088</td>\n",
              "      <td>9</td>\n",
              "      <td>POLYGON ((362003.328 4610078.500, 362103.757 4...</td>\n",
              "      <td>5.0</td>\n",
              "    </tr>\n",
              "    <tr>\n",
              "      <th>2386</th>\n",
              "      <td>2387</td>\n",
              "      <td>242811.600708</td>\n",
              "      <td>433.160675</td>\n",
              "      <td>9</td>\n",
              "      <td>POLYGON ((361867.894 4609054.606, 361631.952 4...</td>\n",
              "      <td>5.0</td>\n",
              "    </tr>\n",
              "    <tr>\n",
              "      <th>2387</th>\n",
              "      <td>2388</td>\n",
              "      <td>152327.759644</td>\n",
              "      <td>443.068481</td>\n",
              "      <td>8</td>\n",
              "      <td>POLYGON ((361925.565 4600222.065, 361925.682 4...</td>\n",
              "      <td>8.0</td>\n",
              "    </tr>\n",
              "    <tr>\n",
              "      <th>2388</th>\n",
              "      <td>2389</td>\n",
              "      <td>179779.618896</td>\n",
              "      <td>453.776596</td>\n",
              "      <td>10</td>\n",
              "      <td>POLYGON ((361580.260 4599410.634, 361521.109 4...</td>\n",
              "      <td>5.0</td>\n",
              "    </tr>\n",
              "    <tr>\n",
              "      <th>2389</th>\n",
              "      <td>2390</td>\n",
              "      <td>154786.777344</td>\n",
              "      <td>428.278748</td>\n",
              "      <td>10</td>\n",
              "      <td>POLYGON ((362003.328 4610560.750, 362034.437 4...</td>\n",
              "      <td>5.0</td>\n",
              "    </tr>\n",
              "  </tbody>\n",
              "</table>\n",
              "<p>2390 rows × 6 columns</p>\n",
              "</div>"
            ],
            "text/plain": [
              "      polygon  ...  soils\n",
              "0           1  ...    5.0\n",
              "1           2  ...    5.0\n",
              "2           3  ...    8.0\n",
              "3           4  ...    8.0\n",
              "4           5  ...    5.0\n",
              "...       ...  ...    ...\n",
              "2385     2386  ...    5.0\n",
              "2386     2387  ...    5.0\n",
              "2387     2388  ...    8.0\n",
              "2388     2389  ...    5.0\n",
              "2389     2390  ...    5.0\n",
              "\n",
              "[2390 rows x 6 columns]"
            ]
          },
          "metadata": {
            "tags": []
          },
          "execution_count": 8
        }
      ]
    },
    {
      "cell_type": "markdown",
      "metadata": {
        "id": "tUHux_Co9hhd"
      },
      "source": [
        "# Use of the properties function in google colab "
      ]
    },
    {
      "cell_type": "code",
      "metadata": {
        "id": "D8dxMJAA9mI7"
      },
      "source": [
        "data = go.get_soils_data()"
      ],
      "execution_count": 9,
      "outputs": []
    },
    {
      "cell_type": "code",
      "metadata": {
        "id": "jUwvtC1D9m29"
      },
      "source": [
        "gp.get_physical_prop()"
      ],
      "execution_count": 8,
      "outputs": []
    },
    {
      "cell_type": "code",
      "metadata": {
        "id": "XZvI47T19m_V"
      },
      "source": [
        ""
      ],
      "execution_count": 8,
      "outputs": []
    },
    {
      "cell_type": "code",
      "metadata": {
        "id": "bTS-OuoK9nBi"
      },
      "source": [
        ""
      ],
      "execution_count": 8,
      "outputs": []
    },
    {
      "cell_type": "code",
      "metadata": {
        "id": "_rLmWtA39nDv"
      },
      "source": [
        ""
      ],
      "execution_count": null,
      "outputs": []
    },
    {
      "cell_type": "markdown",
      "metadata": {
        "id": "RqTyD5doCl0o"
      },
      "source": [
        "# Get Earth Engine data "
      ]
    },
    {
      "cell_type": "code",
      "metadata": {
        "id": "NBAYDyfFCT_x",
        "colab": {
          "base_uri": "https://localhost:8080/"
        },
        "outputId": "d077590e-333f-4e18-d7eb-32c434d36532"
      },
      "source": [
        "# Trigger the authentication flow.\n",
        "ee.Authenticate()\n",
        "# Initialize the library.\n",
        "ee.Initialize()"
      ],
      "execution_count": 6,
      "outputs": [
        {
          "output_type": "stream",
          "text": [
            "To authorize access needed by Earth Engine, open the following URL in a web browser and follow the instructions. If the web browser does not start automatically, please manually browse the URL below.\n",
            "\n",
            "    https://accounts.google.com/o/oauth2/auth?client_id=517222506229-vsmmajv00ul0bs7p89v5m89qs8eb9359.apps.googleusercontent.com&scope=https%3A%2F%2Fwww.googleapis.com%2Fauth%2Fearthengine+https%3A%2F%2Fwww.googleapis.com%2Fauth%2Fdevstorage.full_control&redirect_uri=urn%3Aietf%3Awg%3Aoauth%3A2.0%3Aoob&response_type=code&code_challenge=dnnCMXVMU1Nv8ERZ3Td4Jna5w5bNKlWVJdCy0E-mwm4&code_challenge_method=S256\n",
            "\n",
            "The authorization workflow will generate a code, which you should paste in the box below. \n",
            "Enter verification code: 4/1AY0e-g5GnanqMx_mALFncqCm4AXib4pZ56Yshoh07YB8IXI2g1PNTxKpnqo\n",
            "\n",
            "Successfully saved authorization token.\n"
          ],
          "name": "stdout"
        }
      ]
    },
    {
      "cell_type": "markdown",
      "metadata": {
        "id": "a5HyKg-YF4X3"
      },
      "source": [
        "## Resample soil data to the polygons "
      ]
    },
    {
      "cell_type": "code",
      "metadata": {
        "id": "jvY_IBAQTlwK"
      },
      "source": [
        "# Convert the boundary of the watershed to an ee feature \n",
        "cu.Save_Basin2Map('/content/drive/MyDrive/IIHR/2021_IWA/data/divisory.shp', EPSG=int(cu.epsg))\n",
        "shapefile = geop.read_file('/content/drive/MyDrive/IIHR/2021_IWA/data/divisory.shp')\n",
        "shapefile.to_crs(4326, inplace = True)\n",
        "boundary = ee.Feature(eval(shapefile.iloc[0:1].to_json())['features'][0])\n",
        "xc = shapefile.centroid.x[0]\n",
        "yc = shapefile.centroid.y[0]\n",
        "\n",
        "#Get the polygons in ee\n",
        "gp.write_mesh_file('/content/drive/MyDrive/IIHR/2021_IWA/data/mesh.mesh','/content/drive/MyDrive/IIHR/2021_IWA/data/mesh.shp')\n",
        "shapefile = geop.read_file('/content/drive/MyDrive/IIHR/2021_IWA/data/mesh.shp')\n",
        "shapefile.to_crs(4326, inplace = True)\n",
        "features = []\n",
        "for i in range(shapefile.shape[0]):\n",
        "    geom = shapefile.iloc[i:i+1,:] \n",
        "    jsonDict = eval(geom.to_json()) \n",
        "    geojsonDict = jsonDict['features'][0] \n",
        "    features.append(ee.Feature(geojsonDict)) \n",
        "polygons = ee.FeatureCollection(features)"
      ],
      "execution_count": 7,
      "outputs": []
    },
    {
      "cell_type": "code",
      "metadata": {
        "id": "xq1sj723hcGz"
      },
      "source": [
        "def shp2ee(path_shp, type = 'single'):\n",
        "  '''Converts a shapefile to an ee Feature or collection of Features.\n",
        "  Parameters:\n",
        "    - path_shp: path to the shapefile to convert.\n",
        "    - type:\n",
        "        - single: if the vector has only one feature.\n",
        "        - multiple: if the vector has multiple features\n",
        "  Returns:\n",
        "    - ee.Feature for type single or ee.FeatureCollection for type multiple'''\n",
        "  #Read the polygon into geopandas\n",
        "  shapefile = geop.read_file(path_shp)\n",
        "  shapefile.to_crs(4326, inplace = True)\n",
        "  \n",
        "  #If single, returns just one ee feature\n",
        "  if type == 'single':\n",
        "    return ee.Feature(eval(shapefile.iloc[0:1].to_json())['features'][0])\n",
        "  #If multiple, returns just an ee collection of features\n",
        "  elif type == 'multiple':\n",
        "    features = []\n",
        "    for i in range(shapefile.shape[0]):\n",
        "        geom = shapefile.iloc[i:i+1,:] \n",
        "        jsonDict = eval(geom.to_json()) \n",
        "        geojsonDict = jsonDict['features'][0] \n",
        "        features.append(ee.Feature(geojsonDict)) \n",
        "    return ee.FeatureCollection(features)\n",
        "\n"
      ],
      "execution_count": 18,
      "outputs": []
    },
    {
      "cell_type": "code",
      "metadata": {
        "id": "pr0jnXz0i-ub"
      },
      "source": [
        "boundary = shp2ee('/content/drive/MyDrive/IIHR/2021_IWA/data/divisory.shp')\n",
        "polygons = shp2ee('/content/drive/MyDrive/IIHR/2021_IWA/data/mesh.shp', type='multiple')"
      ],
      "execution_count": 17,
      "outputs": []
    },
    {
      "cell_type": "code",
      "metadata": {
        "id": "6MrCjKxWjU_S"
      },
      "source": [
        ""
      ],
      "execution_count": null,
      "outputs": []
    },
    {
      "cell_type": "code",
      "metadata": {
        "id": "0UpZJg-YUXiR"
      },
      "source": [
        "# Read the data and clip it with the watershed of interest\n",
        "data = ee.Image('OpenLandMap/SOL/SOL_TEXTURE-CLASS_USDA-TT_M/v02')\n"
      ],
      "execution_count": 15,
      "outputs": []
    },
    {
      "cell_type": "code",
      "metadata": {
        "id": "Gc4vPrQnYakV"
      },
      "source": [
        "land_use = ee.Image('USDA/NASS/CDL')"
      ],
      "execution_count": null,
      "outputs": []
    },
    {
      "cell_type": "code",
      "metadata": {
        "id": "q3dr4M49UnVx"
      },
      "source": [
        "def get_physical_properties(ee_data, boundary, poly_mesh, scale = 30, prop_name = 'feature',band = 'b0'):\n",
        "  '''Assigns ee_data to the elements in the poly_mesh\n",
        "  Parameters:\n",
        "    - ee_data: an Earth Engine image object.\n",
        "    - boundary: an ee.Feature describing the watershed divisory\n",
        "    - poly_mesh: an ee.FeatureCollection describing the polygons\n",
        "    - prop_name: name to assign to the property in the shapefile of polygons'''\n",
        "  #Clip the data to the boundary\n",
        "  data_c = ee_data.clip(boundary)\n",
        "  #Get the soils information for each polygon \n",
        "  d = data_c.reduceRegions(poly_mesh, reducer = ee.Reducer.mode(), scale = scale).getInfo()\n",
        "  soils = []\n",
        "  for i in range(shapefile.shape[0]):\n",
        "    soils.append(d['features'][i]['properties']['b0'])\n",
        "  shapefile[prop_name] = soils"
      ],
      "execution_count": 19,
      "outputs": []
    },
    {
      "cell_type": "code",
      "metadata": {
        "id": "F6pc3iDeotUC"
      },
      "source": [
        "#Clip the data to the boundary\n",
        "#data_c = ee_data.clip(boundary)\n",
        "#Get the soils information for each polygon \n",
        "d = data.reduceRegions(polygons, reducer = ee.Reducer.mode(), scale = 30).getInfo()\n",
        "soils = []\n",
        "for i in range(shapefile.shape[0]):\n",
        "  soils.append(d['features'][i]['properties']['b0'])\n",
        "shapefile['soils'] = soils"
      ],
      "execution_count": 25,
      "outputs": []
    },
    {
      "cell_type": "code",
      "metadata": {
        "id": "ROF9JcHBab_I"
      },
      "source": [
        "shapefile.to_file('/content/drive/MyDrive/IIHR/2021_IWA/data/mesh_soil.shp')"
      ],
      "execution_count": null,
      "outputs": []
    },
    {
      "cell_type": "code",
      "metadata": {
        "colab": {
          "base_uri": "https://localhost:8080/",
          "height": 419
        },
        "id": "aemD3r3khDtc",
        "outputId": "61302f09-fdbd-4340-9d3d-f0dc4eb2818e"
      },
      "source": [
        "shapefile"
      ],
      "execution_count": 20,
      "outputs": [
        {
          "output_type": "execute_result",
          "data": {
            "text/html": [
              "<div>\n",
              "<style scoped>\n",
              "    .dataframe tbody tr th:only-of-type {\n",
              "        vertical-align: middle;\n",
              "    }\n",
              "\n",
              "    .dataframe tbody tr th {\n",
              "        vertical-align: top;\n",
              "    }\n",
              "\n",
              "    .dataframe thead th {\n",
              "        text-align: right;\n",
              "    }\n",
              "</style>\n",
              "<table border=\"1\" class=\"dataframe\">\n",
              "  <thead>\n",
              "    <tr style=\"text-align: right;\">\n",
              "      <th></th>\n",
              "      <th>polygon</th>\n",
              "      <th>area[m2]</th>\n",
              "      <th>z[m]</th>\n",
              "      <th>nfaces</th>\n",
              "      <th>geometry</th>\n",
              "      <th>soil_texture</th>\n",
              "    </tr>\n",
              "  </thead>\n",
              "  <tbody>\n",
              "    <tr>\n",
              "      <th>0</th>\n",
              "      <td>1</td>\n",
              "      <td>63136.789673</td>\n",
              "      <td>363.152206</td>\n",
              "      <td>5</td>\n",
              "      <td>POLYGON ((-94.90956 41.44994, -94.90496 41.447...</td>\n",
              "      <td>5.0</td>\n",
              "    </tr>\n",
              "    <tr>\n",
              "      <th>1</th>\n",
              "      <td>2</td>\n",
              "      <td>123059.175171</td>\n",
              "      <td>363.387451</td>\n",
              "      <td>7</td>\n",
              "      <td>POLYGON ((-94.90893 41.45153, -94.90866 41.451...</td>\n",
              "      <td>5.0</td>\n",
              "    </tr>\n",
              "    <tr>\n",
              "      <th>2</th>\n",
              "      <td>3</td>\n",
              "      <td>58271.146484</td>\n",
              "      <td>364.064880</td>\n",
              "      <td>4</td>\n",
              "      <td>POLYGON ((-94.89890 41.44944, -94.90198 41.448...</td>\n",
              "      <td>8.0</td>\n",
              "    </tr>\n",
              "    <tr>\n",
              "      <th>3</th>\n",
              "      <td>4</td>\n",
              "      <td>45806.885620</td>\n",
              "      <td>364.779419</td>\n",
              "      <td>5</td>\n",
              "      <td>POLYGON ((-94.89443 41.45160, -94.89636 41.450...</td>\n",
              "      <td>8.0</td>\n",
              "    </tr>\n",
              "    <tr>\n",
              "      <th>4</th>\n",
              "      <td>5</td>\n",
              "      <td>60503.160889</td>\n",
              "      <td>365.442841</td>\n",
              "      <td>6</td>\n",
              "      <td>POLYGON ((-94.89415 41.44686, -94.89444 41.446...</td>\n",
              "      <td>5.0</td>\n",
              "    </tr>\n",
              "    <tr>\n",
              "      <th>...</th>\n",
              "      <td>...</td>\n",
              "      <td>...</td>\n",
              "      <td>...</td>\n",
              "      <td>...</td>\n",
              "      <td>...</td>\n",
              "      <td>...</td>\n",
              "    </tr>\n",
              "    <tr>\n",
              "      <th>2385</th>\n",
              "      <td>2386</td>\n",
              "      <td>262754.893555</td>\n",
              "      <td>423.937088</td>\n",
              "      <td>9</td>\n",
              "      <td>POLYGON ((-94.65669 41.63050, -94.65547 41.629...</td>\n",
              "      <td>5.0</td>\n",
              "    </tr>\n",
              "    <tr>\n",
              "      <th>2386</th>\n",
              "      <td>2387</td>\n",
              "      <td>242811.600708</td>\n",
              "      <td>433.160675</td>\n",
              "      <td>9</td>\n",
              "      <td>POLYGON ((-94.65808 41.62126, -94.66090 41.620...</td>\n",
              "      <td>5.0</td>\n",
              "    </tr>\n",
              "    <tr>\n",
              "      <th>2387</th>\n",
              "      <td>2388</td>\n",
              "      <td>152327.759644</td>\n",
              "      <td>443.068481</td>\n",
              "      <td>8</td>\n",
              "      <td>POLYGON ((-94.65536 41.54175, -94.65534 41.541...</td>\n",
              "      <td>8.0</td>\n",
              "    </tr>\n",
              "    <tr>\n",
              "      <th>2388</th>\n",
              "      <td>2389</td>\n",
              "      <td>179779.618896</td>\n",
              "      <td>453.776596</td>\n",
              "      <td>10</td>\n",
              "      <td>POLYGON ((-94.65931 41.53438, -94.66003 41.534...</td>\n",
              "      <td>5.0</td>\n",
              "    </tr>\n",
              "    <tr>\n",
              "      <th>2389</th>\n",
              "      <td>2390</td>\n",
              "      <td>154786.777344</td>\n",
              "      <td>428.278748</td>\n",
              "      <td>10</td>\n",
              "      <td>POLYGON ((-94.65681 41.63485, -94.65644 41.635...</td>\n",
              "      <td>8.0</td>\n",
              "    </tr>\n",
              "  </tbody>\n",
              "</table>\n",
              "<p>2390 rows × 6 columns</p>\n",
              "</div>"
            ],
            "text/plain": [
              "      polygon  ...  soil_texture\n",
              "0           1  ...           5.0\n",
              "1           2  ...           5.0\n",
              "2           3  ...           8.0\n",
              "3           4  ...           8.0\n",
              "4           5  ...           5.0\n",
              "...       ...  ...           ...\n",
              "2385     2386  ...           5.0\n",
              "2386     2387  ...           5.0\n",
              "2387     2388  ...           8.0\n",
              "2388     2389  ...           5.0\n",
              "2389     2390  ...           8.0\n",
              "\n",
              "[2390 rows x 6 columns]"
            ]
          },
          "metadata": {
            "tags": []
          },
          "execution_count": 20
        }
      ]
    },
    {
      "cell_type": "code",
      "metadata": {
        "id": "CqQ2_lLzhD1L"
      },
      "source": [
        ""
      ],
      "execution_count": null,
      "outputs": []
    },
    {
      "cell_type": "code",
      "metadata": {
        "colab": {
          "base_uri": "https://localhost:8080/",
          "height": 915
        },
        "id": "gZosnCZfDcZX",
        "outputId": "b333a2c3-d6ab-4d50-c949-4d0aa332f76a"
      },
      "source": [
        "# Define a method for displaying Earth Engine image tiles to folium map.\n",
        "def Mapdisplay(center, dicc, Tiles=\"OpensTreetMap\",zoom_start=10):\n",
        "    '''\n",
        "    :param center: Center of the map (Latitude and Longitude).\n",
        "    :param dicc: Earth Engine Geometries or Tiles dictionary\n",
        "    :param Tiles: Mapbox Bright,Mapbox Control Room,Stamen Terrain,Stamen Toner,stamenwatercolor,cartodbpositron.\n",
        "    :zoom_start: Initial zoom level for the map.\n",
        "    :return: A folium.Map object.\n",
        "    '''\n",
        "    mapViz = folium.Map(location=center,tiles=Tiles, zoom_start=zoom_start)\n",
        "    for k,v in dicc.items():\n",
        "      if ee.image.Image in [type(x) for x in v.values()]:        \n",
        "        folium.TileLayer(\n",
        "            tiles = v[\"tile_fetcher\"].url_format,\n",
        "            attr  = 'Google Earth Engine',\n",
        "            overlay =True,\n",
        "            name  = k\n",
        "          ).add_to(mapViz)\n",
        "      else:        \n",
        "        folium.GeoJson(\n",
        "        data = v,\n",
        "        name = k\n",
        "          ).add_to(mapViz)\n",
        "    mapViz.add_child(folium.LayerControl())\n",
        "    return mapViz\n",
        "\n",
        "def add_ee_layer(self, ee_image_object, vis_params, name):\n",
        "  map_id_dict = ee.Image(ee_image_object).getMapId(vis_params)\n",
        "  folium.raster_layers.TileLayer(\n",
        "    tiles = map_id_dict['tile_fetcher'].url_format,\n",
        "    attr = 'Map Data &copy; <a href=\"https://earthengine.google.com/\">Google Earth Engine</a>',\n",
        "    name = name,\n",
        "    overlay = True,\n",
        "    control = True\n",
        "  ).add_to(self)\n",
        "\n",
        "# Add EE drawing method to folium.\n",
        "folium.Map.add_ee_layer = add_ee_layer\n",
        "\n",
        "# Set visualization parameters.\n",
        "vis_params = {\n",
        "  'bands':['b10'],\n",
        "  'min': 0,\n",
        "  'max': 12,\n",
        "  'palette': [\"d5c36b\",\"b96947\",\"9d3706\",\"ae868f\",\"f86714\",\"46d143\",\n",
        "    \"368f20\",\"3e5a14\",\"ffd557\",\"fff72e\",\"ff5a9d\",\"ff005b\",]}\n",
        "\n",
        "# Create a folium map object.\n",
        "my_map = folium.Map(location=[yc, xc], zoom_start=10)\n",
        "\n",
        "# Add the elevation model to the map object.\n",
        "#my_map.add_ee_layer(data.updateMask(data.gt(0)), vis_params, 'soil_texture')\n",
        "my_map.add_ee_layer(data_c, vis_params, 'soil_texture')\n",
        "#my_map.add_ee_layer(fc.getInfo(), {}, 'divisory')\n",
        "folium.GeoJson(\n",
        "        data = boundary.getInfo(),\n",
        "        name = 'divisory'\n",
        "          ).add_to(my_map)\n",
        "# Add a layer control panel to the map.\n",
        "my_map.add_child(folium.LayerControl())\n",
        "\n",
        "# Display the map.\n",
        "display(my_map)"
      ],
      "execution_count": null,
      "outputs": [
        {
          "output_type": "display_data",
          "data": {
            "text/html": [
              "<div style=\"width:100%;\"><div style=\"position:relative;width:100%;height:0;padding-bottom:60%;\"><span style=\"color:#565656\">Make this Notebook Trusted to load map: File -> Trust Notebook</span><iframe src=\"about:blank\" style=\"position:absolute;width:100%;height:100%;left:0;top:0;border:none !important;\" data-html=%3C%21DOCTYPE%20html%3E%0A%3Chead%3E%20%20%20%20%0A%20%20%20%20%3Cmeta%20http-equiv%3D%22content-type%22%20content%3D%22text/html%3B%20charset%3DUTF-8%22%20/%3E%0A%20%20%20%20%0A%20%20%20%20%20%20%20%20%3Cscript%3E%0A%20%20%20%20%20%20%20%20%20%20%20%20L_NO_TOUCH%20%3D%20false%3B%0A%20%20%20%20%20%20%20%20%20%20%20%20L_DISABLE_3D%20%3D%20false%3B%0A%20%20%20%20%20%20%20%20%3C/script%3E%0A%20%20%20%20%0A%20%20%20%20%3Cstyle%3Ehtml%2C%20body%20%7Bwidth%3A%20100%25%3Bheight%3A%20100%25%3Bmargin%3A%200%3Bpadding%3A%200%3B%7D%3C/style%3E%0A%20%20%20%20%3Cstyle%3E%23map%20%7Bposition%3Aabsolute%3Btop%3A0%3Bbottom%3A0%3Bright%3A0%3Bleft%3A0%3B%7D%3C/style%3E%0A%20%20%20%20%3Cscript%20src%3D%22https%3A//cdn.jsdelivr.net/npm/leaflet%401.6.0/dist/leaflet.js%22%3E%3C/script%3E%0A%20%20%20%20%3Cscript%20src%3D%22https%3A//code.jquery.com/jquery-1.12.4.min.js%22%3E%3C/script%3E%0A%20%20%20%20%3Cscript%20src%3D%22https%3A//maxcdn.bootstrapcdn.com/bootstrap/3.2.0/js/bootstrap.min.js%22%3E%3C/script%3E%0A%20%20%20%20%3Cscript%20src%3D%22https%3A//cdnjs.cloudflare.com/ajax/libs/Leaflet.awesome-markers/2.0.2/leaflet.awesome-markers.js%22%3E%3C/script%3E%0A%20%20%20%20%3Clink%20rel%3D%22stylesheet%22%20href%3D%22https%3A//cdn.jsdelivr.net/npm/leaflet%401.6.0/dist/leaflet.css%22/%3E%0A%20%20%20%20%3Clink%20rel%3D%22stylesheet%22%20href%3D%22https%3A//maxcdn.bootstrapcdn.com/bootstrap/3.2.0/css/bootstrap.min.css%22/%3E%0A%20%20%20%20%3Clink%20rel%3D%22stylesheet%22%20href%3D%22https%3A//maxcdn.bootstrapcdn.com/bootstrap/3.2.0/css/bootstrap-theme.min.css%22/%3E%0A%20%20%20%20%3Clink%20rel%3D%22stylesheet%22%20href%3D%22https%3A//maxcdn.bootstrapcdn.com/font-awesome/4.6.3/css/font-awesome.min.css%22/%3E%0A%20%20%20%20%3Clink%20rel%3D%22stylesheet%22%20href%3D%22https%3A//cdnjs.cloudflare.com/ajax/libs/Leaflet.awesome-markers/2.0.2/leaflet.awesome-markers.css%22/%3E%0A%20%20%20%20%3Clink%20rel%3D%22stylesheet%22%20href%3D%22https%3A//cdn.jsdelivr.net/gh/python-visualization/folium/folium/templates/leaflet.awesome.rotate.min.css%22/%3E%0A%20%20%20%20%0A%20%20%20%20%20%20%20%20%20%20%20%20%3Cmeta%20name%3D%22viewport%22%20content%3D%22width%3Ddevice-width%2C%0A%20%20%20%20%20%20%20%20%20%20%20%20%20%20%20%20initial-scale%3D1.0%2C%20maximum-scale%3D1.0%2C%20user-scalable%3Dno%22%20/%3E%0A%20%20%20%20%20%20%20%20%20%20%20%20%3Cstyle%3E%0A%20%20%20%20%20%20%20%20%20%20%20%20%20%20%20%20%23map_c7338c4ae7c049d39de5df9ccc3c102b%20%7B%0A%20%20%20%20%20%20%20%20%20%20%20%20%20%20%20%20%20%20%20%20position%3A%20relative%3B%0A%20%20%20%20%20%20%20%20%20%20%20%20%20%20%20%20%20%20%20%20width%3A%20100.0%25%3B%0A%20%20%20%20%20%20%20%20%20%20%20%20%20%20%20%20%20%20%20%20height%3A%20100.0%25%3B%0A%20%20%20%20%20%20%20%20%20%20%20%20%20%20%20%20%20%20%20%20left%3A%200.0%25%3B%0A%20%20%20%20%20%20%20%20%20%20%20%20%20%20%20%20%20%20%20%20top%3A%200.0%25%3B%0A%20%20%20%20%20%20%20%20%20%20%20%20%20%20%20%20%7D%0A%20%20%20%20%20%20%20%20%20%20%20%20%3C/style%3E%0A%20%20%20%20%20%20%20%20%0A%3C/head%3E%0A%3Cbody%3E%20%20%20%20%0A%20%20%20%20%0A%20%20%20%20%20%20%20%20%20%20%20%20%3Cdiv%20class%3D%22folium-map%22%20id%3D%22map_c7338c4ae7c049d39de5df9ccc3c102b%22%20%3E%3C/div%3E%0A%20%20%20%20%20%20%20%20%0A%3C/body%3E%0A%3Cscript%3E%20%20%20%20%0A%20%20%20%20%0A%20%20%20%20%20%20%20%20%20%20%20%20var%20map_c7338c4ae7c049d39de5df9ccc3c102b%20%3D%20L.map%28%0A%20%20%20%20%20%20%20%20%20%20%20%20%20%20%20%20%22map_c7338c4ae7c049d39de5df9ccc3c102b%22%2C%0A%20%20%20%20%20%20%20%20%20%20%20%20%20%20%20%20%7B%0A%20%20%20%20%20%20%20%20%20%20%20%20%20%20%20%20%20%20%20%20center%3A%20%5B41.556781706204866%2C%20-94.77353624118085%5D%2C%0A%20%20%20%20%20%20%20%20%20%20%20%20%20%20%20%20%20%20%20%20crs%3A%20L.CRS.EPSG3857%2C%0A%20%20%20%20%20%20%20%20%20%20%20%20%20%20%20%20%20%20%20%20zoom%3A%2010%2C%0A%20%20%20%20%20%20%20%20%20%20%20%20%20%20%20%20%20%20%20%20zoomControl%3A%20true%2C%0A%20%20%20%20%20%20%20%20%20%20%20%20%20%20%20%20%20%20%20%20preferCanvas%3A%20false%2C%0A%20%20%20%20%20%20%20%20%20%20%20%20%20%20%20%20%7D%0A%20%20%20%20%20%20%20%20%20%20%20%20%29%3B%0A%0A%20%20%20%20%20%20%20%20%20%20%20%20%0A%0A%20%20%20%20%20%20%20%20%0A%20%20%20%20%0A%20%20%20%20%20%20%20%20%20%20%20%20var%20tile_layer_86f85bc5cce943a9a1c8c8383ee4f8cb%20%3D%20L.tileLayer%28%0A%20%20%20%20%20%20%20%20%20%20%20%20%20%20%20%20%22https%3A//%7Bs%7D.tile.openstreetmap.org/%7Bz%7D/%7Bx%7D/%7By%7D.png%22%2C%0A%20%20%20%20%20%20%20%20%20%20%20%20%20%20%20%20%7B%22attribution%22%3A%20%22Data%20by%20%5Cu0026copy%3B%20%5Cu003ca%20href%3D%5C%22http%3A//openstreetmap.org%5C%22%5Cu003eOpenStreetMap%5Cu003c/a%5Cu003e%2C%20under%20%5Cu003ca%20href%3D%5C%22http%3A//www.openstreetmap.org/copyright%5C%22%5Cu003eODbL%5Cu003c/a%5Cu003e.%22%2C%20%22detectRetina%22%3A%20false%2C%20%22maxNativeZoom%22%3A%2018%2C%20%22maxZoom%22%3A%2018%2C%20%22minZoom%22%3A%200%2C%20%22noWrap%22%3A%20false%2C%20%22opacity%22%3A%201%2C%20%22subdomains%22%3A%20%22abc%22%2C%20%22tms%22%3A%20false%7D%0A%20%20%20%20%20%20%20%20%20%20%20%20%29.addTo%28map_c7338c4ae7c049d39de5df9ccc3c102b%29%3B%0A%20%20%20%20%20%20%20%20%0A%20%20%20%20%0A%20%20%20%20%20%20%20%20%20%20%20%20var%20tile_layer_f69a4ae66899418793035d42e6110e6b%20%3D%20L.tileLayer%28%0A%20%20%20%20%20%20%20%20%20%20%20%20%20%20%20%20%22https%3A//earthengine.googleapis.com/v1alpha/projects/earthengine-legacy/maps/e59ecc9802d2d863a383108a904834f5-35327a3a80b9742fe12dbf15141d80ae/tiles/%7Bz%7D/%7Bx%7D/%7By%7D%22%2C%0A%20%20%20%20%20%20%20%20%20%20%20%20%20%20%20%20%7B%22attribution%22%3A%20%22Map%20Data%20%5Cu0026copy%3B%20%5Cu003ca%20href%3D%5C%22https%3A//earthengine.google.com/%5C%22%5Cu003eGoogle%20Earth%20Engine%5Cu003c/a%5Cu003e%22%2C%20%22detectRetina%22%3A%20false%2C%20%22maxNativeZoom%22%3A%2018%2C%20%22maxZoom%22%3A%2018%2C%20%22minZoom%22%3A%200%2C%20%22noWrap%22%3A%20false%2C%20%22opacity%22%3A%201%2C%20%22subdomains%22%3A%20%22abc%22%2C%20%22tms%22%3A%20false%7D%0A%20%20%20%20%20%20%20%20%20%20%20%20%29.addTo%28map_c7338c4ae7c049d39de5df9ccc3c102b%29%3B%0A%20%20%20%20%20%20%20%20%0A%20%20%20%20%0A%0A%20%20%20%20%20%20%20%20function%20geo_json_4a24e78e5eb6472297a21650659e4b18_onEachFeature%28feature%2C%20layer%29%20%7B%0A%20%20%20%20%20%20%20%20%20%20%20%20layer.on%28%7B%0A%20%20%20%20%20%20%20%20%20%20%20%20%7D%29%3B%0A%20%20%20%20%20%20%20%20%7D%3B%0A%20%20%20%20%20%20%20%20var%20geo_json_4a24e78e5eb6472297a21650659e4b18%20%3D%20L.geoJson%28null%2C%20%7B%0A%20%20%20%20%20%20%20%20%20%20%20%20%20%20%20%20onEachFeature%3A%20geo_json_4a24e78e5eb6472297a21650659e4b18_onEachFeature%2C%0A%20%20%20%20%20%20%20%20%20%20%20%20%0A%20%20%20%20%20%20%20%20%7D%29%3B%0A%0A%20%20%20%20%20%20%20%20function%20geo_json_4a24e78e5eb6472297a21650659e4b18_add%20%28data%29%20%7B%0A%20%20%20%20%20%20%20%20%20%20%20%20geo_json_4a24e78e5eb6472297a21650659e4b18%0A%20%20%20%20%20%20%20%20%20%20%20%20%20%20%20%20.addData%28data%29%0A%20%20%20%20%20%20%20%20%20%20%20%20%20%20%20%20.addTo%28map_c7338c4ae7c049d39de5df9ccc3c102b%29%3B%0A%20%20%20%20%20%20%20%20%7D%0A%20%20%20%20%20%20%20%20%20%20%20%20geo_json_4a24e78e5eb6472297a21650659e4b18_add%28%7B%22geometry%22%3A%20%7B%22coordinates%22%3A%20%5B%5B%5B-94.71742613872058%2C%2041.69389322544024%5D%2C%20%5B-94.71735683071749%2C%2041.69128835577017%5D%2C%20%5B-94.7208320920054%2C%2041.691236357163966%5D%2C%20%5B-94.72085524035124%2C%2041.69210464561999%5D%2C%20%5B-94.72433053918363%2C%2041.69205254040019%5D%2C%20%5B-94.72430734414569%2C%2041.69118425352344%5D%2C%20%5B-94.73357463832455%2C%2041.69104479698696%5D%2C%20%5B-94.73352800230039%2C%2041.6893082312605%5D%2C%20%5B-94.73816150033845%2C%2041.6892382271513%5D%2C%20%5B-94.73811474392112%2C%2041.68750166509915%5D%2C%20%5B-94.74043142454008%2C%2041.68746659515445%5D%2C%20%5B-94.74040801675136%2C%2041.68659831497779%5D%2C%20%5B-94.74388298329038%2C%2041.68654562414365%5D%2C%20%5B-94.74385952985222%2C%2041.68567734542166%5D%2C%20%5B-94.74501783441427%2C%2041.685659759007045%5D%2C%20%5B-94.74499436644759%2C%2041.68479148067567%5D%2C%20%5B-94.746152654421%2C%2041.68477388312671%5D%2C%20%5B-94.7460822100324%2C%2041.68216904887802%5D%2C%20%5B-94.74724045030435%2C%2041.682151441262874%5D%2C%20%5B-94.74716996852956%2C%2041.67954660733312%5D%2C%20%5B-94.74948635264997%2C%2041.6795113603093%5D%2C%20%5B-94.74946282968133%2C%2041.67864308311614%5D%2C%20%5B-94.75062100463947%2C%2041.678625442641206%5D%2C%20%5B-94.75059746715102%2C%2041.677757165840255%5D%2C%20%5B-94.75407193916483%2C%2041.677704176033146%5D%2C%20%5B-94.75397761293524%2C%2041.67423107382868%5D%2C%20%5B-94.75281951883457%2C%2041.674248746619185%5D%2C%20%5B-94.75270171207733%2C%2041.669907362978016%5D%2C%20%5B-94.7538597284399%2C%2041.66988969286581%5D%2C%20%5B-94.75383615464585%2C%2041.6690214162456%5D%2C%20%5B-94.75499415442796%2C%2041.6690037350082%5D%2C%20%5B-94.75497056612397%2C%2041.6681354587814%5D%2C%20%5B-94.75612854932572%2C%2041.668117766419556%5D%2C%20%5B-94.75608134473669%2C%2041.66638121461089%5D%2C%20%5B-94.75839724585617%2C%2041.66634579705332%5D%2C%20%5B-94.75837361403049%2C%2041.66547752200873%5D%2C%20%5B-94.75953154749179%2C%2041.66545979627783%5D%2C%20%5B-94.75948425586945%2C%2041.66372324683546%5D%2C%20%5B-94.76295795677339%2C%2041.66367000291555%5D%2C%20%5B-94.7629342658979%2C%2041.66280172959443%5D%2C%20%5B-94.76177638217608%2C%2041.662819488687866%5D%2C%20%5B-94.76175270788028%2C%2041.66195121468577%5D%2C%20%5B-94.76059483865892%2C%2041.66196896158312%5D%2C%20%5B-94.76057118094141%2C%2041.66110068690044%5D%2C%20%5B-94.75941332622064%2C%2041.661118421602396%5D%2C%20%5B-94.7593896850801%2C%2041.660250146239484%5D%2C%20%5B-94.75823184486%2C%2041.66026786874673%5D%2C%20%5B-94.75820822029502%2C%2041.659399592704%5D%2C%20%5B-94.7570503945757%2C%2041.65941730301722%5D%2C%20%5B-94.75686155966328%2C%2041.65247108524793%5D%2C%20%5B-94.75570385718646%2C%2041.652488779612696%5D%2C%20%5B-94.75568027301645%2C%2041.65162050121359%5D%2C%20%5B-94.75683795996147%2C%2041.651602807385224%5D%2C%20%5B-94.75681436129555%2C%2041.650734529379946%5D%2C%20%5B-94.75565668988165%2C%2041.650752222671954%5D%2C%20%5B-94.75558594668792%2C%2041.64814738619174%5D%2C%20%5B-94.75674357151257%2C%2041.648129694508775%5D%2C%20%5B-94.75669638350236%2C%2041.646393137215206%5D%2C%20%5B-94.7555387897338%2C%2041.646410827825534%5D%2C%20%5B-94.7555152128091%2C%2041.64554254842864%5D%2C%20%5B-94.75435763353272%2C%2041.645560226851465%5D%2C%20%5B-94.75428695554457%2C%2041.642955386197755%5D%2C%20%5B-94.7554444882438%2C%2041.64293770938265%5D%2C%20%5B-94.75542091545813%2C%2041.64206942941558%5D%2C%20%5B-94.7577359467033%2C%2041.642034041907785%5D%2C%20%5B-94.75775955053754%2C%2041.64290232080203%5D%2C%20%5B-94.76007460868712%2C%2041.64286688562106%5D%2C%20%5B-94.76005097380454%2C%2041.64199860780105%5D%2C%20%5B-94.76352350667459%2C%2041.64194536926847%5D%2C%20%5B-94.7635471881293%2C%2041.64281364547449%5D%2C%20%5B-94.76586223589467%2C%2041.6427780937937%5D%2C%20%5B-94.765885949438%2C%2041.64364636877931%5D%2C%20%5B-94.76820102408914%2C%2041.64361076941981%5D%2C%20%5B-94.76822476972363%2C%2041.644479043183495%5D%2C%20%5B-94.77285496861388%2C%2041.6444077025%5D%2C%20%5B-94.77283116087936%2C%2041.643539430899%5D%2C%20%5B-94.77398869246628%2C%2041.6435215671436%5D%2C%20%5B-94.77394104908424%2C%2041.641785024596416%5D%2C%20%5B-94.77625604702543%2C%2041.64174926430382%5D%2C%20%5B-94.77623219585722%2C%2041.64088099390016%5D%2C%20%5B-94.77970463834787%2C%2041.64082726772072%5D%2C%20%5B-94.77968074166064%2C%2041.639958998802996%5D%2C%20%5B-94.7808382048722%2C%2041.63994106732246%5D%2C%20%5B-94.78081429371264%2C%2041.6390727988055%5D%2C%20%5B-94.78312918594446%2C%2041.63903690198744%5D%2C%20%5B-94.7830573656439%2C%2041.6364320988441%5D%2C%20%5B-94.78421476362504%2C%2041.63641413459692%5D%2C%20%5B-94.78419081010793%2C%2041.63554586714132%5D%2C%20%5B-94.78534819151955%2C%2041.63552789179215%5D%2C%20%5B-94.78532422353615%2C%2041.63465962473862%5D%2C%20%5B-94.78648158837834%2C%2041.63464163828821%5D%2C%20%5B-94.78643362453425%2C%2041.63290510484297%5D%2C%20%5B-94.78527629072502%2C%2041.632923090202844%5D%2C%20%5B-94.78510855901449%2C%2041.626845214826346%5D%2C%20%5B-94.78279410543011%2C%2041.62688114298411%5D%2C%20%5B-94.78274625358948%2C%2041.62514460369778%5D%2C%20%5B-94.78506064513213%2C%2041.625108677718465%5D%2C%20%5B-94.78503668976796%2C%2041.624240408950186%5D%2C%20%5B-94.78966539819514%2C%2041.62416841946664%5D%2C%20%5B-94.78954532699784%2C%2041.61982708439405%5D%2C%20%5B-94.79070242393603%2C%2041.61980906065093%5D%2C%20%5B-94.79067839735286%2C%2041.61894079375404%5D%2C%20%5B-94.7918354777317%2C%2041.61892275891766%5D%2C%20%5B-94.79181143669857%2C%2041.618054492424584%5D%2C%20%5B-94.79412556328204%2C%2041.61801838892748%5D%2C%20%5B-94.7941496353236%2C%2041.61888665432593%5D%2C%20%5B-94.79993501080502%2C%2041.6187961891541%5D%2C%20%5B-94.79991086124326%2C%2041.61792792649837%5D%2C%20%5B-94.80106791765907%2C%2041.61790979909513%5D%2C%20%5B-94.80104375365384%2C%2041.61704153684592%5D%2C%20%5B-94.80220079350612%2C%2041.61702339835355%5D%2C%20%5B-94.80215243767238%2C%2041.615286874525715%5D%2C%20%5B-94.80330944545949%2C%2041.615268725495206%5D%2C%20%5B-94.80323687316451%2C%2041.612663940330954%5D%2C%20%5B-94.80439383338907%2C%2041.61264578131425%5D%2C%20%5B-94.80434542616909%2C%2041.610909258257%5D%2C%20%5B-94.80550235433444%2C%2041.61089108870523%5D%2C%20%5B-94.80547813681993%2C%2041.61002282751281%5D%2C%20%5B-94.80779195896693%2C%2041.60998645460375%5D%2C%20%5B-94.80776771152149%2C%2041.60911819437098%5D%2C%20%5B-94.80892460550264%2C%2041.609099991014794%5D%2C%20%5B-94.80890034362511%2C%2041.60823173119077%5D%2C%20%5B-94.81005722104568%2C%2041.60821351675151%5D%2C%20%5B-94.8099601222035%2C%2041.60474047823262%5D%2C%20%5B-94.81111693658195%2C%2041.60472225436872%5D%2C%20%5B-94.81106836256686%2C%2041.60298573535525%5D%2C%20%5B-94.81338192615753%2C%2041.60294925493919%5D%2C%20%5B-94.81335760976623%2C%2041.602080996323735%5D%2C%20%5B-94.81682790067556%2C%2041.602026190115936%5D%2C%20%5B-94.81680353888035%2C%2041.60115793301899%5D%2C%20%5B-94.81796028488966%2C%2041.601139641573035%5D%2C%20%5B-94.81793590867385%2C%2041.60027138488739%5D%2C%20%5B-94.81909263812418%2C%2041.60025308236447%5D%2C%20%5B-94.81904385792419%2C%2041.59851656967322%5D%2C%20%5B-94.8202005553276%2C%2041.59849825662932%5D%2C%20%5B-94.82017615134541%2C%2041.59763000062402%5D%2C%20%5B-94.8224895119648%2C%2041.59759334075543%5D%2C%20%5B-94.82246507808014%2C%2041.59672508571836%5D%2C%20%5B-94.82477840343836%2C%2041.59668838044121%5D%2C%20%5B-94.82475393965412%2C%2041.59582012637371%5D%2C%20%5B-94.8259105852378%2C%2041.59580175684715%5D%2C%20%5B-94.82581267889735%2C%2041.59232874137139%5D%2C%20%5B-94.8269692614712%2C%2041.59231036244446%5D%2C%20%5B-94.82692028377994%2C%2041.590573854960866%5D%2C%20%5B-94.82807683431561%2C%2041.59055546552102%5D%2C%20%5B-94.82805233160066%2C%2041.58968721212173%5D%2C%20%5B-94.83152193031262%2C%2041.58963197571273%5D%2C%20%5B-94.83149738223243%2C%2041.58876372384488%5D%2C%20%5B-94.83265389750336%2C%2041.58874528901355%5D%2C%20%5B-94.83258021328845%2C%2041.58614053422622%5D%2C%20%5B-94.83142374445332%2C%2041.586158967380676%5D%2C%20%5B-94.83130103635635%2C%2041.58181770373823%5D%2C%20%5B-94.83245742781202%2C%2041.581799273378245%5D%2C%20%5B-94.83243287394852%2C%2041.5809310207783%5D%2C%20%5B-94.83474562268009%2C%2041.58089412630584%5D%2C%20%5B-94.83472103894754%2C%2041.58002587468117%5D%2C%20%5B-94.83703375241919%2C%2041.579988934835434%5D%2C%20%5B-94.83700913882043%2C%2041.57912068418741%5D%2C%20%5B-94.84047815451129%2C%2041.579065188929654%5D%2C%20%5B-94.8404534955778%2C%2041.57819693982088%5D%2C%20%5B-94.8416098165074%2C%2041.578178418718224%5D%2C%20%5B-94.84156047094474%2C%2041.57644192119323%5D%2C%20%5B-94.84387304767496%2C%2041.57640484637014%5D%2C%20%5B-94.84384834557854%2C%2041.57553659851652%5D%2C%20%5B-94.84847342415348%2C%2041.57546231166712%5D%2C%20%5B-94.84834962058258%2C%2041.57112108150757%5D%2C%20%5B-94.84719342990154%2C%2041.571139667833066%5D%2C%20%5B-94.84714394700494%2C%2041.56940317363655%5D%2C%20%5B-94.84830010675674%2C%2041.56938458843824%5D%2C%20%5B-94.84825059727454%2C%2041.567648094794365%5D%2C%20%5B-94.85056285166701%2C%2041.56761089179894%5D%2C%20%5B-94.8505380676303%2C%2041.566742645889676%5D%2C%20%5B-94.85169417773406%2C%2041.56672402753011%5D%2C%20%5B-94.85164458199976%2C%2041.56498753640973%5D%2C%20%5B-94.85048850281814%2C%2041.56500615364016%5D%2C%20%5B-94.85046372204256%2C%2041.56413790729989%5D%2C%20%5B-94.84930765723405%2C%2041.56415651234953%5D%2C%20%5B-94.84925812986184%2C%2041.56242001810967%5D%2C%20%5B-94.84810209488536%2C%2041.5624386104154%5D%2C%20%5B-94.84800311500273%2C%2041.55896561795678%5D%2C%20%5B-94.85031506021284%2C%2041.55892842624143%5D%2C%20%5B-94.85026551496303%2C%2041.55719193140601%5D%2C%20%5B-94.85142145502857%2C%2041.55717331925602%5D%2C%20%5B-94.85137188321751%2C%2041.55543682497481%5D%2C%20%5B-94.85368369827225%2C%2041.55539956809447%5D%2C%20%5B-94.8536340690007%2C%2041.55366307549822%5D%2C%20%5B-94.85478994399159%2C%2041.55364443077001%5D%2C%20%5B-94.85474028817177%2C%2041.55190793872978%5D%2C%20%5B-94.85936365363384%2C%2041.551833248228654%5D%2C%20%5B-94.85938854280036%2C%2041.55270149205549%5D%2C%20%5B-94.86054439688876%2C%2041.552682789835345%5D%2C%20%5B-94.86044478497546%2C%2041.54920981593392%5D%2C%20%5B-94.86160057617528%2C%2041.54919110437234%5D%2C%20%5B-94.86157566047994%2C%2041.548322861104985%5D%2C%20%5B-94.8650429811783%2C%2041.54826665846523%5D%2C%20%5B-94.86501802023595%2C%2041.547398416758504%5D%2C%20%5B-94.86617377616702%2C%2041.54737965989508%5D%2C%20%5B-94.86607388156474%2C%2041.543906693905015%5D%2C%20%5B-94.86491818741281%2C%2041.543925448493226%5D%2C%20%5B-94.86489323194333%2C%2041.54305720606733%5D%2C%20%5B-94.86604891065218%2C%2041.54303845204788%5D%2C%20%5B-94.86597400448477%2C%2041.540433725613404%5D%2C%20%5B-94.86712963577348%2C%2041.54041496169389%5D%2C%20%5B-94.8671046538006%2C%2041.53954671983043%5D%2C%20%5B-94.86826026855343%2C%2041.53952794487406%5D%2C%20%5B-94.86823527223649%2C%2041.538659703436146%5D%2C%20%5B-94.86939087045356%2C%2041.538640917443644%5D%2C%20%5B-94.86934085023107%2C%2041.53690443527566%5D%2C%20%5B-94.87049641647434%2C%2041.53688563881781%5D%2C%20%5B-94.87042134805559%2C%2041.53428091619682%5D%2C%20%5B-94.87157686689127%2C%2041.53426210984538%5D%2C%20%5B-94.87152679589498%2C%2041.53252562851929%5D%2C%20%5B-94.87383776853211%2C%2041.532487983288945%5D%2C%20%5B-94.87381270381282%2C%2041.53161974355175%5D%2C%20%5B-94.87612364118567%2C%2041.53158205305289%5D%2C%20%5B-94.87609854669917%2C%2041.53071381431484%5D%2C%20%5B-94.87725399830217%2C%2041.53069495223374%5D%2C%20%5B-94.87720378176618%2C%2041.528958475469864%5D%2C%20%5B-94.87951461994041%2C%2041.52892071879163%5D%2C%20%5B-94.87953975852116%2C%2041.529788956100425%5D%2C%20%5B-94.88993861454455%2C%2041.52961847161496%5D%2C%20%5B-94.88991333708182%2C%2041.52875023947669%5D%2C%20%5B-94.89106874456456%2C%2041.528731239324856%5D%2C%20%5B-94.89104345277987%2C%2041.527863007618706%5D%2C%20%5B-94.89219884372321%2C%2041.52784399644245%5D%2C%20%5B-94.89212292873606%2C%2041.52523930218872%5D%2C%20%5B-94.89327827228298%2C%2041.52522028114257%5D%2C%20%5B-94.89322763698482%2C%2041.52348381873966%5D%2C%20%5B-94.8943829485672%2C%2041.523464787248415%5D%2C%20%5B-94.8942563026233%2C%2041.51912363160383%5D%2C%20%5B-94.89541153597119%2C%2041.519104591401415%5D%2C%20%5B-94.89528484068249%2C%2041.514763435039285%5D%2C%20%5B-94.89412968444145%2C%2041.51478247235443%5D%2C%20%5B-94.89410436413591%2C%2041.51391424007199%5D%2C%20%5B-94.89294922220407%2C%2041.513933265214774%5D%2C%20%5B-94.8929239184274%2C%2041.5130650322111%5D%2C%20%5B-94.89176879080486%2C%2041.51308404518222%5D%2C%20%5B-94.89179407916274%2C%2041.51395227876258%5D%2C%20%5B-94.89063893501263%2C%2041.51397128071536%5D%2C%20%5B-94.89061366207358%2C%2041.513103046558655%5D%2C%20%5B-94.88945853223424%2C%2041.51312203634039%5D%2C%20%5B-94.88943327582147%2C%2041.51225380146358%5D%2C%20%5B-94.88827816029303%2C%2041.51227277907496%5D%2C%20%5B-94.88825292040518%2C%2041.51140454347842%5D%2C%20%5B-94.88940802051604%2C%2041.511385566442634%5D%2C%20%5B-94.88930701036654%2C%2041.50791262491769%5D%2C%20%5B-94.88815197191933%2C%2041.5079315996512%5D%2C%20%5B-94.88812673756397%2C%2041.50706336333415%5D%2C%20%5B-94.88697171342463%2C%2041.50708232589981%5D%2C%20%5B-94.8869464955892%2C%2041.50621408886351%5D%2C%20%5B-94.88579148575788%2C%2041.506233039262014%5D%2C%20%5B-94.88576628444102%2C%2041.505364801506815%5D%2C%20%5B-94.88461128891784%2C%2041.50538373973888%5D%2C%20%5B-94.88453573783127%2C%2041.50277902388562%5D%2C%20%5B-94.88338078743912%2C%2041.50279794880379%5D%2C%20%5B-94.8833304563884%2C%2041.501061469699984%5D%2C%20%5B-94.88448537596042%2C%2041.50104254592986%5D%2C%20%5B-94.88446019668089%2C%2041.50017430673592%5D%2C%20%5B-94.88561509974%2C%2041.500155371950214%5D%2C%20%5B-94.88551433203064%2C%2041.49668241603125%5D%2C%20%5B-94.8866691723562%2C%2041.49666347195465%5D%2C%20%5B-94.8866439677842%2C%2041.4957952331894%5D%2C%20%5B-94.88895361430879%2C%2041.49575731142217%5D%2C%20%5B-94.88887791479732%2C%2041.49315259771275%5D%2C%20%5B-94.89003269018839%2C%2041.49313362117451%5D%2C%20%5B-94.89000744382749%2C%2041.492265383558795%5D%2C%20%5B-94.89231696048338%2C%2041.492227396874775%5D%2C%20%5B-94.89229168442533%2C%2041.49135916026722%5D%2C%20%5B-94.89344642568965%2C%2041.49134015012256%5D%2C%20%5B-94.89342113533843%2C%2041.490471913947495%5D%2C%20%5B-94.89457586009293%2C%2041.49045289279398%5D%2C%20%5B-94.89455055544988%2C%2041.48958465705176%5D%2C%20%5B-94.89685997082952%2C%2041.48954658114346%5D%2C%20%5B-94.89683463649635%2C%2041.48867834641204%5D%2C%20%5B-94.89798932712101%2C%2041.488659291658344%5D%2C%20%5B-94.89783725205798%2C%2041.48344988370959%5D%2C%20%5B-94.89899184918823%2C%2041.48343082084114%5D%2C%20%5B-94.89889042645602%2C%2041.47995788163746%5D%2C%20%5B-94.90004496089963%2C%2041.47993880950087%5D%2C%20%5B-94.90001959260299%2C%2041.479070574917976%5D%2C%20%5B-94.90117411054256%2C%2041.47905149177922%5D%2C%20%5B-94.901123346503%2C%2041.47731502333847%5D%2C%20%5B-94.90227783254802%2C%2041.47729592977748%5D%2C%20%5B-94.90212547479831%2C%2041.47208652446849%5D%2C%20%5B-94.90327986740087%2C%2041.47206742280469%5D%2C%20%5B-94.90325446295203%2C%2041.47119918866111%5D%2C%20%5B-94.90440883905528%2C%2041.4711800759993%5D%2C%20%5B-94.9043834203348%2C%2041.47031184229126%5D%2C%20%5B-94.90553777993881%2C%2041.47029271863217%5D%2C%20%5B-94.90551234694803%2C%2041.46942448535999%5D%2C%20%5B-94.90782103204249%2C%2041.46938620447203%5D%2C%20%5B-94.90779556939913%2C%2041.46851797221686%5D%2C%20%5B-94.91010421926234%2C%2041.46847964618504%5D%2C%20%5B-94.91007872696927%2C%2041.46761141494822%5D%2C%20%5B-94.91238734159764%2C%2041.467573043775594%5D%2C%20%5B-94.91236181965772%2C%2041.466704813558465%5D%2C%20%5B-94.91697897395792%2C%2041.466627934636065%5D%2C%20%5B-94.91682549669748%2C%2041.46141856429384%5D%2C%20%5B-94.91220871150627%2C%2041.4614954292237%5D%2C%20%5B-94.91218319739518%2C%2041.46062719799592%5D%2C%20%5B-94.91102901367742%2C%2041.46064638471299%5D%2C%20%5B-94.91100351606117%2C%2041.459778152758766%5D%2C%20%5B-94.90984934660263%2C%2041.45979732732108%5D%2C%20%5B-94.90972195215548%2C%2041.4554561624762%5D%2C%20%5B-94.90856785845389%2C%2041.45547532255917%5D%2C%20%5B-94.90846602448033%2C%2041.45200238576019%5D%2C%20%5B-94.90731199115001%2C%2041.45202153194852%5D%2C%20%5B-94.90728655081585%2C%2041.451153296807114%5D%2C%20%5B-94.90613253174077%2C%2041.45117243084529%5D%2C%20%5B-94.90603084302616%2C%2041.447699486514765%5D%2C%20%5B-94.90833875711397%2C%2041.447661211514394%5D%2C%20%5B-94.90831330698687%2C%2041.446792976232295%5D%2C%20%5B-94.90946724699145%2C%2041.44677382196148%5D%2C%20%5B-94.90941631935166%2C%2041.4450373521266%5D%2C%20%5B-94.90133893104428%2C%2041.445171180983%5D%2C%20%5B-94.90131357645194%2C%2041.444302941788756%5D%2C%20%5B-94.89900577194128%2C%2041.444341073345605%5D%2C%20%5B-94.8989804491888%2C%2041.44347283285025%5D%2C%20%5B-94.89667267096831%2C%2041.443510916984835%5D%2C%20%5B-94.89664738005318%2C%2041.442642675189816%5D%2C%20%5B-94.89433962812734%2C%2041.44268071190471%5D%2C%20%5B-94.89431436904704%2C%2041.44181246881149%5D%2C%20%5B-94.89200664342033%2C%2041.441850458109286%5D%2C%20%5B-94.89198141617233%2C%2041.44098221371935%5D%2C%20%5B-94.89082756706318%2C%2041.44100119044374%5D%2C%20%5B-94.89075193803608%2C%2041.438396454682156%5D%2C%20%5B-94.88844432867336%2C%2041.438434369983035%5D%2C%20%5B-94.8883939762846%2C%2041.43669787645422%5D%2C%20%5B-94.88608642394868%2C%2041.43673574319908%5D%2C%20%5B-94.88611156887218%2C%2041.43760399118447%5D%2C%20%5B-94.88149638954467%2C%2041.43767958820104%5D%2C%20%5B-94.88144622367527%2C%2041.43594308749894%5D%2C%20%5B-94.87798491979382%2C%2041.43599966040256%5D%2C%20%5B-94.87800995610097%2C%2041.436867912542134%5D%2C%20%5B-94.87108722657815%2C%2041.43698074955081%5D%2C%20%5B-94.87106228242847%2C%2041.43611249398762%5D%2C%20%5B-94.86990850570473%2C%2041.43613125911151%5D%2C%20%5B-94.86993343449467%2C%2041.43699951524409%5D%2C%20%5B-94.86877964131875%2C%2041.43701826937304%5D%2C%20%5B-94.86882947145423%2C%2041.438754782344915%5D%2C%20%5B-94.86652182038422%2C%2041.438792258183824%5D%2C%20%5B-94.86654670636587%2C%2041.439660515591186%5D%2C%20%5B-94.86539286383277%2C%2041.439679236731%5D%2C%20%5B-94.86541773554228%2C%2041.44054749456264%5D%2C%20%5B-94.86657159343807%2C%2041.44052877285479%5D%2C%20%5B-94.86674583348366%2C%2041.44660656967488%5D%2C%20%5B-94.86443790148665%2C%2041.446644009475605%5D%2C%20%5B-94.86446276654911%2C%2041.44751226672511%5D%2C%20%5B-94.86330878354762%2C%2041.44753096984045%5D%2C%20%5B-94.86333363433094%2C%2041.44839922751368%5D%2C%20%5B-94.86102563432371%2C%2041.44843660017206%5D%2C%20%5B-94.86100081427821%2C%2041.447568341364935%5D%2C%20%5B-94.85984682801165%2C%2041.44758700977402%5D%2C%20%5B-94.85987163268814%2C%2041.448455269147566%5D%2C%20%5B-94.8587176299655%2C%2041.448473926553916%5D%2C%20%5B-94.85869284065807%2C%2041.447605666614294%5D%2C%20%5B-94.85523087208196%2C%2041.447661567721944%5D%2C%20%5B-94.85528035956618%2C%2041.44939809084974%5D%2C%20%5B-94.84604814978542%2C%2041.4495466604498%5D%2C%20%5B-94.84614664586918%2C%2041.453019723013625%5D%2C%20%5B-94.84499255329553%2C%2041.45303824439711%5D%2C%20%5B-94.84501716464077%2C%2041.45390651024127%5D%2C%20%5B-94.84386305561469%2C%2041.45392502061504%5D%2C%20%5B-94.84391225079153%2C%2041.45566155299611%5D%2C%20%5B-94.84275810993776%2C%2041.45568005292071%5D%2C%20%5B-94.8427826937674%2C%2041.45654831945732%5D%2C%20%5B-94.83932021861635%2C%2041.45660375147817%5D%2C%20%5B-94.83934475739349%2C%2041.45747201955314%5D%2C%20%5B-94.83819058148124%2C%2041.45749047430761%5D%2C%20%5B-94.83821510595645%2C%2041.458358742799064%5D%2C%20%5B-94.83359833005561%2C%2041.45843244832024%5D%2C%20%5B-94.83362279409269%2C%2041.45930071890452%5D%2C%20%5B-94.83131436894962%2C%2041.459337503338844%5D%2C%20%5B-94.8313388033008%2C%2041.4602057748958%5D%2C%20%5B-94.82903034311573%2C%2041.46024251414817%5D%2C%20%5B-94.82905474777813%2C%2041.46111078667647%5D%2C%20%5B-94.8267462525547%2C%2041.46114748074388%5D%2C%20%5B-94.82664876335426%2C%2041.45767438531813%5D%2C%20%5B-94.82549457565591%2C%2041.45769271276508%5D%2C%20%5B-94.82547022140353%2C%2041.45682443799445%5D%2C%20%5B-94.82316187356011%2C%2041.45686105705651%5D%2C%20%5B-94.82313755112864%2C%2041.45599278103165%5D%2C%20%5B-94.82198339098443%2C%2041.456011072647755%5D%2C%20%5B-94.8219590849951%2C%2041.455142795924715%5D%2C%20%5B-94.81965079226393%2C%2041.45517934332908%5D%2C%20%5B-94.81962651809101%2C%2041.454311065354%5D%2C%20%5B-94.81847238550492%2C%2041.45432932114326%5D%2C%20%5B-94.81844812777084%2C%2041.45346104247114%5D%2C%20%5B-94.8161398901599%2C%2041.453497518225795%5D%2C%20%5B-94.81616411714386%2C%2041.45436579800463%5D%2C%20%5B-94.81270170664025%2C%2041.454420426503354%5D%2C%20%5B-94.8127258885584%2C%2041.45528870779653%5D%2C%20%5B-94.80810926488186%2C%2041.455361385984354%5D%2C%20%5B-94.8081575088812%2C%2041.45709795255175%5D%2C%20%5B-94.80700331956304%2C%2041.45711609426709%5D%2C%20%5B-94.80705153703434%2C%2041.45885266136327%5D%2C%20%5B-94.8082057571096%2C%2041.45883451854705%5D%2C%20%5B-94.80822988280984%2C%2041.45970280133017%5D%2C%20%5B-94.80130445424302%2C%2041.4598114879079%5D%2C%20%5B-94.8013284887185%2C%2041.46067977384557%5D%2C%20%5B-94.80017423155267%2C%2041.46069784831146%5D%2C%20%5B-94.80019825170035%2C%2041.461566134654575%5D%2C%20%5B-94.79558115099059%2C%2041.461638318954726%5D%2C%20%5B-94.79560511066296%2C%2041.46250660734498%5D%2C%20%5B-94.79445081747635%2C%2041.46252462502727%5D%2C%20%5B-94.79449870920537%2C%2041.46426120247249%5D%2C%20%5B-94.79334438420277%2C%2041.46427920967124%5D%2C%20%5B-94.79336831625744%2C%2041.465147498725905%5D%2C%20%5B-94.7922139748216%2C%2041.46516549489373%5D%2C%20%5B-94.7922618113074%2C%2041.46690207366653%5D%2C%20%5B-94.79110743805252%2C%2041.46692005934839%5D%2C%20%5B-94.79113134248168%2C%2041.46778834906621%5D%2C%20%5B-94.78997695279263%2C%2041.467806323715386%5D%2C%20%5B-94.79007251943543%2C%2041.47127948333991%5D%2C%20%5B-94.78891806714662%2C%2041.471297448590725%5D%2C%20%5B-94.7888941893042%2C%2041.470429158353774%5D%2C%20%5B-94.78658531236574%2C%2041.47046505302688%5D%2C%20%5B-94.78660915942969%2C%2041.47133334435284%5D%2C%20%5B-94.78545470400289%2C%2041.471351274864084%5D%2C%20%5B-94.78547853672214%2C%2041.47221956659127%5D%2C%20%5B-94.78316959195513%2C%2041.472255393960914%5D%2C%20%5B-94.78321719896344%2C%2041.47399197916097%5D%2C%20%5B-94.78206269423224%2C%2041.47400987656123%5D%2C%20%5B-94.78208648390938%2C%2041.474878169490154%5D%2C%20%5B-94.77977744053476%2C%2041.47491393063239%5D%2C%20%5B-94.77982496144458%2C%2041.476650518232006%5D%2C%20%5B-94.7694339376987%2C%2041.47681087981562%5D%2C%20%5B-94.76950481120404%2C%2041.47941577474061%5D%2C%20%5B-94.7683502016369%2C%2041.479433536399014%5D%2C%20%5B-94.76844465255246%2C%2041.48290672979195%5D%2C%20%5B-94.76728998035865%2C%2041.48292448202094%5D%2C%20%5B-94.76738438623532%2C%2041.48639767528736%5D%2C%20%5B-94.76622965140433%2C%2041.48641541808432%5D%2C%20%5B-94.7662532400579%2C%2041.48728371658284%5D%2C%20%5B-94.76509848879043%2C%2041.4873014483313%5D%2C%20%5B-94.76512206307507%2C%2041.48816974722523%5D%2C%20%5B-94.76050298606448%2C%2041.4882405604993%5D%2C%20%5B-94.76047947339266%2C%2041.487372259457175%5D%2C%20%5B-94.75932471696463%2C%2041.487389933271494%5D%2C%20%5B-94.75930122072624%2C%2041.48652163155076%5D%2C%20%5B-94.75468224633114%2C%2041.48659220879739%5D%2C%20%5B-94.75470568095837%2C%2041.487460512659254%5D%2C%20%5B-94.75355091938664%2C%2041.487478128538676%5D%2C%20%5B-94.75352750016233%2C%2041.486609824142406%5D%2C%20%5B-94.75237275296686%2C%2041.486627427900714%5D%2C%20%5B-94.75239615678821%2C%2041.48749573283102%5D%2C%20%5B-94.75124139316374%2C%2041.48751332553627%5D%2C%20%5B-94.75128817307652%2C%2041.489249936037275%5D%2C%20%5B-94.75013337761851%2C%2041.48926751822214%5D%2C%20%5B-94.7502035089615%2C%2041.49187243450626%5D%2C%20%5B-94.74789382253665%2C%2041.49190756730967%5D%2C%20%5B-94.74791717088641%2C%2041.49277587351883%5D%2C%20%5B-94.74676231073097%2C%2041.49279342306948%5D%2C%20%5B-94.74678564469644%2C%2041.49366172966873%5D%2C%20%5B-94.74563076811002%2C%2041.49367926816206%5D%2C%20%5B-94.74560744955255%2C%2041.49281096103076%5D%2C%20%5B-94.7421428598862%2C%2041.49286350537824%5D%2C%20%5B-94.74221267994666%2C%2041.49546843112747%5D%2C%20%5B-94.74105776845643%2C%2041.49548592432301%5D%2C%20%5B-94.74110428944432%2C%2041.49722254183934%5D%2C%20%5B-94.73532956260306%2C%2041.49730983925454%5D%2C%20%5B-94.73528319572242%2C%2041.4955732164419%5D%2C%20%5B-94.72950859757881%2C%2041.49566021879335%5D%2C%20%5B-94.72953170345771%2C%2041.49652853291009%5D%2C%20%5B-94.72837676537647%2C%2041.49654589913479%5D%2C%20%5B-94.72839985685692%2C%2041.497414213636276%5D%2C%20%5B-94.72147011466312%2C%2041.497518170721335%5D%2C%20%5B-94.72149311468206%2C%2041.49838648823441%5D%2C%20%5B-94.72033813870397%2C%2041.49840377436869%5D%2C%20%5B-94.72036112431816%2C%2041.49927209226418%5D%2C%20%5B-94.71920613191908%2C%2041.49928936733037%5D%2C%20%5B-94.7192291031272%2C%2041.50015768560794%5D%2C%20%5B-94.71807409430701%2C%2041.50017494960534%5D%2C%20%5B-94.71816592754928%2C%2041.503648223390826%5D%2C%20%5B-94.71585578356428%2C%2041.503682720792646%5D%2C%20%5B-94.7158787135567%2C%2041.50455103993062%5D%2C%20%5B-94.71472362463834%2C%2041.50456827176275%5D%2C%20%5B-94.71474654021802%2C%2041.50543659128152%5D%2C%20%5B-94.71359143487669%2C%2041.50545381204129%5D%2C%20%5B-94.71366014138597%2C%2041.50805877131334%5D%2C%20%5B-94.71250498878172%2C%2041.50807598204418%5D%2C%20%5B-94.71252787753899%2C%2041.5089443020398%5D%2C%20%5B-94.71137270851011%2C%2041.508961501696184%5D%2C%20%5B-94.71139558284933%2C%2041.509829822071644%5D%2C%20%5B-94.71024039739576%2C%2041.50984701065286%5D%2C%20%5B-94.71030898016248%2C%2041.512451972492244%5D%2C%20%5B-94.70799851370997%2C%2041.512486317989165%5D%2C%20%5B-94.70804417886744%2C%2041.51422296058978%5D%2C%20%5B-94.70573364671053%2C%2041.51425726177535%5D%2C%20%5B-94.70577925416774%2C%2041.515993905889616%5D%2C%20%5B-94.70462395573634%2C%2041.516011040123644%5D%2C%20%5B-94.7047379147364%2C%2041.52035265052626%5D%2C%20%5B-94.70127178201628%2C%2041.52040399141699%5D%2C%20%5B-94.70129453052218%2C%2041.521272314629414%5D%2C%20%5B-94.70013913552184%2C%2041.5212894055753%5D%2C%20%5B-94.70018460466248%2C%2041.52302605261172%5D%2C%20%5B-94.69902917780114%2C%2041.52304313299198%5D%2C%20%5B-94.69907462006306%2C%2041.52477978049757%5D%2C%20%5B-94.69791916133849%2C%2041.524796850310835%5D%2C%20%5B-94.69794186852963%2C%2041.52566517436878%5D%2C%20%5B-94.69100900268701%2C%2041.52576735267849%5D%2C%20%5B-94.69098638810367%2C%2041.52489902552126%5D%2C%20%5B-94.68983092242293%2C%2041.524916014111206%5D%2C%20%5B-94.68980832426543%2C%2041.52404768629702%5D%2C%20%5B-94.68518651337597%2C%2041.52411552256433%5D%2C%20%5B-94.68520904979643%2C%2041.5249838524362%5D%2C%20%5B-94.6828981075505%2C%2041.525017701977475%5D%2C%20%5B-94.68292061408913%2C%2041.525886032734526%5D%2C%20%5B-94.67945414701398%2C%2041.52593672155673%5D%2C%20%5B-94.67943168678097%2C%2041.52506838926216%5D%2C%20%5B-94.67712073467543%2C%2041.52510212276684%5D%2C%20%5B-94.67709830629668%2C%2041.52423378930752%5D%2C%20%5B-94.6701655190045%2C%2041.524334708269244%5D%2C%20%5B-94.67018785477411%2C%2041.52520304478977%5D%2C%20%5B-94.66903237135824%2C%2041.52521982451335%5D%2C%20%5B-94.6690546926717%2C%2041.52608816140146%5D%2C%20%5B-94.66674369203247%2C%2041.52612168705365%5D%2C%20%5B-94.66676598345192%2C%2041.52699002481729%5D%2C%20%5B-94.66445494802936%2C%2041.52702350506756%5D%2C%20%5B-94.66447720955198%2C%2041.52789184370542%5D%2C%20%5B-94.65985506524767%2C%2041.52795866697541%5D%2C%20%5B-94.65983286547457%2C%2041.52709032631067%5D%2C%20%5B-94.6586773424003%2C%2041.527107002609306%5D%2C%20%5B-94.6586995267359%2C%2041.5279753437799%5D%2C%20%5B-94.65754398725122%2C%2041.52799200897912%5D%2C%20%5B-94.65758832796412%2C%2041.5297286919075%5D%2C%20%5B-94.65874389832595%2C%2041.52971202569724%5D%2C%20%5B-94.65876608558047%2C%2041.530580366443985%5D%2C%20%5B-94.65992167040879%2C%2041.53056368812188%5D%2C%20%5B-94.65998828433364%2C%2041.53316870799668%5D%2C%20%5B-94.65883265318269%2C%2041.53318538783653%5D%2C%20%5B-94.65887703645015%2C%2041.53492206805846%5D%2C%20%5B-94.65656570945866%2C%2041.53495539493769%5D%2C%20%5B-94.65658787166502%2C%2041.535823735847586%5D%2C%20%5B-94.65543219126725%2C%2041.53584038237994%5D%2C%20%5B-94.65549863738336%2C%2041.5384454057769%5D%2C%20%5B-94.65434290967883%2C%2041.538462042214505%5D%2C%20%5B-94.65438718105325%2C%2041.540198724782115%5D%2C%20%5B-94.65669869727802%2C%2041.54016543827816%5D%2C%20%5B-94.65674303432868%2C%2041.54190211826153%5D%2C%20%5B-94.65789882187919%2C%2041.54188545658347%5D%2C%20%5B-94.65796538109728%2C%2041.54449047398282%5D%2C%20%5B-94.65912121402394%2C%2041.54447379917664%5D%2C%20%5B-94.65914341782735%2C%2041.54534213752144%5D%2C%20%5B-94.66029926523117%2C%2041.5453254505972%5D%2C%20%5B-94.66032148546022%2C%2041.54619378829455%5D%2C%20%5B-94.6626332082467%2C%2041.54616037859597%5D%2C%20%5B-94.662655460355%2C%2041.54702871513868%5D%2C%20%5B-94.66381133573685%2C%2041.54701199236332%5D%2C%20%5B-94.66383360427409%2C%2041.54788032825746%5D%2C%20%5B-94.66498949413209%2C%2041.54786359336167%5D%2C%20%5B-94.66507863986739%2C%2041.55133693349427%5D%2C%20%5B-94.666234590566%2C%2041.551320184953475%5D%2C%20%5B-94.6662568949%2C%2041.55218851912521%5D%2C%20%5B-94.66741286007645%2C%2041.55217175846149%5D%2C%20%5B-94.66747982532134%2C%2041.554776758603246%5D%2C%20%5B-94.66632381377237%2C%2041.55479352079207%5D%2C%20%5B-94.66634612202012%2C%2041.55566185439824%5D%2C%20%5B-94.66519009403372%2C%2041.55567860547909%5D%2C%20%5B-94.66527927496838%2C%2041.55915194052209%5D%2C%20%5B-94.66643536479721%2C%2041.55913518740896%5D%2C%20%5B-94.666546940291%2C%2041.56347685049091%5D%2C%20%5B-94.6677031064591%2C%2041.56346008321761%5D%2C%20%5B-94.66785946154373%2C%2041.56953840203346%5D%2C%20%5B-94.67132827898624%2C%2041.5694880198021%5D%2C%20%5B-94.67137305351083%2C%2041.57122467799215%5D%2C%20%5B-94.67715455096894%2C%2041.57114047006206%5D%2C%20%5B-94.67717701706167%2C%2041.57200879639111%5D%2C%20%5B-94.67833332907063%2C%2041.57199191942584%5D%2C%20%5B-94.67835581162093%2C%2041.57286024510154%5D%2C%20%5B-94.68182478814305%2C%2041.57280954293169%5D%2C%20%5B-94.68184731809733%2C%2041.57367786692817%5D%2C%20%5B-94.68300365710132%2C%2041.57366094244555%5D%2C%20%5B-94.68302620351713%2C%2041.57452926578719%5D%2C%20%5B-94.68765161152743%2C%2041.57446144956683%5D%2C%20%5B-94.6876742208271%2C%2041.57532977071024%5D%2C%20%5B-94.6899869498309%2C%2041.57529579182797%5D%2C%20%5B-94.69005487653091%2C%2041.57790075131678%5D%2C%20%5B-94.69236769441038%2C%2041.57786672284328%5D%2C%20%5B-94.69243572291201%2C%2041.58047167796096%5D%2C%20%5B-94.69359217679018%2C%2041.5804546447373%5D%2C%20%5B-94.69361487042525%2C%2041.58132296230988%5D%2C%20%5B-94.69477133878587%2C%2041.58130591694342%5D%2C%20%5B-94.69479404889533%2C%2041.58217423385735%5D%2C%20%5B-94.69595053173829%2C%2041.58215717634739%5D%2C%20%5B-94.69604144406193%2C%2041.58563044051641%5D%2C%20%5B-94.69488489929748%2C%2041.58564750009555%5D%2C%20%5B-94.69493033047782%2C%2041.58738413236413%5D%2C%20%5B-94.69377375375186%2C%2041.587401181349236%5D%2C%20%5B-94.69379645535354%2C%2041.58826949778789%5D%2C%20%5B-94.69495304756298%2C%2041.588252448285786%5D%2C%20%5B-94.69499848472354%2C%2041.589989079703805%5D%2C%20%5B-94.69615510690515%2C%2041.58997201753789%5D%2C%20%5B-94.69622331658077%2C%2041.59257696204949%5D%2C%20%5B-94.69275330767039%2C%2041.592628118311445%5D%2C%20%5B-94.69277599976152%2C%2041.593496434416366%5D%2C%20%5B-94.69046262453332%2C%2041.593530481469074%5D%2C%20%5B-94.69053061384678%2C%2041.596135432030756%5D%2C%20%5B-94.68937387827353%2C%2041.5961524396573%5D%2C%20%5B-94.68941917847313%2C%2041.59788907368801%5D%2C%20%5B-94.68826241092438%2C%2041.59790607071296%5D%2C%20%5B-94.6882850470231%2C%2041.598774388031174%5D%2C%20%5B-94.68944183006373%2C%2041.59875739049082%5D%2C%20%5B-94.68946448264828%2C%2041.59962570715192%5D%2C%20%5B-94.6883076841151%2C%2041.59964270520769%5D%2C%20%5B-94.68833032220039%2C%2041.600511022242515%5D%2C%20%5B-94.68717350718062%2C%2041.600528009179556%5D%2C%20%5B-94.68724138091294%2C%2041.603132960979224%5D%2C%20%5B-94.68608451841641%2C%2041.60314993782634%5D%2C%20%5B-94.68612974154259%2C%2041.60488657268063%5D%2C%20%5B-94.68381595158786%2C%2041.60492049352604%5D%2C%20%5B-94.68386111669174%2C%2041.606657129870804%5D%2C%20%5B-94.68154726078174%2C%2041.60669100622638%5D%2C%20%5B-94.68156981382226%2C%2041.60755932521351%5D%2C%20%5B-94.68041286888345%2C%2041.60757624644918%5D%2C%20%5B-94.68043540741395%2C%2041.60844456580779%5D%2C%20%5B-94.67812148357044%2C%2041.60847837439267%5D%2C%20%5B-94.67821152357173%2C%2041.61195165451174%5D%2C%20%5B-94.67358341601181%2C%2041.61201914021474%5D%2C%20%5B-94.67360586646845%2C%2041.61288746193682%5D%2C%20%5B-94.66550653181022%2C%2041.613005117377426%5D%2C%20%5B-94.66555121861464%2C%2041.614741767532124%5D%2C%20%5B-94.66439413586937%2C%2041.61475852991025%5D%2C%20%5B-94.66441646523658%2C%2041.615626855283715%5D%2C%20%5B-94.66325936600555%2C%2041.61564360652935%5D%2C%20%5B-94.66330399666603%2C%2041.61738025786785%5D%2C%20%5B-94.66214686544183%2C%2041.61739699848784%5D%2C%20%5B-94.66216916673312%2C%2041.61826532445257%5D%2C%20%5B-94.66101201902221%2C%2041.618282053938294%5D%2C%20%5B-94.66103430578352%2C%2041.61915038026889%5D%2C%20%5B-94.65987714158581%2C%2041.61916709861963%5D%2C%20%5B-94.65992168702324%2C%2041.62090375187047%5D%2C%20%5B-94.65876449082846%2C%2041.62092045959207%5D%2C%20%5B-94.6587867495026%2C%2041.62178878651201%5D%2C%20%5B-94.65531510852718%2C%2041.62183884133631%5D%2C%20%5B-94.65533732164333%2C%2041.62270716963259%5D%2C%20%5B-94.65649455178924%2C%2041.622690495829026%5D%2C%20%5B-94.65658347605677%2C%2041.62616380557861%5D%2C%20%5B-94.65542618385739%2C%2041.62618048140449%5D%2C%20%5B-94.65544840184852%2C%2041.62704880899414%5D%2C%20%5B-94.65429109315895%2C%2041.62706547368008%5D%2C%20%5B-94.65433550103438%2C%2041.62880212944596%5D%2C%20%5B-94.65317816033797%2C%2041.62881878349615%5D%2C%20%5B-94.6532003502203%2C%2041.62968711167206%5D%2C%20%5B-94.65204299303275%2C%2041.62970375458053%5D%2C%20%5B-94.65210952196766%2C%2041.632308739774295%5D%2C%20%5B-94.65326692571107%2C%2041.632292095351964%5D%2C%20%5B-94.65333350996853%2C%2041.6348970777601%5D%2C%20%5B-94.65449095929971%2C%2041.634880420175%5D%2C%20%5B-94.65451317152254%2C%2041.63574874685671%5D%2C%20%5B-94.65567063540072%2C%2041.635732077117446%5D%2C%20%5B-94.65569286412112%2C%2041.636600403152435%5D%2C%20%5B-94.65685034254622%2C%2041.63658372125832%5D%2C%20%5B-94.6569170811335%2C%2041.63918869699787%5D%2C%20%5B-94.65807460515381%2C%2041.639172001935925%5D%2C%20%5B-94.65809686882777%2C%2041.640040326393574%5D%2C%20%5B-94.65925440739608%2C%2041.640023619174656%5D%2C%20%5B-94.65923212819696%2C%2041.63915529522354%5D%2C%20%5B-94.66154717134893%2C%2041.63912184684753%5D%2C%20%5B-94.66152486207882%2C%2041.63825352376909%5D%2C%20%5B-94.66383987026519%2C%2041.63822002980711%5D%2C%20%5B-94.66386221058393%2C%2041.63908835187006%5D%2C%20%5B-94.66733476208027%2C%2041.63903802202664%5D%2C%20%5B-94.66735714995426%2C%2041.63990634242225%5D%2C%20%5B-94.6685146806801%2C%2041.639889541997945%5D%2C%20%5B-94.66853708506224%2C%2041.64075786174271%5D%2C%20%5B-94.67200971791293%2C%2041.640707389036464%5D%2C%20%5B-94.6720321698566%2C%2041.64157570710952%5D%2C%20%5B-94.6731897276961%2C%2041.64155885906164%5D%2C%20%5B-94.67321219615191%2C%2041.642427176482364%5D%2C%20%5B-94.67436976853178%2C%2041.64241031627221%5D%2C%20%5B-94.67443722640068%2C%2041.645015266151546%5D%2C%20%5B-94.67559484437729%2C%2041.64499839275535%5D%2C%20%5B-94.67563985228436%2C%2041.64673502427729%5D%2C%20%5B-94.67679750033228%2C%2041.646718138204754%5D%2C%20%5B-94.67684254325258%2C%2041.64845476813648%5D%2C%20%5B-94.67800022137368%2C%2041.64843786938618%5D%2C%20%5B-94.67804529931293%2C%2041.65017449772689%5D%2C%20%5B-94.67920300750903%2C%2041.65015758629738%5D%2C%20%5B-94.67922556349593%2C%2041.65102589974261%5D%2C%20%5B-94.68269872874015%2C%2041.650975093986865%5D%2C%20%5B-94.68272133231851%2C%2041.65184340575021%5D%2C%20%5B-94.68156359602801%2C%2041.65186035317075%5D%2C%20%5B-94.6816539581227%2C%2041.6553336008627%5D%2C%20%5B-94.68049615869876%2C%2041.65535053868183%5D%2C%20%5B-94.68051873616453%2C%2041.65621885076417%5D%2C%20%5B-94.67820310326962%2C%2041.656252692458466%5D%2C%20%5B-94.67827074838229%2C%2041.65885763093347%5D%2C%20%5B-94.67942861194089%2C%2041.65884071437639%5D%2C%20%5B-94.67947374471285%2C%2041.66057733829259%5D%2C%20%5B-94.6806316383614%2C%2041.66056040905107%5D%2C%20%5B-94.68067680617948%2C%2041.662297031374294%5D%2C%20%5B-94.67951888144762%2C%2041.66231396164224%5D%2C%20%5B-94.67960916680717%2C%2041.66578720664184%5D%2C%20%5B-94.6807671537138%2C%2041.66577027432085%5D%2C%20%5B-94.68081233343086%2C%2041.6675068949442%5D%2C%20%5B-94.6819703504372%2C%2041.66748994993503%5D%2C%20%5B-94.6820155652155%2C%2041.66922656896436%5D%2C%20%5B-94.6854897035587%2C%2041.669175660881436%5D%2C%20%5B-94.68553501559717%2C%2041.67091227625759%5D%2C%20%5B-94.68900923827786%2C%2041.67086126012241%5D%2C%20%5B-94.68910006089426%2C%2041.67433448298787%5D%2C%20%5B-94.69025819532901%2C%2041.67431745221899%5D%2C%20%5B-94.69028091902719%2C%2041.67518575706469%5D%2C%20%5B-94.69143906801605%2C%2041.675168714115046%5D%2C%20%5B-94.69148454951115%2C%2041.67690532234784%5D%2C%20%5B-94.6926427286071%2C%2041.67688826669974%5D%2C%20%5B-94.69271100500175%2C%2041.67949317643442%5D%2C%20%5B-94.69155277924247%2C%2041.67951023363359%5D%2C%20%5B-94.69162101796144%2C%2041.682115143643145%5D%2C%20%5B-94.69509583224864%2C%2041.6820639323903%5D%2C%20%5B-94.6951186271592%2C%2041.6829322338909%5D%2C%20%5B-94.69627691214522%2C%2041.68291513962064%5D%2C%20%5B-94.69629972361504%2C%2041.683783440461234%5D%2C%20%5B-94.69745802315784%2C%2041.68376633400491%5D%2C%20%5B-94.69748085118829%2C%2041.68463463418512%5D%2C%20%5B-94.6997974783842%2C%2041.68460038523076%5D%2C%20%5B-94.69984319969203%2C%2041.68633698308924%5D%2C%20%5B-94.70100154290455%2C%2041.68631984007057%5D%2C%20%5B-94.70104729935012%2C%2041.68805643632217%5D%2C%20%5B-94.70568078663743%2C%2041.68798774339507%5D%2C%20%5B-94.7057266716013%2C%2041.68972433491463%5D%2C%20%5B-94.70804347145308%2C%2041.68968991634788%5D%2C%20%5B-94.70806644657286%2C%2041.69055821085142%5D%2C%20%5B-94.710383273516%2C%2041.69052374455964%5D%2C%20%5B-94.71042928903924%2C%2041.692260331051294%5D%2C%20%5B-94.71390461526062%2C%2041.69220854094633%5D%2C%20%5B-94.71395072821824%2C%2041.69394512373024%5D%2C%20%5B-94.71742613872058%2C%2041.69389322544024%5D%5D%5D%2C%20%22type%22%3A%20%22Polygon%22%7D%2C%20%22id%22%3A%20%220%22%2C%20%22properties%22%3A%20%7B%22FID%22%3A%200%7D%2C%20%22type%22%3A%20%22Feature%22%7D%29%3B%0A%0A%20%20%20%20%20%20%20%20%0A%20%20%20%20%0A%20%20%20%20%20%20%20%20%20%20%20%20var%20layer_control_82d0eed7c9814f2ea0cb500db0c6b4c3%20%3D%20%7B%0A%20%20%20%20%20%20%20%20%20%20%20%20%20%20%20%20base_layers%20%3A%20%7B%0A%20%20%20%20%20%20%20%20%20%20%20%20%20%20%20%20%20%20%20%20%22openstreetmap%22%20%3A%20tile_layer_86f85bc5cce943a9a1c8c8383ee4f8cb%2C%0A%20%20%20%20%20%20%20%20%20%20%20%20%20%20%20%20%7D%2C%0A%20%20%20%20%20%20%20%20%20%20%20%20%20%20%20%20overlays%20%3A%20%20%7B%0A%20%20%20%20%20%20%20%20%20%20%20%20%20%20%20%20%20%20%20%20%22soil_texture%22%20%3A%20tile_layer_f69a4ae66899418793035d42e6110e6b%2C%0A%20%20%20%20%20%20%20%20%20%20%20%20%20%20%20%20%20%20%20%20%22divisory%22%20%3A%20geo_json_4a24e78e5eb6472297a21650659e4b18%2C%0A%20%20%20%20%20%20%20%20%20%20%20%20%20%20%20%20%7D%2C%0A%20%20%20%20%20%20%20%20%20%20%20%20%7D%3B%0A%20%20%20%20%20%20%20%20%20%20%20%20L.control.layers%28%0A%20%20%20%20%20%20%20%20%20%20%20%20%20%20%20%20layer_control_82d0eed7c9814f2ea0cb500db0c6b4c3.base_layers%2C%0A%20%20%20%20%20%20%20%20%20%20%20%20%20%20%20%20layer_control_82d0eed7c9814f2ea0cb500db0c6b4c3.overlays%2C%0A%20%20%20%20%20%20%20%20%20%20%20%20%20%20%20%20%7B%22autoZIndex%22%3A%20true%2C%20%22collapsed%22%3A%20true%2C%20%22position%22%3A%20%22topright%22%7D%0A%20%20%20%20%20%20%20%20%20%20%20%20%29.addTo%28map_c7338c4ae7c049d39de5df9ccc3c102b%29%3B%0A%20%20%20%20%20%20%20%20%0A%3C/script%3E onload=\"this.contentDocument.open();this.contentDocument.write(    decodeURIComponent(this.getAttribute('data-html')));this.contentDocument.close();\" allowfullscreen webkitallowfullscreen mozallowfullscreen></iframe></div></div>"
            ],
            "text/plain": [
              "<folium.folium.Map at 0x7f7d00655a50>"
            ]
          },
          "metadata": {
            "tags": []
          }
        }
      ]
    },
    {
      "cell_type": "code",
      "metadata": {
        "id": "WYO9qXb8Glk4"
      },
      "source": [
        "\n",
        "pts = geop.GeoDataFrame(np.arange(1,gp.mesh_points_all.shape[0]+1), geometry=geop.points_from_xy(gp.mesh_points_all.T[0], gp.mesh_points_all.T[1]), crs='EPSG:'+cu.epsg)\n",
        "pts = pts.to_crs(4326)\n",
        "xy = ee.Geometry.Point([pts['geometry'][0].coords.xy[0][0],pts['geometry'][0].coords.xy[1][0]], proj = 'EPSG:4326')\n",
        "ee_pts = ee.Geometry.MultiPoint([pts.geometry.values.x.tolist(), pts.geometry.values.y.tolist()], proj = 'EPSG:4326')"
      ],
      "execution_count": null,
      "outputs": []
    },
    {
      "cell_type": "code",
      "metadata": {
        "colab": {
          "base_uri": "https://localhost:8080/"
        },
        "id": "NIdEDseBKDKW",
        "outputId": "ab0832b8-6270-4d5c-b3cb-1f47e03691ab"
      },
      "source": [
        "6.25*4*600"
      ],
      "execution_count": null,
      "outputs": [
        {
          "output_type": "execute_result",
          "data": {
            "text/plain": [
              "15000.0"
            ]
          },
          "metadata": {
            "tags": []
          },
          "execution_count": 314
        }
      ]
    },
    {
      "cell_type": "code",
      "metadata": {
        "colab": {
          "base_uri": "https://localhost:8080/"
        },
        "id": "AYMj_ZW0NGRN",
        "outputId": "3b10ea7b-33d6-43ca-ca65-928ce43572fd"
      },
      "source": [
        "20*11*(12**2)"
      ],
      "execution_count": null,
      "outputs": [
        {
          "output_type": "execute_result",
          "data": {
            "text/plain": [
              "31680"
            ]
          },
          "metadata": {
            "tags": []
          },
          "execution_count": 313
        }
      ]
    },
    {
      "cell_type": "code",
      "metadata": {
        "id": "J17SPwbuSONS"
      },
      "source": [
        ""
      ],
      "execution_count": null,
      "outputs": []
    },
    {
      "cell_type": "code",
      "metadata": {
        "id": "VnswQg7XNMN9"
      },
      "source": [
        "features = []\n",
        "for i in range(shapefile.shape[0]):\n",
        "    geom = shapefile.iloc[i:i+1,:] \n",
        "    jsonDict = eval(geom.to_json()) \n",
        "    geojsonDict = jsonDict['features'][0] \n",
        "    features.append(ee.Feature(geojsonDict)) \n",
        "\n",
        "fc = ee.FeatureCollection(features)\n"
      ],
      "execution_count": null,
      "outputs": []
    },
    {
      "cell_type": "code",
      "metadata": {
        "id": "JS16hSlONKBs"
      },
      "source": [
        "poly = ee.Geometry.Polygon([[[pts.geometry.values.x.min(),pts.geometry.values.y.min()],\n",
        "[pts.geometry.values.x.min(),pts.geometry.values.y.max()],\n",
        "[pts.geometry.values.x.max(),pts.geometry.values.y.max()],\n",
        "[pts.geometry.values.x.max(),pts.geometry.values.y.min()]]])\n"
      ],
      "execution_count": null,
      "outputs": []
    },
    {
      "cell_type": "code",
      "metadata": {
        "id": "7yFIbXCt5ply"
      },
      "source": [
        "soils = []\n",
        "for x, y in zip(pts.geometry.values.x.tolist(), pts.geometry.values.y.tolist()):\n",
        "  xy = ee.Geometry.Point([x, y])\n",
        "  soils.append(data.sample(xy,1).first().get('b0').getInfo())"
      ],
      "execution_count": null,
      "outputs": []
    },
    {
      "cell_type": "code",
      "metadata": {
        "id": "zRoDrkbI5puY"
      },
      "source": [
        "sample = data.sampleRegions(ee_pts).first().get('b0')"
      ],
      "execution_count": null,
      "outputs": []
    },
    {
      "cell_type": "code",
      "metadata": {
        "colab": {
          "base_uri": "https://localhost:8080/",
          "height": 120
        },
        "id": "s1VaOaIsJ2Ue",
        "outputId": "c9c0c22c-f5a4-4b71-9462-ac8534228427"
      },
      "source": [
        "sample.serialize()"
      ],
      "execution_count": null,
      "outputs": [
        {
          "output_type": "execute_result",
          "data": {
            "application/vnd.google.colaboratory.intrinsic+json": {
              "type": "string"
            },
            "text/plain": [
              "'{\"result\": \"0\", \"values\": {\"0\": {\"functionInvocationValue\": {\"functionName\": \"Element.get\", \"arguments\": {\"object\": {\"functionInvocationValue\": {\"functionName\": \"Collection.first\", \"arguments\": {\"collection\": {\"functionInvocationValue\": {\"functionName\": \"Image.sampleRegions\", \"arguments\": {\"collection\": {\"functionInvocationValue\": {\"functionName\": \"Collection\", \"arguments\": {\"features\": {\"arrayValue\": {\"values\": [{\"functionInvocationValue\": {\"functionName\": \"Feature\", \"arguments\": {\"geometry\": {\"functionInvocationValue\": {\"functionName\": \"GeometryConstructors.MultiPoint\", \"arguments\": {\"coordinates\": {\"constantValue\": [[-94.9069887127806, -94.9052227927273, -94.90128283462415, -94.89624740445547, -94.89636428674271, -94.8921388201789, -94.88521559321757, -94.87783635570577, -94.89556301556418, -94.89428794949788, -94.89679394480598, -94.89626928439566, -94.89380035542327, -94.89296477766776, -94.89880191347261, -94.9015710205719, -94.89832456346413, -94.90377937645212, -94.88737965620938, -94.88696092574807, -94.88156560245535, -94.87761277821667, -94.88307957144842, -94.87995824709422, -94.87277246661492, -94.88361083729372, -94.88883048906837, -94.89329762194434, -94.89465612790393, -94.8801505073638, -94.86769596823869, -94.86212893957186, -94.85530317752071, -94.86976063860804, -94.8787212483361, -94.87505816186605, -94.8776498404082, -94.86967334361022, -94.86827939422476, -94.86336483558134, -94.85613447461779, -94.87173040582285, -94.86770072006084, -94.86106135020253, -94.85447079399302, -94.87275556923088, -94.87610567147141, -94.8795508854333, -94.86770495386854, -94.84803820913126, -94.85094817108622, -94.84637213438555, -94.84066667812185, -94.86511046083963, -94.86699366801705, -94.87074669204098, -94.8757806215552, -94.86323295476475, -94.860564750512, -94.8446755738215, -94.84310321278691, -94.85932618934687, -94.85352528800802, -94.84010727904369, -94.838575012181, -94.83892130363519, -94.83465140475744, -94.86109451204867, -94.85964264269028, -94.83214840463418, -94.82895831986508, -94.86003970709133, -94.85751548320239, -94.85281699759476, -94.84532296347062, -94.83775339901558, -94.8315216258271, -94.82930974240523, -94.82607176180592, -94.8262113922291, -94.82253320656658, -94.81970662086279, -94.8184069040351, -94.86094631449546, -94.86260858953278, -94.86714851841897, -94.8714338020118, -94.8760175890264, -94.8804231029905, -94.83324397627266, -94.82750688588858, -94.83357670628654, -94.82340477467352, -94.81773449466155, -94.82298887397091, -94.81650464250198, -94.8102325833562, -94.85849672703168, -94.86109446000786, -94.88273713816939, -94.88089195494912, -94.81491498365264, -94.81177873070291, -94.81187103567989, -94.8048031425456, -94.80698404296078, -94.85641181909617, -94.8576486368076, -94.8612630984368, -94.85461824750837, -94.88579661362118, -94.8841168817307, -94.8836309694518, -94.80976105745114, -94.81164087391288, -94.80764080522677, -94.85076580014226, -94.85053065301226, -94.8042129653325, -94.80480585586815, -94.80155788745564, -94.79919860051787, -94.8505547763147, -94.85531265618201, -94.84857435883023, -94.80055437193623, -94.79876808259222, -94.84811999603897, -94.84386048721288, -94.79953715669893, -94.80194289105806, -94.8050261848895, -94.80638998782875, -94.79839879252229, -94.7945850439407, -94.78938862864239, -94.79463851385378, -94.79047178806415, -94.84872775507576, -94.85197165027493, -94.84579939646548, -94.79849324779727, -94.79630956008509, -94.79237507114367, -94.78815265745594, -94.78486501713354, -94.77959130796758, -94.78535110564634, -94.85784704050278, -94.85646368265714, -94.85892325522708, -94.86028019426708, -94.84315458373618, -94.8421391200352, -94.83992670674203, -94.78663392117382, -94.78837105381172, -94.79197983511196, -94.78318708908424, -94.86329670365521, -94.86163635393466, -94.86442640874529, -94.84220676086724, -94.83837272170146, -94.83481919336263, -94.83385105400096, -94.83387061038279, -94.82698718282975, -94.81960806106174, -94.81433720106288, -94.83573497484004, -94.83037750443883, -94.8227367313017, -94.81516558436651, -94.78005549525358, -94.77764799051016, -94.77234355945531, -94.84503424867464, -94.85037984779572, -94.8539951810482, -94.85708472181275, -94.84149381593346, -94.83394913390677, -94.83737250980398, -94.84427720624365, -94.83207179660221, -94.8139593736728, -94.80812965249261, -94.77982288722379, -94.78053971871526, -94.77646715132187, -94.8310547793427, -94.82759452842747, -94.80392771199095, -94.8034560228025, -94.7836758003892, -94.78056379248243, -94.77288232300947, -94.76867993383759, -94.76503780346948, -94.77235415821939, -94.7674564593608, -94.83325418506939, -94.83829157253334, -94.83117927201644, -94.8323819244668, -94.83547019846083, -94.82476371961896, -94.82382860988524, -94.82340016167188, -94.81899346770264, -94.82277568250376, -94.81742398167349, -94.80192438856061, -94.79706471068391, -94.79936379892494, -94.79274440962469, -94.764005372612, -94.76236961899647, -94.76178678466772, -94.75596437203171, -94.7640831741642, -94.76224428175878, -94.75979341192577, -94.83725108454504, -94.84054438227356, -94.83549228222684, -94.83515016160077, -94.8169454380109, -94.81459346489405, -94.81365726302755, -94.80982940485055, -94.78915327941881, -94.78817066737837, -94.78762092369783, -94.78136429792534, -94.7741504645301, -94.7673934339146, -94.76504653645816, -94.76513042547593, -94.76176517346819, -94.75854150848875, -94.75274985584693, -94.75028236306215, -94.75178845068024, -94.74895840289025, -94.83747517665867, -94.83471791047408, -94.8135037304898, -94.81203531767687, -94.80683324392332, -94.74981428354164, -94.74880813224998, -94.74894252669593, -94.7470416248224, -94.74042115139893, -94.74809351809223, -94.74450475821116, -94.73876113159653, -94.74546638205669, -94.81529615976861, -94.81967008763681, -94.81052762187979, -94.75219054293963, -94.74643962607783, -94.74148125766442, -94.7337873077996, -94.7290848372534, -94.72359448672576, -94.73285391431988, -94.72546560511023, -94.7403869398504, -94.74316110838711, -94.80976439428945, -94.81208840605952, -94.80592721261016, -94.71901753447962, -94.71861568639689, -94.71569757284038, -94.71039352270927, -94.73562426975458, -94.7330118363336, -94.73430032610473, -94.80223329414923, -94.80144666025038, -94.79672599114313, -94.79067336013905, -94.71898552394599, -94.72180928112923, -94.71431194944243, -94.7264196671898, -94.72139076168207, -94.71806342122095, -94.73118079142893, -94.80347711971389, -94.79797923149732, -94.7861736812466, -94.78097145993578, -94.79026671071696, -94.78622746566299, -94.78397162289406, -94.71082294201541, -94.70861834255909, -94.70421962794232, -94.69714298449588, -94.71653225030018, -94.71341275358533, -94.71503811906726, -94.80912560727326, -94.81564621852867, -94.80610857850257, -94.80737063642654, -94.81081640591754, -94.79560532131566, -94.79573753636093, -94.79212973700498, -94.78576940897757, -94.77345726936868, -94.76673595243383, -94.7771304854013, -94.71085324502303, -94.71103836145454, -94.70832837442967, -94.70400085550727, -94.69134642160357, -94.68537207050028, -94.6926188486409, -94.81955627330234, -94.82211549738165, -94.81343563468721, -94.81368507209595, -94.7958820114978, -94.79658946012333, -94.79137337067242, -94.78106601063487, -94.78123946751268, -94.77794750557761, -94.77121982839911, -94.76506268644198, -94.75806226892038, -94.76023346966166, -94.76301018532224, -94.77650890300075, -94.77517019681318, -94.77439524211164, -94.71144074531976, -94.70934118617988, -94.7100173328129, -94.69943412325274, -94.6960493087669, -94.69690669645641, -94.68194034608476, -94.67752107374803, -94.68014910551119, -94.67418940963034, -94.66667555582784, -94.69365897589736, -94.69072556983299, -94.79613055836397, -94.80024739149732, -94.776271484622, -94.77868136236809, -94.77434905328737, -94.76723284937675, -94.75945396474327, -94.75575307392005, -94.75211208309457, -94.74575872932148, -94.73891212053995, -94.7548898782278, -94.7129530858961, -94.71409644571013, -94.69607982181286, -94.69753072433282, -94.69651102231737, -94.69310704625045, -94.68817984401389, -94.68607381376309, -94.67874241815585, -94.67109779236657, -94.68895808972756, -94.68468111443096, -94.79570357640429, -94.79246413759016, -94.78648769258713, -94.77386071466394, -94.77221205984979, -94.76903230207394, -94.68583042954025, -94.6829546713714, -94.79844838886031, -94.8011716254676, -94.79578060605796, -94.79276313603707, -94.7829973679403, -94.78261312934717, -94.7827684666817, -94.7797224692946, -94.77432937889917, -94.77050946024522, -94.76956645056367, -94.76707581582623, -94.76563319035846, -94.76362459467336, -94.68064322446776, -94.67987269434254, -94.77073011467313, -94.77313991455898, -94.77568554036164, -94.77583450235394, -94.76790877465922, -94.76297440060083, -94.76000594164111, -94.7601477789741, -94.76193800382055, -94.76210394255604, -94.76062908785711, -94.6796418843989, -94.67793964962786, -94.75779559852104, -94.75516252069039, -94.75178897416258, -94.7571332921605, -94.7515133331281, -94.6764671355154, -94.67641987347918, -94.75193392410713, -94.75447725320399, -94.74813378140365, -94.74386138360461, -94.73638679203287, -94.74736599745528, -94.74470996383248, -94.74378259074733, -94.73239917814251, -94.73134086603513, -94.72602259112398, -94.74556543395751, -94.74157733175457, -94.73331498155191, -94.72572177702484, -94.74341831727489, -94.74408687355586, -94.74021378258072, -94.73441234382823, -94.72332115899756, -94.71863669598831, -94.74690482875155, -94.7436191787674, -94.73995228592972, -94.72104660245932, -94.7201486630436, -94.71428074729707, -94.70738727753354, -94.74480938235992, -94.7460434230845, -94.74445775026479, -94.73115831301337, -94.7299292360756, -94.72652657233273, -94.73312918934778, -94.73720464084474, -94.73174611695505, -94.72742367999393, -94.72770027582025, -94.72348451653197, -94.71604416201872, -94.70925475203595, -94.72969354676034, -94.7301581131022, -94.72330517370366, -94.72207784014363, -94.7178700788861, -94.72292123276469, -94.72692582351321, -94.71930306907902, -94.72033519854331, -94.72694406827142, -94.73288625817082, -94.71667732166621, -94.71372391424761, -94.71275326899783, -94.71038839384313, -94.70888730725896, -94.70621882226534, -94.71157965848414, -94.70658854966982, -94.70245305669093, -94.69698177427078, -94.70412055876037, -94.71718523753323, -94.71611219220284, -94.72113308781952, -94.72864856074129, -94.7359687728615, -94.74342368408391, -94.70562145375023, -94.706910282504, -94.70225418195689, -94.69018512708874, -94.68911647565325, -94.68155455525091, -94.70286235311536, -94.70334953223058, -94.70381621871832, -94.70189902910468, -94.70184349936503, -94.6965426404154, -94.69108895301832, -94.71917479565509, -94.72052553645372, -94.7269866534921, -94.73469346619108, -94.69979947227529, -94.69757569446001, -94.69486392255826, -94.6964223904174, -94.68950773264052, -94.67972418220954, -94.67753662857365, -94.67359258712247, -94.70180330691866, -94.70395232665268, -94.69930000844231, -94.71933649946384, -94.71947524499083, -94.72267265708835, -94.69389470553483, -94.69149082273309, -94.67097187489081, -94.66932350080279, -94.66441567541726, -94.71956776232699, -94.72076644704661, -94.71468857121656, -94.72845077576468, -94.72808397730446, -94.73231279641895, -94.66681112363652, -94.67088210467139, -94.72206909309757, -94.71957043502927, -94.71329473676715, -94.72491116323853, -94.70902550763023, -94.7099572723102, -94.73800337217816, -94.7423450798441, -94.74851735457615, -94.73970061096263, -94.74558417310595, -94.6733502626641, -94.6781035834449, -94.68229638924836, -94.6866255660665, -94.68985963441156, -94.69274805721884, -94.67012231889328, -94.66834759666911, -94.72906495513976, -94.73222324254485, -94.73152851938535, -94.73615329867737, -94.74217825396995, -94.90615035368172, -94.90342799734543, -94.90044453076646, -94.89522039055164, -94.8949516982141, -94.8908971440606, -94.88500164809871, -94.8773054772388, -94.8937989001059, -94.89266485781683, -94.89510362793116, -94.89447421230018, -94.89250285356209, -94.89200831245121, -94.89783855580902, -94.89983891982565, -94.89826522950415, -94.903248878338, -94.88622725555642, -94.88657028130412, -94.8803241727925, -94.87592211776598, -94.88152022354643, -94.87989928754946, -94.87200403315238, -94.88236857659174, -94.88773997112348, -94.89160648272858, -94.89286039424738, -94.87885299851872, -94.86666748983325, -94.861871753589, -94.85477170374547, -94.86796549130993, -94.87696989473196, -94.87390658170344, -94.87681164158282, -94.8678782800047, -94.86703873224226, -94.8625962541444, -94.85587718968188, -94.87043284246968, -94.86748503424971, -94.86017145846591, -94.8539392193673, -94.87179141929647, -94.87441446966403, -94.87817256647166, -94.86652592693109, -94.84764826828888, -94.84925688529675, -94.84560422323449, -94.8396196431029, -94.86530209566071, -94.86985677625579, -94.87426032622535, -94.86193539151611, -94.85900472019516, -94.84226723873988, -94.85808335826951, -94.85346683548748, -94.8384839973731, -94.83679743627177, -94.83839210376325, -94.83350044208882, -94.85985315762386, -94.85789099135344, -94.83035273507869, -94.82890039505203, -94.85879669344786, -94.85667733799342, -94.85221220342726, -94.84479238436845, -94.8374217694585, -94.82989829689186, -94.82768664227562, -94.83004915542838, -94.82601389679871, -94.8246225097896, -94.8211544537175, -94.81794187958951, -94.81664229700445, -94.85919448683451, -94.86207698595234, -94.86577043685054, -94.86984435112608, -94.87477518598637, -94.87873114492669, -94.8316838220463, -94.82717393314503, -94.8323347903938, -94.82293229941749, -94.8171305312129, -94.82209707633109, -94.8157361001216, -94.8091398760221, -94.85719896603273, -94.86032533557942, -94.88126363197101, -94.87959350081886, -94.81311920542153, -94.81062797513283, -94.8114717680429, -94.8040350174446, -94.80529281143907, -94.85478772017869, -94.85605923031345, -94.8596733512526, -94.85319117667352, -94.88420718588783, -94.8823201723472, -94.88185218305011, -94.80994898106552, -94.80680365901215, -94.84920571872414, -94.8504722352103, -94.80337591443403, -94.80384046807349, -94.79996845351835, -94.7974450781267, -94.84958978104045, -94.85422093167405, -94.84695010234445, -94.79909548832468, -94.79845229902884, -94.84632341386347, -94.84360278529833, -94.8003531260597, -94.80333379206493, -94.80459348956221, -94.79677539878227, -94.79452781589156, -94.78933150830261, -94.79322378491351, -94.78909296835259, -94.84699414704197, -94.85087889582978, -94.84422047187965, -94.79680094212411, -94.79547251109956, -94.79141861356878, -94.78659342216037, -94.78339094350656, -94.7793323471312, -94.78410695305983, -94.85675523268439, -94.85474657497625, -94.85723072234602, -94.85848304112493, -94.84138515747497, -94.84036029697364, -94.83986848734773, -94.78483751503745, -94.7867809303361, -94.79038962380871, -94.7824851885974, -94.86298210523623, -94.86004626011506, -94.86318281388014, -94.84051427717269, -94.8374161187998, -94.83310205988519, -94.83205371797213, -94.83326593680687, -94.82638396824773, -94.81886508018545, -94.81277699753491, -94.83476968832235, -94.82960764062459, -94.82220643192872, -94.8148328051153, -94.77875866707502, -94.77640350047372, -94.7710998572578, -94.84471924098169, -94.84878967263523, -94.8524046648417, -94.85539174781962, -94.84019567014127, -94.83215170188211, -94.83691638445089, -94.84289720923528, -94.83061128774017, -94.81226623722553, -94.80759952896443, -94.77802635138931, -94.77877356818995, -94.77551197902449, -94.82946383703552, -94.82712143506203, -94.80262998779955, -94.80180147523095, -94.78278275141776, -94.77893994812894, -94.77120040572598, -94.76752931518261, -94.76332147418587, -94.77158662253679, -94.76719717920079, -94.83200965124303, -94.83752147219758, -94.82946177494988, -94.83079113873448, -94.83377658140621, -94.82313877826516, -94.82203088658429, -94.82162051363973, -94.81815512741322, -94.82271777484132, -94.81658587011151, -94.80022840071756, -94.79610744921982, -94.79910509468156, -94.79190694142213, -94.7622084543948, -94.76153292938561, -94.76131531383082, -94.7556343372936, -94.76239037264291, -94.76055175213936, -94.75810081210834, -94.83566083014423, -94.83945069802071, -94.83397558776775, -94.83338281572009, -94.81570034795965, -94.81453569877652, -94.8123590492335, -94.80915555239135, -94.78752890396882, -94.78639165399848, -94.7866545571157, -94.78130727271446, -94.77354681050846, -94.76655638548182, -94.7635722378205, -94.75996818000095, -94.75739087083423, -94.75179362206664, -94.74981110629936, -94.75054521130559, -94.74743637315086, -94.83595314098, -94.83297840158498, -94.81220530745574, -94.81126459828292, -94.80594124475594, -94.74803000147895, -94.74702925721441, -94.74717542552297, -94.74608660965056, -94.74008981028291, -94.74634165093478, -94.74320890702504, -94.73761002009519, -94.74541014060719, -94.81405170211406, -94.81801440101337, -94.80949839748634, -94.75109654518555, -94.74528876136436, -94.74005451589848, -94.73295091014998, -94.72746122307446, -94.72275816662989, -94.73263528301456, -94.72493235723046, -94.7400698728542, -94.74191592309252, -94.80807060571347, -94.81056558914484, -94.80497057635847, -94.718181238745, -94.71855995040467, -94.71445141798243, -94.70914801938227, -94.73556823384682, -94.7313885835625, -94.7333342626015, -94.8007160176896, -94.80020244583072, -94.795480617275, -94.78978104947896, -94.71721823220955, -94.72042752331127, -94.71370935383015, -94.72612993316385, -94.71976793512191, -94.71644045628965, -94.72938432033067, -94.80200176434194, -94.79702144635287, -94.7861165113586, -94.78091439815319, -94.78883919369659, -94.78481108291174, -94.78220438285068, -94.70919975732859, -94.70784586033604, -94.70283782244911, -94.69708769988647, -94.71473537503448, -94.71226198389779, -94.7149824980335, -94.8081589342427, -94.81455269905231, -94.80431005917887, -94.80567608349082, -94.80943556975123, -94.79380688337237, -94.79393896616723, -94.79142831015466, -94.7851651153156, -94.77340036373825, -94.76620199957524, -94.77543643080439, -94.70926103546252, -94.70925914563928, -94.70827284535505, -94.70339842430097, -94.69023937411075, -94.6847700505723, -94.69114332223134, -94.81779994340691, -94.82205754074866, -94.81163674000013, -94.81362727658147, -94.79408329679035, -94.79482124333371, -94.79044818745338, -94.7796045897095, -94.78046793215456, -94.77670248561525, -94.77054497152363, -94.76381757770409, -94.75800567076699, -94.75991660191782, -94.7617643701135, -94.77471104018954, -94.77347643820713, -94.77342822587325, -94.71019589337104, -94.70771741989896, -94.70842514481646, -94.69776775492505, -94.69448918505944, -94.69664581980612, -94.68022377209304, -94.67668660132622, -94.67961354221345, -94.67396953218619, -94.66641407584736, -94.69223313101612, -94.68947927115327, -94.79441209631824, -94.79947605199716, -94.7753151289594, -94.7774353545517, -94.7735774009627, -94.76669876888364, -94.75939732381401, -94.75514949992309, -94.75081534767095, -94.74570239657324, -94.73865206589267, -94.75483336260616, -94.71147641484824, -94.71371036446014, -94.69466294293049, -94.69575116764847, -94.69473134690176, -94.69181029936838, -94.68757892563842, -94.68601876439351, -94.67828194350511, -94.67083643021583, -94.68771157782952, -94.68378604971976, -94.79394669407289, -94.79135433096961, -94.78588312387319, -94.7713742190739, -94.7677339742656, -94.68423768666078, -94.68242163584574, -94.79720307016679, -94.7993722549393, -94.7940620894779, -94.79146398552555, -94.78137125549466, -94.78081378069716, -94.78096896143816, -94.77888534574683, -94.7729008557839, -94.76888352739569, -94.76779732502246, -94.7652769520547, -94.76433490610081, -94.76190639353548, -94.67901949283922, -94.67845492572832, -94.76913755192524, -94.7715464588036, -94.7739161597301, -94.77405279212853, -94.76730696179962, -94.7619450762212, -94.75820601809112, -94.75834771055213, -94.76031228190257, -94.76033534737228, -94.75933068703489, -94.67784363660661, -94.67716629530379, -94.75649874166459, -94.75353673221747, -94.75022741122876, -94.75588665320267, -94.75097877609119, -94.67517051980666, -94.67517262061544, -94.75034083507826, -94.75270811997547, -94.74710493212339, -94.7435708379523, -94.73605515404992, -94.74570940332872, -94.74368106903457, -94.74338118178977, -94.73088193382708, -94.73073738158335, -94.72569115360142, -94.74382908168874, -94.74090173908604, -94.73285527836158, -94.72539041126093, -94.74161876917401, -94.74231764948959, -94.73906174063139, -94.73345500910982, -94.72152202978648, -94.7181089057399, -94.74579608978456, -94.74214239077533, -94.73870655556458, -94.71974894202577, -94.71937592206365, -94.71367772833827, -94.70678440190245, -94.74300959466953, -94.74434742971557, -94.74440135094207, -94.72985978576105, -94.72868184906858, -94.7249331730018, -94.73266952690433, -94.73550969503488, -94.7304986313061, -94.72672147005262, -94.72764429247061, -94.72251723888186, -94.71598842651153, -94.70892526795257, -94.72789501702086, -94.72837824781993, -94.72174352123191, -94.7216759610759, -94.71648681400565, -94.72122506367879, -94.72659417051584, -94.71787537024865, -94.71936619581125, -94.72569689486622, -94.73262583763457, -94.7149222380804, -94.7122961062518, -94.7111588559498, -94.70887036438019, -94.70710554323827, -94.7061631882444, -94.7104540333844, -94.7050260515376, -94.70184967979705, -94.69692633143717, -94.70238257601724, -94.71554433986553, -94.71527447769539, -94.72060362442684, -94.72804464774312, -94.73574989536839, -94.7433672649629, -94.70388327634592, -94.70513985714481, -94.70141669993475, -94.6898541716246, -94.68851704055255, -94.68091820230435, -94.70116596117718, -94.70163046490927, -94.70204661254314, -94.7002412162021, -94.70107314487363, -94.69586572952821, -94.68956326222357, -94.71737394536558, -94.72046957967804, -94.72676757230447, -94.73408934045324, -94.69817372059043, -94.69594896844198, -94.69314427352217, -94.69564846793122, -94.68867052121708, -94.6780054139628, -94.6767658057074, -94.67249487849102, -94.70006313437511, -94.70226816691752, -94.69805215130711, -94.7175354799913, -94.71767408035547, -94.72221223405938, -94.69209361527301, -94.69088742384288, -94.66854929879977, -94.66415383877617, -94.71776650089518, -94.71906878671385, -94.71446918903301, -94.726971962729, -94.7272458458602, -94.73225658148051, -94.66627592841925, -94.66908207217531, -94.72026764130604, -94.71827159464159, -94.71303373628854, -94.72437540836314, -94.70750705444611, -94.70870848074888, -94.73703421432319, -94.74202738607687, -94.74736338387571, -94.73867104141253, -94.74415543166327, -94.67219820283864, -94.67647821135976, -94.68133997629924, -94.68490728737127, -94.68834298188985, -94.69096745651925, -94.66852776253084, -94.66665117868041, -94.72726346455549, -94.72869208922187, -94.7321670006442, -94.73049876968105, -94.73499926291008, -94.74157378295565, -94.91515822088624, -94.90951437055585, -94.90938701892584, -94.90925956312398, -94.90887762730321, -94.90374275631805, -94.90361578904792, -94.90336180628842, -94.90323479084276, -94.9031079348209, -94.89835116077477, -94.89822449462858, -94.89809785622742, -94.89797111423985, -94.89784453133659, -94.89771784489048, -94.89759131745713, -94.89746468652451, -94.89733821453318, -94.89371664156661, -94.8935901106698, -94.89283111403466, -94.89270477714335, -94.8925783369151, -94.89245205539518, -94.89232580153619, -94.89219944440542, -94.892073245876, -94.89194694411827, -94.89182080089056, -94.891694554478, -94.89156846652416, -94.89144240618252, -94.88819282780968, -94.88806662697631, -94.88794032292559, -94.88781417742058, -94.88768805955496, -94.88756183853711, -94.88718360294966, -94.88705749256378, -94.88693154047415, -94.88680548536244, -94.88667958847579, -94.8865537191659, -94.88642774689893, -94.88630193275031, -94.88605025667283, -94.88592439478724, -94.88579869087788, -94.88554723530997, -94.88241571004653, -94.88228989478075, -94.88203821650688, -94.88191248395573, -94.88178664856758, -94.88166097113425, -94.88153519090723, -94.88140956856395, -94.88128384347023, -94.88115827618924, -94.88103260620103, -94.8809070939546, -94.88078160920078, -94.88065602180453, -94.88053059204368, -94.8804050596836, -94.88027968488802, -94.88015420753636, -94.88002888767842, -94.87990359526466, -94.87977820035952, -94.87663856468245, -94.87651313499124, -94.8763876027136, -94.87626222801313, -94.87613688078336, -94.8760114310319, -94.87588613875128, -94.8757607439921, -94.87563550663293, -94.8755101668383, -94.87538498437289, -94.87525969951513, -94.87513457191582, -94.87500947172501, -94.87488426920642, -94.87475922384026, -94.87463407618938, -94.87450908562028, -94.87438399280948, -94.87425905700984, -94.8741341485704, -94.87400913795379, -94.87098659307517, -94.8708613918019, -94.87073634769219, -94.87061120131152, -94.8704862120237, -94.87036125012229, -94.87023618601441, -94.87011127889343, -94.86998626960902, -94.86986141724086, -94.86961166510936, -94.86948676538896, -94.86936202244371, -94.86923730682278, -94.86911248918877, -94.86898782822419, -94.86886306528945, -94.86873845895369, -94.86861375069066, -94.86848919895623, -94.86836467449798, -94.8655833577534, -94.8654585898432, -94.86533371989165, -94.86520900668971, -94.86508419148936, -94.86495953296806, -94.86483477249128, -94.86471016862305, -94.86458559205686, -94.86446091359952, -94.86433639164507, -94.86421176784232, -94.8640873004721, -94.86396273129643, -94.86383831848289, -94.86371380390676, -94.86358944562245, -94.86346511457832, -94.86334068183577, -94.86321640527964, -94.8630920270679, -94.862843481264, -94.85992899530986, -94.85980458606707, -94.85968020409011, -94.85955572038755, -94.85943139294983, -94.85930696382931, -94.85918269090332, -94.85905831633731, -94.85893409789557, -94.8588099066715, -94.85868561387154, -94.85856147709053, -94.85831315641093, -94.85806494457779, -94.85794081515279, -94.85781684153628, -94.8576928950758, -94.85756884723158, -94.85744495509078, -94.85732096160893, -94.85719712376047, -94.8570731846136, -94.85415018482709, -94.85402616158393, -94.85390216552206, -94.85365412635872, -94.8535300832999, -94.8534061959511, -94.85328220727774, -94.85315837424434, -94.85303456834431, -94.85291066118366, -94.85278690955795, -94.85266305671422, -94.85241556078131, -94.85229191762221, -94.85216817333024, -94.85204458436345, -94.85192102246853, -94.85179735950457, -94.85167385176102, -94.85155024299094, -94.8514267893715, -94.85130323476804, -94.84874230360462, -94.84849476522645, -94.84837097261452, -94.84824733540282, -94.84812372528792, -94.84800001407893, -94.84787645816527, -94.84775280120004, -94.84762929946027, -94.84750569671144, -94.84738224911823, -94.84725882857403, -94.84713530708449, -94.8470119406459, -94.84688847330445, -94.84676516094419, -94.84664174772355, -94.84651848941438, -94.84639513028723, -94.8462719260019, -94.84614874870432, -94.84602547065235, -94.84590234733777, -94.84577912331125, -94.84565605395252, -94.8432087785887, -94.84308526418707, -94.84296190484011, -94.84283844460872, -94.84271513936218, -94.84259173327368, -94.84246848210029, -94.84234525793921, -94.8422219329998, -94.84209876287095, -94.84197549200614, -94.84185237588221, -94.84172915906474, -94.84160609691853, -94.84148306173698, -94.84135992592542, -94.84123694468074, -94.8411138628484, -94.84099093551346, -94.84086790763313, -94.8407450341807, -94.8406220602252, -94.84049924062815, -94.84037644793467, -94.84025355480152, -94.84000797664652, -94.8375506064293, -94.83742757950742, -94.83730445197486, -94.83718147901142, -94.83705840547967, -94.83693548644743, -94.83681246688919, -94.83668960176092, -94.8365667635605, -94.83644382489747, -94.83632104056021, -94.83619815580265, -94.83607542530142, -94.8359525944221, -94.8358299177297, -94.83570726791763, -94.8355845177908, -94.83546192174688, -94.83533922543043, -94.83521668312757, -94.83509404059436, -94.83497155200546, -94.8348489632284, -94.8347265283264, -94.83460412024381, -94.83448161203626, -94.83435925760001, -94.83423680308093, -94.83201448248887, -94.83176899379521, -94.83164635343299, -94.83152361277635, -94.83140102620325, -94.83127833937793, -94.83115580656678, -94.8310331735456, -94.8307882422363, -94.83066568985647, -94.83054329131762, -94.83042079267409, -94.8302984478023, -94.83017600286796, -94.83005371163615, -94.82993144720031, -94.82980908276504, -94.82968687192863, -94.82956456113487, -94.82944240387086, -94.82932014669154, -94.82919804297295, -94.82883176571598, -94.82870964244077, -94.82858767245382, -94.82635440341376, -94.82623206915144, -94.8261096348478, -94.82598735424591, -94.82586510045014, -94.82574274667621, -94.82562054650025, -94.82549824638816, -94.8253760998049, -94.82525385332757, -94.82513176030997, -94.82500969405118, -94.82488752796134, -94.82476551522768, -94.82464340270495, -94.8245214434694, -94.82439938448677, -94.82427747872234, -94.8241555996695, -94.82403362093254, -94.82391179531038, -94.82378987004606, -94.82366809782766, -94.823546226009, -94.82342450716745, -94.82330268876753, -94.82305938443535, -94.82293764609926, -94.82281606056836, -94.82269437558377, -94.82257284333564, -94.82069367712475, -94.82057157640493, -94.82044962896995, -94.82032758181012, -94.82020568786612, -94.8200838206436, -94.81996185375915, -94.81984003998707, -94.81971812659499, -94.81959636624637, -94.81947450631966, -94.81935279936755, -94.81923111908972, -94.81910933929663, -94.81898771237488, -94.81886598597973, -94.81874441238715, -94.81862273936301, -94.81850121907267, -94.81837972540957, -94.81825813237765, -94.8181366919765, -94.81801515224834, -94.81789376508229, -94.81777227863101, -94.81765094467322, -94.81752951147199, -94.8172869764862, -94.81716562309592, -94.81704442202776, -94.81692312182048, -94.81680197386684, -94.8150320499789, -94.8149104360296, -94.81478872263004, -94.81466716202921, -94.8144239947406, -94.81430251409806, -94.81418093410983, -94.8140595067484, -94.81393798008308, -94.81381660597586, -94.81369513260651, -94.8135738117266, -94.81345251743647, -94.81333112394687, -94.81320988284378, -94.81308854258293, -94.8128460675811, -94.81272493277159, -94.81260382450495, -94.8124826171848, -94.81236156201136, -94.8122404078261, -94.81211940571907, -94.8119983046419, -94.81187735557458, -94.81175630757872, -94.81163541152436, -94.81151454195272, -94.81139357351496, -94.81127275691622, -94.81115184149299, -94.81103107784048, -94.80936977450544, -94.80924839518538, -94.80912716824652, -94.80900584217396, -94.80888466841398, -94.80876339556201, -94.80864227495405, -94.80852118089824, -94.80839998781298, -94.80827894686892, -94.80815780693709, -94.80803681907797, -94.8079157322727, -94.80779479747171, -94.80767388917602, -94.8075528819966, -94.80743202671887, -94.80731107259905, -94.80719027031255, -94.80706936922553, -94.80694861990354, -94.80682789704005, -94.80670707543838, -94.80658640549933, -94.80646563686366, -94.80634501982237, -94.80622430412599, -94.8061037399558, -94.80598307717203, -94.8058625658463, -94.80574208091913, -94.80562149744058, -94.80550106531794, -94.80538053468541, -94.80370659855637, -94.80358570559854, -94.80346471378199, -94.80334387386029, -94.80322293512144, -94.80310214820905, -94.8029812625211, -94.80286052859122, -94.80273982112885, -94.80261901495327, -94.80249836043329, -94.80237760724164, -94.80225700563733, -94.80213630540287, -94.80201575668751, -94.8018952343929, -94.80177461353038, -94.80153357611259, -94.80141315948916, -94.80129264438077, -94.80117228055295, -94.80105194309928, -94.80093150722277, -94.8008112225248, -94.80069083944538, -94.80045027716756, -94.8003300979012, -94.80020982033614, -94.80008969374572, -94.79996959346968, -94.799849394957, -94.79972934731711, -94.79816333182276, -94.79804277316524, -94.79792211592424, -94.79780161015991, -94.79768100585359, -94.79756055295572, -94.79744000155732, -94.79731960149918, -94.79719910298198, -94.79707875573688, -94.79695843487463, -94.7968380156154, -94.79671774752619, -94.79659738108143, -94.7964771657386, -94.7963568520816, -94.79623668945854, -94.79611655317171, -94.7958762350258, -94.79575605320807, -94.79563602225439, -94.79551589313124, -94.79539591480429, -94.79527596276709, -94.79515591262239, -94.79503601317214, -94.79491601565563, -94.79479616876579, -94.79467622385096, -94.79455642949503, -94.79443653715536, -94.79431679530688, -94.79419707968859, -94.79407726614839, -94.79395760299789, -94.79237804768037, -94.79225787639278, -94.79213760683858, -94.79201748827444, -94.79177720561766, -94.7916570415664, -94.7915370283692, -94.7914169170294, -94.79129695647575, -94.79105698988411, -94.7909371082323, -94.7908171285411, -94.7906972994664, -94.79057737239356, -94.79045759586943, -94.79033784559702, -94.7902179973883, -94.79009829962669, -94.78997850396998, -94.78985885869267, -94.78973911556145, -94.78961952274197, -94.7894999561279, -94.78938029172164, -94.78926077752573, -94.78914116557877, -94.78902170377458, -94.78890214426049, -94.78878273482162, -94.78866322771395, -94.78854387061402, -94.7884245396601, -94.78671254734017, -94.786592737156, -94.78647295324501, -94.78635307138427, -94.78623334002697, -94.78611351076115, -94.78599383193097, -94.78587405523346, -94.78575442890387, -94.78563470474813, -94.78551513089258, -94.78539558325053, -94.78527593784405, -94.7851564426363, -94.78503684970529, -94.78491740690536, -94.78479786642329, -94.78467847600474, -94.7845591117534, -94.78443964988153, -94.78432033797192, -94.78420092848285, -94.78408166888855, -94.78396231175586, -94.78384310445047, -94.78372392326612, -94.78360464460494, -94.78348551566995, -94.78336628929917, -94.78324721258724, -94.78312803848047, -94.78300901396527, -94.78288989209621, -94.78277091975141, -94.78265197346846, -94.78128549635028, -94.78116587102468, -94.78104639588493, -94.78092682305066, -94.7808074003346, -94.78068800380684, -94.78056850964623, -94.7804491655024, -94.78032972376681, -94.78021043198044, -94.78009104264336, -94.77997180318799, -94.77985246622293, -94.77973327907212, -94.7796141180501, -94.77949485957997, -94.7793757508229, -94.7792565446587, -94.77913748814017, -94.77901833425548, -94.77889932994911, -94.77878035172543, -94.77866127619703, -94.778542350146, -94.77842332683119, -94.77830445292648, -94.77818548179893, -94.77806666001423, -94.7779478642662, -94.77782897135666, -94.77771022768923, -94.77747269528808, -94.77735390659524, -94.77723526701028, -94.7771165303864, -94.7769979428033, -94.77561772187924, -94.77549858210389, -94.77526025741498, -94.77514107254243, -94.7750220373011, -94.77490302816321, -94.77466496478563, -94.77454591058687, -94.77442700585092, -94.77430800388088, -94.77418915130635, -94.77407020153862, -94.77383262670376, -94.77371375517656, -94.77359503287676, -94.77347621348596, -94.77323877597473, -94.77312015778715, -94.7730015655977, -94.77288287641936, -94.77276433623348, -94.77264569909951, -94.77252721089098, -94.77240862577514, -94.7722901895177, -94.77217177921254, -94.77205327206123, -94.7719349136679, -94.77181645846916, -94.77169815196147, -94.77157974868912, -94.77146149404093, -94.7713431426688, -94.77122493985398, -94.7699492948909, -94.76983039365804, -94.76971164170392, -94.76959279264857, -94.76947409280469, -94.76923664814045, -94.7689993076585, -94.7688807379615, -94.7687620713062, -94.76864355362729, -94.76852493903087, -94.76840647334375, -94.76828791077993, -94.76816949705835, -94.76805110929622, -94.76793262471853, -94.76781428888258, -94.76769585627179, -94.76757757233578, -94.76745919166565, -94.76734095960342, -94.76722275345477, -94.76710445063306, -94.76686804537235, -94.76674994286654, -94.76663174376897, -94.76651369304534, -94.76639566818962, -94.76627754680308, -94.76615957369039, -94.76604150408751, -94.76592358269176, -94.76580556484643, -94.76568769514157, -94.76404303936168, -94.76392467523537, -94.76380621432506, -94.763687902139, -94.76356949320967, -94.76345123293761, -94.76333299859924, -94.76321466757865, -94.76309648511493, -94.76297820600966, -94.76286007539431, -94.76274184817812, -94.76262376938499, -94.76250559403164, -94.76238756703454, -94.7622695659122, -94.76215146829058, -94.76203351892504, -94.7619154731008, -94.7617975754659, -94.7616795814129, -94.76156173548253, -94.76144391538125, -94.7613259989227, -94.76120823048682, -94.7610903657342, -94.76097264893765, -94.7608548358649, -94.76073717068161, -94.76061953128183, -94.76050179566661, -94.76038420784108, -94.76026652384058, -94.7601489875633, -94.7600313551515, -94.75991387039647, -94.75884617394853, -94.75825565907525, -94.75813768278331, -94.7580196100246, -94.75790168550293, -94.75778366455509, -94.75766579177753, -94.75754794484877, -94.75743000155468, -94.75731220633078, -94.7571943147821, -94.75695873140747, -94.75684103951488, -94.75672325137856, -94.75660561111248, -94.75648799663647, -94.75637028597745, -94.75625272308885, -94.75613506405772, -94.75601755273044, -94.7558999453011, -94.75578248550914, -94.75566505146172, -94.75554752137286, -94.75543013882177, -94.75531266026962, -94.75519532918882, -94.7550779021474, -94.75496062251096, -94.75484336857365, -94.75472601873625, -94.75460881620437, -94.75449151781277, -94.75437436666043, -94.75425711968869, -94.75414001988997, -94.7534103785457, -94.75317469200718, -94.75305682647154, -94.75293910891892, -94.75282129511555, -94.75270362922856, -94.75258598915119, -94.75246825288376, -94.75235066443275, -94.75223297983221, -94.7521154429815, -94.75199781002169, -94.75188032474514, -94.75176286523254, -94.7516453096715, -94.75152790169396, -94.7514103977084, -94.75129304123989, -94.75117558880375, -94.75105828381821, -94.75094088290545, -94.75082362937688, -94.75070640155373, -94.75058907786386, -94.75047190145871, -94.75035462922717, -94.75023750421404, -94.75012028341486, -94.75000320976781, -94.74988616178078, -94.74976901806812, -94.74965202140828, -94.74953492906312, -94.74941798370457, -94.74930094270098, -94.74918404861788, -94.7490671801495, -94.74895021609639, -94.74883339886466, -94.74871648608843, -94.74859972006752, -94.7484828585423, -94.74773727142961, -94.74761983908078, -94.74750231071798, -94.7473849299167, -94.74726745314184, -94.74715012386206, -94.74703269864905, -94.74691542086464, -94.74679816880482, -94.74668082087231, -94.74656362026877, -94.74644632383294, -94.74632917465968, -94.74621192969441, -94.74609483192542, -94.74597775983548, -94.74586059201401, -94.74574357128935, -94.74562645487345, -94.74550948548811, -94.7451584886971, -94.74504162191256, -94.74492478074875, -94.74480784403453, -94.74469105411931, -94.74457416869387, -94.74445743000138, -94.74434059583885, -94.74422390834317, -94.744107246423, -94.74399048909302, -94.74387387833093, -94.74375717219922, -94.74364061256941, -94.74352395761011, -94.7434074490868, -94.74329096609382, -94.7431743878315, -94.74305795590635, -94.74294142875196, -94.74282504786892, -94.74206338697145, -94.74194631755762, -94.74182927382881, -94.74171213440385, -94.74159514205222, -94.7414780540447, -94.74136111304422, -94.74124407642812, -94.74112718675279, -94.74101032271703, -94.74089336312595, -94.7407765503764, -94.74065964211177, -94.74054288062247, -94.74042602365829, -94.74030931340333, -94.74019262874256, -94.74007584866715, -94.73995921520186, -94.73984248636208, -94.73972590406642, -94.73960922643637, -94.73949269528445, -94.73937606883828, -94.73925958880426, -94.73914313430627, -94.73902658457416, -94.73891018115535, -94.73867733017708, -94.73856088265768, -94.73844458131987, -94.73832830547298, -94.73821193453216, -94.73809570967427, -94.73797938976246, -94.73786321586783, -94.73774694695928, -94.7376308240022, -94.73751472649107, -94.73739853402596, -94.73728248741386, -94.73716634588774, -94.73638884606575, -94.7362720186794, -94.7361553379773, -94.736038682875, -94.73592193239442, -94.73580532849891, -94.73568862926523, -94.73557207655057, -94.73545542853783, -94.73533892697813, -94.73522245097291, -94.73510587972977, -94.73498945484067, -94.73487293475372, -94.73475656095489, -94.73464009199826, -94.73440747203868, -94.73429107971582, -94.73417483351638, -94.73405849225921, -94.73394229705966, -94.7338260068424, -94.73370986261698, -94.73359362341381, -94.73347753013675, -94.73336146231104, -94.7332452995675, -94.73312928265155, -94.73301317085772, -94.73289720482583, -94.732781143956, -94.73266522878248, -94.73254933901534, -94.7324333544701, -94.73231751552285, -94.73220158183737, -94.73208579368435, -94.73196991083297, -94.73185417344855, -94.73173846142569, -94.73150699347157, -94.73139123758014, -94.73127562699212, -94.73059706293735, -94.73048062475777, -94.73036433277387, -94.73024806630461, -94.73013170477488, -94.73001548934198, -94.72989917888862, -94.72978301446625, -94.7296667550634, -94.72955064162575, -94.72943455365755, -94.72931837076882, -94.72920233374664, -94.72908620184387, -94.72897021574192, -94.72885413479932, -94.72862228980881, -94.72850628524495, -94.72839042631779, -94.72827447264969, -94.72815866455271, -94.72804276175466, -94.72792700446219, -94.72781115250848, -94.72757976484779, -94.72746398909926, -94.7273483586926, -94.72723263372424, -94.72711705403229, -94.72700137981846, -94.72688585081565, -94.72677034713467, -94.72665474899144, -94.72653929596123, -94.7264237485085, -94.7263083461035, -94.7261928493157, -94.72607749751033, -94.72596217098214, -94.72584675013071, -94.7257314741639, -94.72561610391357, -94.72480562959497, -94.72468958060341, -94.724573677319, -94.72445779946402, -94.7243418268664, -94.72422599987742, -94.72411007818563, -94.72399430203686, -94.72387843122516, -94.72376270589086, -94.72364700594099, -94.72353121138795, -94.723415562214, -94.72329981847668, -94.72318422005297, -94.72306852710567, -94.72295297940651, -94.72283745704688, -94.7227218402233, -94.72260636854976, -94.72249080245203, -94.72237538143897, -94.72225986604145, -94.72214449566326, -94.72202903094033, -94.7219137111714, -94.72179841668442, -94.72168302791225, -94.72156778399622, -94.72145244583466, -94.72133725246404, -94.72122196488755, -94.7211068220368, -94.72099170442335, -94.72087649266349, -94.72076142553169, -94.7206462642931, -94.72053124761747, -94.72041613687463, -94.72030117062974, -94.72018622957759, -94.7200711945176, -94.71995630385803, -94.71984131923016, -94.71901379545201, -94.71889813568019, -94.71878262112688, -94.71866713191783, -94.71855154828398, -94.7184361097705, -94.71832057687195, -94.71820518902835, -94.71808970683942, -94.71797436964006, -94.7178590577401, -94.71774365155433, -94.71762839026017, -94.7175130347199, -94.71739782400594, -94.71728251908551, -94.71716735892619, -94.71705222402147, -94.71693699496976, -94.71682191058133, -94.71670673208551, -94.71659169818784, -94.71647657022237, -94.71636158678992, -94.71624650932925, -94.71613157633654, -94.71601666854106, -94.71590166677672, -94.71578680938275, -94.71567185805945, -94.71555705104156, -94.71544215013385, -94.7153273934666, -94.71521266195207, -94.71509783660699, -94.71498315540498, -94.7148683804119, -94.71475374949702, -94.71463902483053, -94.71452444417744, -94.71440988863269, -94.71429523939547, -94.71418073407446, -94.71322193592896, -94.71310666538325, -94.71299153956748, -94.71287643901077, -94.71276124434713, -94.71264619431557, -94.71253105021668, -94.71241605068467, -94.71230095712492, -94.71218600806692, -94.71207108422325, -94.71195606641118, -94.71172622566638, -94.71161140266858, -94.71149648578144, -94.71138171316832, -94.71126696572493, -94.71115212445144, -94.71103742735453, -94.710922636467, -94.71080798969109, -94.71069324916405, -94.71057865268372, -94.71046396249172, -94.71034941628156, -94.71023489518394, -94.71012028043378, -94.71000580956826, -94.7098912450896, -94.70977682443078, -94.70966231019823, -94.70954793972079, -94.70931915538759, -94.70909047138052, -94.70897622623275, -94.70886188764895, -94.70874769259397, -94.70863352256296, -94.70743005111106, -94.70731516979792, -94.70720043272608, -94.70708572082813, -94.70697091514108, -94.70685625359785, -94.70674149830499, -94.70662688709098, -94.7065121821668, -94.70628308547556, -94.70605397052816, -94.70593939140116, -94.70582495612588, -94.7057104272784, -94.70559604221788, -94.70548168224215, -94.70536722875329, -94.70525291895423, -94.70513851568136, -94.70502425603358, -94.70490990295133, -94.70479569342949, -94.70468139051249, -94.70456723109126, -94.70445309669785, -94.70433886896822, -94.70422478463747, -94.70411060700978, -94.7039965727164, -94.70388244516533, -94.70376846088405, -94.70365450158641, -94.70354044908993, -94.70342653976654, -94.70331253728352, -94.70319867790916, -94.70308472541439, -94.70152364900949, -94.70140930068797, -94.70129497745513, -94.70118056075107, -94.70106628770252, -94.7009519212221, -94.70083769833244, -94.70072338205023, -94.70060920929404, -94.70049506158212, -94.70038082053657, -94.70026672292009, -94.70015253200927, -94.7000384844629, -94.69981034615982, -94.69969637365814, -94.69958230796023, -94.69946838546537, -94.6993543698135, -94.6992404973002, -94.69912653166907, -94.69901270911204, -94.69889879347639, -94.69878502085038, -94.69867127316752, -94.69855743246475, -94.69844373467511, -94.69832994390471, -94.69821629598306, -94.6981025551198, -94.697988957041, -94.69787538386127, -94.69776171779857, -94.69764819442395, -94.69753457820545, -94.6974211046108, -94.69561814353843, -94.69550420897704, -94.69539018126234, -94.69527629671484, -94.69504848449422, -94.69493455686032, -94.69482077226458, -94.69470701262803, -94.6945931599753, -94.69447945026407, -94.69436564757576, -94.6942519877646, -94.69413823501549, -94.69402462507912, -94.69391104005781, -94.6937973621572, -94.69368382697284, -94.69357019894832, -94.69345671357577, -94.69334313540212, -94.69300278564376, -94.69288942467773, -94.69277597100815, -94.69266265976589, -94.69254925585908, -94.69243599431547, -94.69232264014632, -94.69220942827629, -94.69209624122075, -94.69198296159811, -94.69186982417855, -94.69175659423084, -94.69164350642218, -94.6895997767601, -94.68948628071999, -94.68937269188346, -94.68925924566152, -94.68914570668224, -94.68903231025327, -94.68891893869844, -94.68869215264515, -94.6885787381857, -94.68846546611606, -94.68835210142561, -94.6882388790608, -94.68812568152613, -94.68801239142911, -94.6878992435616, -94.6877860031707, -94.68699448468311, -94.68688155999452, -94.6867685429576, -94.6866556677983, -94.68654270032954, -94.68642987467453, -94.68631707374945, -94.68620418057317, -94.68609142911492, -94.68597858544426, -94.68586588342785, -94.68369623980318, -94.6835830397981, -94.68346998191949, -94.68335683160115, -94.68324382334524, -94.6831308398784, -94.68301776403018, -94.68290483014839, -94.68279180392409, -94.68267891960225, -94.68256594297677, -94.68245310818982, -94.68234029814808, -94.68222739586093, -94.68121297357442, -94.68110043544574, -94.68087531651624, -94.6807627357541, -94.68065029632037, -94.680537881532, -94.68042537480831, -94.6803130093176, -94.68020055193026, -94.68008823571233, -94.67734271625308, -94.67723002881655, -94.67711748285889, -94.67700484487601, -94.67689234830824, -94.676779759754, -94.67666731255115, -94.6765548900086, -94.6753192862043, -94.67520704292589, -94.67509494055393, -94.67498274650468, -94.67487069329844, -94.67475866465301, -94.67453456487122, -94.67442249377339, -94.67431056336017, -94.67133011086172, -94.6712178611265, -94.67110575231906, -94.67099355184227, -94.67088149222978, -94.67076945719268, -94.6695381123549, -94.66942625596508, -94.66931453999612, -94.66920273266597, -94.66909106569342, -94.66897942319713, -94.66886768939727, -94.66875609586032, -94.66864441105821, -94.66853286645589, -94.66554271424192, -94.66543085276061, -94.66531913171973, -94.66520731932665, -94.66509564731072, -94.66498399978526, -94.66320015724897, -94.66308880992031, -94.66297760236951, -94.66286630386931, -94.66275514508405, -94.6597552930846, -94.65964381986342, -94.65953248659527, -94.65942106229211, -94.65730990604185, -94.65719908448335, -94.65385676251995, -94.92053110813785, -94.92050559484989, -94.92048008267496, -94.92045457161304, -94.92042906166407, -94.92040355282798, -94.92037804510471, -94.92035253849423, -94.92032703299647, -94.92030152861136, -94.91938210361454, -94.91915266123401, -94.91823309797878, -94.9180037927447, -94.91708409123127, -94.91685492314411, -94.91596053680632, -94.91593508337262, -94.91570605243291, -94.91568061010123, -94.91481151259524, -94.91453175351542, -94.91450632752831, -94.9136879113332, -94.91366248727432, -94.91335748506799, -94.91333207542412, -94.91330666688873, -94.91328125946174, -94.91325585314307, -94.91323044793272, -94.91305264248773, -94.9130272461417, -94.91300185090347, -94.91297645677298, -94.91295106375016, -94.91292567183498, -94.91253886966034, -94.91208168052789, -94.91205629165657, -94.91203090389277, -94.91200551723644, -94.91198013168751, -94.91192936391164, -94.9119039816846, -94.91177708715604, -94.91141522156012, -94.9113898268789, -94.91083142409457, -94.9108060548812, -94.91078068677447, -94.91062850137021, -94.91026616242723, -94.90965736140984, -94.9096320085307, -94.90947991447813, -94.9091424674878, -94.90911710218705, -94.90833132648045, -94.90801874205913, -94.90799339089668, -94.90718273737788, -94.90689498613982, -94.90686964911696, -94.90603414717104, -94.90589783071205, -94.90587250230526, -94.90584717500354, -94.90582184880688, -94.90579652371518, -94.90577119972839, -94.90574587684648, -94.9048855558606, -94.9048602716141, -94.90479925845266, -94.90477394308662, -94.90474862882515, -94.90371169442396, -94.90367532617836, -94.90365002495959, -94.90256311613165, -94.9025378634332, -94.90262723123068, -94.90260194085022, -94.90257665157324, -94.90255136339967, -94.90252607632948, -94.901389299262, -94.90162959318147, -94.90160431143754, -94.90157903079677, -94.9015537512591, -94.90152847282445, -94.9015031954928, -94.90147791926405, -94.90024073398997, -94.90021551283711, -94.90050545615783, -94.90048018857004, -94.89906696168705, -94.8993560351845, -94.89791840943755, -94.89789321982778, -94.89906532906924, -94.89904005452625, -94.89901478108636, -94.8989895087495, -94.8989642375156, -94.89893896738464, -94.89891369835654, -94.89888843043124, -94.89886316360871, -94.89823185127952, -94.89820661310925, -94.89674468170107, -94.8980416995172, -94.89801643474335, -94.89799117107223, -94.89796590850375, -94.89794064703786, -94.8979153866745, -94.89771334345218, -94.89768809300914, -94.89710763685363, -94.89708241284285, -94.8955961424763, -94.89557098440713, -94.89694218188212, -94.89691693018956, -94.89689167959914, -94.8965382870274, -94.8965130529625, -94.8959833919054, -94.89595818205544, -94.89442245930599, -94.89439731755454, -94.89437217689972, -94.89434703734148, -94.89586784611537, -94.89584260640491, -94.89581736779611, -94.8957921302889, -94.89536326115568, -94.89483392074558, -94.8931985568029, -94.89474297307831, -94.89471774755577, -94.89421346824828, -94.89370962891182, -94.89368444848633, -94.89205007516846, -94.89202496714364, -94.89199986021397, -94.89361806946135, -94.89359285812805, -94.89306367424093, -94.89303848710414, -94.89301330106656, -94.89298811612812, -94.89296293228878, -94.89293774954848, -94.89291256790717, -94.89263564237004, -94.89261047391226, -94.89258530655275, -94.89256014029144, -94.89085140792074, -94.89246793812028, -94.89176286444494, -94.89173769917429, -94.89148610686026, -94.88970295453309, -94.89131780567939, -94.89058800988558, -94.89056286098425, -94.8903617092787, -94.8903365702528, -94.88855450005168, -94.89016767213936, -94.88941318586919, -94.88938805333586, -94.88931266231629, -94.88928753416972, -94.8892624071197, -94.88923728116617, -94.88921215630907, -94.88740604447717, -94.88901753750086, -94.88823839239453, -94.88821327622787, -94.88818816115727, -94.88816304718266, -94.88628261865, -94.88625758781023, -94.88786740176454, -94.88513414567313, -94.88510913005153, -94.88508411552102, -94.88671726493108, -94.88393567188875, -94.88556712700114, -94.88278722716609, -94.8844169879754, -94.8816387813537, -94.88326684785451, -94.88049033445225, -94.88211670663914, -94.87934188646238, -94.88099160855919, -94.88096656432995, -94.87821836060924, -94.8781934373848, -94.8798664798953, -94.87984144986521, -94.87706989522671, -94.87871630481642, -94.8759214287577, -94.87759112918216, -94.87756612864563, -94.87477296120291, -94.87474808363221, -94.87644093662695, -94.8735996302103, -94.87534068615147, -94.87531571402127, -94.87529074298111, -94.87245117570396, -94.87426533787068, -94.87424037776665, -94.87421541875214, -94.87419046082712, -94.87130272011385, -94.87316495845052, -94.87314001146525, -94.87311506556895, -94.87017908013888, -94.87015426344065, -94.87203958724005, -94.87201465446448, -94.86908021337052, -94.86905540972683, -94.86903060716502, -94.87091418543147, -94.8708892668669, -94.86793170887624, -94.86996311393321, -94.86993820196952, -94.86991329109335, -94.86988838130463, -94.86986347260333, -94.86983856498938, -94.86981365846273, -94.86978875302331, -94.86976384867108, -94.86700621077412, -94.86698142784229, -94.86695664599151, -94.86693186522172, -94.86690708553286, -94.86680797758567, -94.86678320330067, -94.8688375514111, -94.8688126536654, -94.86585756711048, -94.86575850276806, -94.86573373938313, -94.86570897707836, -94.86568421585369, -94.86565945570909, -94.86768707475079, -94.86473367592654, -94.8647089223664, -94.86653659700418, -94.86358501487624, -94.86541097108568, -94.86538611817195, -94.86243635274676, -94.86435983713525, -94.86433499519025, -94.86431015432976, -94.86428531455371, -94.86426047586207, -94.8612876895388, -94.86320927959471, -94.860139025253, -94.86205872097025, -94.85899035989002, -94.86090816126259, -94.85784169345055, -94.85975760047236, -94.85973281976429, -94.85669302593523, -94.85863180508018, -94.85860703860024, -94.85858227320153, -94.85559362406197, -94.85556899016606, -94.85554435734473, -94.85753073239832, -94.8575059790672, -94.85748122681674, -94.85444492394114, -94.85638012243199, -94.85329622274637, -94.85555100483461, -94.8555262680903, -94.855501532426, -94.8554767978417, -94.85545206433731, -94.85542733191281, -94.85527896004002, -94.85525423517309, -94.8552295113856, -94.85214752047828, -94.85442491610092, -94.85440019359744, -94.8542765972703, -94.85425188124253, -94.85417773963361, -94.8541530279219, -94.85412831728907, -94.85099881713758, -94.85327408846335, -94.85310116083788, -94.85307646120552, -94.85305176265153, -94.85302706517588, -94.8498501127249, -94.85234553502266, -94.85232083345602, -94.85229613296796, -94.8522714335584, -94.85224673522733, -94.85222203797466, -94.85219734180033, -94.85217264670432, -94.85214795268654, -94.85212325974696, -94.85190107180051, -94.85187638963988, -94.8487014072409, -94.85119456730817, -94.84755270068628, -94.85004359851573, -94.84650205202949, -94.84647753568338, -94.84645302040673, -94.84642850619952, -94.84640399306167, -94.84889262864597, -94.84537778459794, -94.84535328241428, -94.84776629903342, -94.8477416576996, -94.84427797578992, -94.84425348670172, -94.84422899868183, -94.84661531168311, -94.84315363326186, -94.84312915833938, -94.84551354783703, -94.84548893500987, -94.84546432325743, -94.8420047995095, -94.8443871262503, -94.84436252767847, -94.84085596469004, -94.84323608968747, -94.83973155908983, -94.83970712880414, -94.84208505205116, -94.8386071230191, -94.83858270690322, -94.84095856699533, -94.84093401334201, -94.83745825453167, -94.83980751188301, -94.8363093849797, -94.8386809797613, -94.83865645569917, -94.83516051436384, -94.83752990717483, -94.83403599892019, -94.83401164268477, -94.83659932224299, -94.83657481921618, -94.83655031725941, -94.8365258163726, -94.83650131655571, -94.83647681780867, -94.83645232013144, -94.83640332798619, -94.83637883351807, -94.83288711094201, -94.83547259825792, -94.83544810949962, -94.83530119940544, -94.83527671813185, -94.83525223792729, -94.83176254872545, -94.83173822190192, -94.83432136910652, -94.83061364338674, -94.83058933180054, -94.83056502127492, -94.83054071180987, -94.83317013888632, -94.82939185112063, -94.82936755795147, -94.83204335140772, -94.832018907598, -94.82821871143783, -94.83094096385362, -94.8309165332496, -94.8308921037125, -94.82706986386505, -94.82704560222528, -94.82988735612646, -94.82986293659788, -94.82983851813573, -94.82981410073997, -94.82978968441053, -94.82589676882893, -94.82587252348179, -94.82876041949764, -94.8287360142468, -94.82472370426196, -94.82760906120787, -94.8235748839851, -94.8235506701629, -94.82648207747961, -94.82645770185289, -94.8224018640634, -94.82237766653056, -94.82533070171502, -94.8212288746085, -94.82420367088626, -94.8241793248865, -94.8200800816315, -94.82310094214444, -94.8230766093652, -94.82305227764866, -94.81893128760026, -94.82197383564444, -94.82194951715037, -94.8177824925154, -94.82084669844788, -94.82082239424032, -94.81665781774444, -94.81663369637761, -94.81969524063362, -94.81550900532102, -94.81854378175854, -94.8143601918459, -94.81741658104409, -94.81739232182326, -94.81323545403674, -94.81321137731982, -94.81626510469981, -94.81208662322611, -94.8151620875148, -94.81513785687659, -94.81511362729664, -94.81093779136577, -94.81410745007823, -94.81408323056004, -94.81405901209968, -94.81403479469706, -94.81401057835215, -94.80978895845637, -94.81298008366883, -94.81295587844716, -94.80868815920154, -94.80866414132616, -94.80864012449857, -94.81185268655, -94.81182849562614, -94.80761130792744, -94.80758730214612, -94.80756329741206, -94.80753929372523, -94.81070108209558, -94.80646239569263, -94.809573637854, -94.8095494765852, -94.80531348241118, -94.80847031092225, -94.80844616289997, -94.80842201593242, -94.8041645680837, -94.80739106155183, -94.80736692572435, -94.80734279095111, -94.80731865723203, -94.8030156527109, -94.8062876048284, -94.80626348225306, -94.80623936073137, -94.8018906669294, -94.8018667362934, -94.80515998050109, -94.80513587223349, -94.80076565066989, -94.8007417342292, -94.8040323254502, -94.80400823149165, -94.79961670168689, -94.80288056002611, -94.7984677516611, -94.80172879355023, -94.79731880059317, -94.80057702602322, -94.79619370500734, -94.7961698484838, -94.79942525744575, -94.795092422304, -94.79506857894032, -94.79504473661687, -94.79827348781848, -94.79396725155235, -94.7939434223907, -94.79712171714209, -94.79286586631265, -94.79284205031531, -94.79281823535703, -94.79596994541726, -94.79174062038352, -94.79171681859148, -94.79484214475109, -94.79481817264463, -94.79066292224934, -94.7906391325881, -94.79061534396482, -94.79059155637941, -94.7938101549822, -94.79378619300606, -94.79376223207663, -94.79373827219386, -94.79371431335767, -94.79369035556805, -94.78951381146982, -94.7926582879258, -94.78836469965296, -94.79150641982332, -94.78723933175698, -94.78721558679945, -94.79064162269063, -94.79061769427439, -94.79059376690346, -94.7905698405778, -94.79054591529737, -94.79052199106209, -94.79035455067543, -94.78611393336567, -94.7860902026201, -94.78951348212928, -94.78948956804325, -94.78937001328259, -94.78934610546399, -94.7893221986898, -94.78929829295993, -94.78927438827434, -94.78925048463299, -94.78922658203584, -94.78920268048279, -94.78496478794537, -94.78838531081603, -94.78836141106154, -94.78386304509148, -94.78383934277379, -94.78381564149028, -94.78730488272322, -94.78728099521453, -94.78725710874943, -94.78723322332783, -94.7827375552057, -94.78271386710396, -94.78615274805827, -94.7815883609344, -94.78502447014444, -94.78500061235039, -94.78048648392962, -94.78046282426375, -94.7804391656302, -94.78389616147155, -94.78387231801504, -94.77933725709052, -94.78274399292056, -94.77818802921969, -94.78159182332853, -94.77703880031781, -94.7804634510524, -94.78043965269612, -94.77588957038554, -94.77931126399952, -94.77474033942357, -94.77820661421225, -94.77818284454067, -94.77815907590755, -94.77359110743254, -94.77707814964535, -94.77705439431813, -94.77244187441312, -94.77592591333045, -94.77129264036597, -94.77477367597832, -94.77021397864812, -94.7701904531695, -94.77016692871742, -94.77014340529176, -94.77362143758964, -94.76915874794456, -94.76913523361621, -94.7691117203139, -94.76908820803757, -94.7690646967872, -94.77246919816507, -94.76810341057545, -94.76807990740188, -94.76805640525392, -94.76803290413149, -94.76800940403452, -94.7713169577053, -94.76697749354487, -94.76695400460588, -94.77016471621094, -94.76585154599321, -94.7658280712901, -94.76901247368275, -94.76898882603713, -94.76470210745313, -94.76467864801097, -94.76783659785903, -94.76352922370816, -94.76350578055002, -94.76722781801722, -94.76720417842533, -94.76718053986642, -94.76715690234039, -94.76713326584719, -94.76668436864844, -94.76666075280127, -94.76235637048458, -94.76607523378675, -94.76598074320538, -94.76595712314048, -94.7655085379416, -94.76120695939683, -94.76492264852394, -94.76480461486209, -94.76478101122413, -94.76435632205084, -94.7643327379996, -94.76005754728743, -94.76381725211687, -94.76379365665764, -94.76377006222947, -94.76362851730927, -94.7636049300969, -94.76320410512969, -94.75890813415705, -94.76268821508269, -94.76266463399273, -94.76245245054565, -94.76242887975755, -94.76205188717879, -94.75775872000638, -94.76153558052773, -94.76127641457002, -94.76125286020483, -94.76122930686878, -94.76120575456189, -94.76118220328406, -94.76115865303524, -94.76113510381539, -94.76111155562447, -94.76108800846241, -94.76106446232914, -94.76104091722466, -94.76101737314887, -94.76099383010177, -94.76097028808324, -94.76094674709329, -94.76092320713182, -94.76089966819882, -94.75660930483605, -94.76043004860864, -94.76040649626123, -94.76038294494299, -94.7598886049083, -94.75977097174047, -94.75974744819045, -94.75545988864674, -94.75930091916587, -94.75927738119174, -94.75859522715434, -94.75431047143911, -94.75838351757847, -94.7583599847252, -94.75833645290035, -94.75831292210384, -94.75828939233564, -94.75826586359568, -94.75824233588393, -94.75821880920032, -94.75817175891733, -94.75814823531783, -94.75318435902659, -94.75316105321383, -94.75723067863926, -94.75706607811243, -94.75704256786156, -94.75701905863805, -94.75208150867644, -94.75205821609175, -94.75203492452347, -94.75607783867228, -94.75100188069558, -94.75097860032555, -94.75095532097141, -94.75093204263315, -94.75494848532966, -94.75492499767817, -94.74985236784565, -94.75381910116609, -94.75379562789895, -94.74872610483646, -94.7487028539804, -94.75266622729865, -94.74757657469154, -94.7515836858892, -94.7515602403702, -94.75153679587582, -94.75151335240602, -94.7464270435326, -94.75050106019717, -94.75047762701901, -94.75045419486497, -94.75043076373498, -94.74527751136031, -94.74937150956222, -94.7493480907757, -94.74412797817534, -94.74824192809504, -94.74821852370145, -94.7430479736376, -94.74302479607309, -94.74300161952003, -94.74297844397836, -94.74708892579484, -94.74194472025638, -94.74192155593742, -94.74189839262937, -94.74593592247243, -94.7407951077006, -94.74480627729312, -94.74478291812842, -94.73964549413455, -94.73962236035301, -94.73959922758102, -94.74365325651084, -94.73844964354227, -94.742546894427, -94.7425235640578, -94.7425002347083, -94.73730005849464, -94.74139384076787, -94.73615047243885, -94.74024078608971, -94.73500088537554, -94.7390877303932, -94.73385129730539, -94.73798121411726, -94.7379579433896, -94.73793467367899, -94.73270170822906, -94.73682812554597, -94.73155211814722, -94.73567503595825, -94.73042553768614, -94.73040252706052, -94.73452194535476, -94.72929892668742, -94.72927593032674, -94.73336885373617, -94.72814930305522, -94.73221576110313, -94.72699967842006, -94.73106266745637, -94.7258500527826, -94.72990957279653, -94.72470042614353, -94.72877962549926, -94.72875647712428, -94.72355079850348, -94.72762651339384, -94.7224240756073, -94.72240116986316, -94.7264734002773, -94.72129732217007, -94.72127443069714, -94.72532028615032, -94.7201705381904, -94.72014766099, -94.72416717101358, -94.71911231843373, -94.71908945251353, -94.71906658759126, -94.71904372366686, -94.7190208607403, -94.72301405486776, -94.71796257889244, -94.72190705242778, -94.72188399456675, -94.72186093771352, -94.72183788186801, -94.71683567472192, -94.71681283835382, -94.72075390342027, -94.71570874000058, -94.71568591791156, -94.71960075340557, -94.7146273933306, -94.71460458353101, -94.71458177472694, -94.71455896691833, -94.71844760238439, -94.71350036893791, -94.7134775734213, -94.71729445035739, -94.71237331398743, -94.71235053275512, -94.71614129732522, -94.7112917653522, -94.71126899641807, -94.7112462284777, -94.71122346153105, -94.71498814328858, -94.71496517796695, -94.71494221364907, -94.71014186606008, -94.71378908945478, -94.70903744549504, -94.70901470513866, -94.70899196577481, -94.71263596425744, -94.70788751365237, -94.71148283805776, -94.71145992100995, -94.71143700496373, -94.70678300337309, -94.70676029159979, -94.70673758081777, -94.71028390860613, -94.70574653628616, -94.70572383484314, -94.70570113439103, -94.70567843492974, -94.70565573645924, -94.70563303897947, -94.70913081124763, -94.70910792704478, -94.70459649447048, -94.70795484410701, -94.70344645166453, -94.70680176016972, -94.70677890780772, -94.7067560564445, -94.70231906443796, -94.702296407869, -94.7056030023485, -94.70121428989117, -94.70119164663393, -94.70116900436506, -94.70444994725443, -94.70010945714915, -94.70008682720618, -94.70006419825101, -94.70329689116299, -94.69898194957851, -94.69895933393953, -94.70214383407482, -94.70212104538683, -94.70209825769486, -94.69783181008981, -94.70094523044847, -94.70092245917033, -94.70089968888742, -94.69668166961453, -94.699746691481, -94.69727236232967, -94.69709122385164, -94.69706858599136, -94.69553152815338, -94.69550895839026, -94.69859369308008, -94.69857095462561, -94.6961210403902, -94.69609840996279, -94.6960757805237, -94.69598527264971, -94.69596264815154, -94.6959400246414, -94.69591740211926, -94.69589478058504, -94.69435883123592, -94.69433627774939, -94.69741797064758, -94.6973952486029, -94.69496971746236, -94.69492448828228, -94.6949018751737, -94.69487926305267, -94.69485665191915, -94.69483404177309, -94.69474361106253, -94.69472100585305, -94.69318616490197, -94.69624227904788, -94.69621957341167, -94.69384099427411, -94.69381839354679, -94.69356985068025, -94.69354726179415, -94.69352467389453, -94.6935020869813, -94.69203605107074, -94.69506661827972, -94.69268965402719, -94.69235097682883, -94.6908859362564, -94.69391366215612, -94.6937776341336, -94.69160602882448, -94.69158345582844, -94.69156088381823, -94.69153831279385, -94.69119986569068, -94.6911773104324, -94.69115475615908, -94.69113220287068, -94.68973582045959, -94.69276070504154, -94.69273804664218, -94.69271538923309, -94.69269273281418, -94.69267007738546, -94.69264742294683, -94.69262476949827, -94.69260211703971, -94.69257946557111, -94.69049975882312, -94.69047719920297, -94.69045464056813, -94.68998113674863, -94.68858570368097, -94.69142663076691, -94.69140399569777, -94.68941597761174, -94.68939343038527, -94.68937088414357, -94.68934833888657, -94.68883006964239, -94.68880754800364, -94.68743558592124, -94.69025117531395, -94.69022855664294, -94.69020593896039, -94.69018332226624, -94.69016070656048, -94.68833211217778, -94.6883095773486, -94.68828704350368, -94.68826451064294, -94.68765649524634, -94.68630791362648, -94.68628546718102, -94.68900794682004, -94.68722564007645, -94.68720311863191, -94.68718059817105, -94.68650544150626, -94.6851577786147, -94.68785518609195, -94.68607409438013, -94.68535438678401, -94.68403005946409, -94.68400764262373, -94.68670242437689, -94.68667985587847, -94.6866572883663, -94.68496753212365, -94.68494503942101, -94.68492254770078, -94.68420333108031, -94.68418087175252, -94.68285750565425, -94.68550455647717, -94.68381595375308, -94.68302983040002, -94.68300738738432, -94.68170736770692, -94.68168498242888, -94.68435182360251, -94.68268683737492, -94.6826643744007, -94.68185636038311, -94.68053485879635, -94.683199089743, -94.68317656943246, -94.68315405010607, -94.68277137208098, -94.68274887046041, -94.68272636982306, -94.68155769028509, -94.68153524168588, -94.68070533240254, -94.67938473418737, -94.6820013460722, -94.68197884313378, -94.6819563411787, -94.68164141703267, -94.68161892982202, -94.6815739583484, -94.6804060782593, -94.67955430344328, -94.67953190739988, -94.67823460860258, -94.68080366696867, -94.68078118139952, -94.68075869681296, -94.68073621320895, -94.6807137305874, -94.68069124894829, -94.6806687682916, -94.68064628861723, -94.68062380992514, -94.68048895839794, -94.68042154589126, -94.68039907701935, -94.67934414659307, -94.67932172478919, -94.67929930396467, -94.67927688411949, -94.67925446525358, -94.67838089279344, -94.6783585130582, -94.67708448204266, -94.6794712579349, -94.67944879562233, -94.67942633429129, -94.67940387394171, -94.67938141457356, -94.67935895618677, -94.6793364987813, -94.67924667897165, -94.67922422647204, -94.67920177495347, -94.67819247117606, -94.6772075128047, -94.67593435450829, -94.67804940670524, -94.6780269715569, -94.67800453738882, -94.6770407947803, -94.6760565115746, -94.67478422600011, -94.67685219893826, -94.67682978113835, -94.67680736431791, -94.67588911740646, -94.67490550936859, -94.6736340965188, -94.67565505566319, -94.67563265520886, -94.67561025573326, -94.67558785723632, -94.67475980039944, -94.67473743905519, -94.67375450618732, -94.67248396606503, -94.67443559376099, -94.67441321162737, -94.67360810571154, -94.67260350203148, -94.67258119992182, -94.67255889878602, -94.67135608228796, -94.67133383463947, -94.67326096255887, -94.67323859678724, -94.67245641004753, -94.67140792431522, -94.67022816792543, -94.67020593459884, -94.67208636212565, -94.67130471340806, -94.67025694887127, -94.66907800397267, -94.67093412648758, -94.67015301579382, -94.66910597245484, -94.66908371827844, -94.66906146507381, -94.6690392128409, -94.66901696157963, -94.66899471129, -94.66897246197192, -94.66895021362535, -94.66866107350596, -94.66795004275951, -94.66792783905002, -94.66978188987366, -94.66975957122975, -94.66900131720546, -94.66779934352343, -94.66777711147228, -94.66775488039188, -94.66773265028219, -94.66771042114316, -94.66768819297472, -94.66753262296852, -94.66751040256317, -94.66748818312799, -94.66679986157375, -94.66860734902428, -94.66858504673843, -94.66784961764365, -94.66653739851526, -94.66651518663802, -94.66649297573063, -94.66647076579304, -94.66644855682519, -94.66642634882702, -94.6664041417985, -94.66638193573958, -94.66633752653031, -94.66631532337989, -94.66629312119885, -94.66627091998718, -94.6662487197448, -94.66567185350895, -94.66564967941937, -94.66743283894154, -94.66674242767338, -94.66672017190515, -94.66669791710908, -94.66509812343243, -94.66507593947132, -94.66452165509199, -94.66449949629705, -94.66628063017092, -94.66561293682241, -94.66559069544422, -94.66392535750241, -94.66390318982124, -94.66334931220746, -94.66512842042725, -94.66450564320397, -94.66448341524622, -94.66446118825944, -94.66275262219591, -94.66219912715127, -94.6639984504648, -94.66397620971121, -94.66337607650779, -94.6633538629434, -94.66160205360343, -94.66157991751169, -94.66120375177715, -94.66104894112914, -94.66284622339387, -94.66224647908219, -94.66222427991248, -94.66042936326359, -94.66040724344846, -94.66009766741554, -94.66007556208115, -94.66005345771175, -94.6600313543073, -94.65992085175752, -94.65989875414172, -94.66169399535185, -94.66113903666852, -94.66111685092571, -94.66109466615204, -94.65925670354486, -94.65923460000505, -94.65921249743026, -94.6591903958204, -94.65894734178536, -94.65888107457586, -94.65885898743454, -94.6588369012574, -94.6588148160444, -94.65879273179547, -94.6587706485106, -94.66054176633943, -94.66000936338175, -94.65998719203694, -94.65803990087863, -94.65801781554134, -94.65799573116823, -94.6578190908884, -94.65779701519084, -94.65938953635728, -94.65936735713674, -94.6588575024144, -94.65684526587691, -94.65673493499756, -94.65671287171159, -94.6566908093888, -94.65666874802915, -94.6582151415689, -94.65819297870009, -94.65817081679958, -94.65814865586732, -94.65781635804005, -94.65779421259313, -94.65770564047918, -94.65569479962213, -94.65567274682589, -94.6556506949924, -94.65562864412163, -94.65560659421355, -94.65558454526806, -94.6569964854774, -94.6569743408941, -94.65668654933391, -94.65666441829089, -94.65664228821466, -94.65662015910517, -94.65659803096239, -94.65657590378625, -94.65655377757672, -94.65582218491744, -94.65580005668174, -94.6555788274884, -94.65555670988437, -94.65553459324657, -94.65464791511846, -94.65462580322902, -94.65460369230561, -94.65458158234819, -94.65444894288679, -94.65442683968995, -94.65342948595546, -94.65340739234153, -94.65338529969281, -94.65336320800927, -94.65334111729086, -94.65331902753753, -94.65329693874922], [41.446984363236275, 41.44858466860745, 41.44925400550159, 41.451466083287954, 41.44788910950677, 41.444409653005884, 41.4421614196479, 41.44100862177169, 41.45427614433713, 41.45297182847711, 41.45806200347612, 41.45828448160767, 41.46184252456669, 41.458918352639614, 41.45985138235326, 41.462811354807094, 41.460227544459805, 41.45969024308069, 41.46199792903545, 41.46083381389443, 41.458048232611795, 41.45359894998875, 41.46579772859175, 41.464005934461454, 41.461537570691426, 41.468872815855555, 41.47221374635465, 41.476795742115755, 41.48220183778248, 41.469015315865775, 41.46235389157373, 41.46164823570344, 41.46048256444411, 41.46002005137417, 41.471332401726386, 41.47523275285208, 41.47048428713061, 41.45698163550491, 41.45782766195858, 41.45561072940862, 41.45392713437237, 41.47740750108437, 41.475453127457286, 41.473916241189016, 41.47179066607142, 41.47765284523304, 41.481418650486, 41.485936903194315, 41.48011749198471, 41.47276059071529, 41.47009957428664, 41.46717929489962, 41.46473179509214, 41.48237835616581, 41.485912981092454, 41.4893950331531, 41.4930171822097, 41.483188324522864, 41.48614125927268, 41.47462512169336, 41.47408785044745, 41.487948293523885, 41.48875817650651, 41.47643637627942, 41.48061131139371, 41.47334154794302, 41.4758845448647, 41.489216134356454, 41.490755405898575, 41.47756748163425, 41.47785690755868, 41.492710438750066, 41.49340058259087, 41.49481457641916, 41.496682104291246, 41.498121748542665, 41.479180910386255, 41.482688519741096, 41.477902783619946, 41.475188998402594, 41.47121875811182, 41.46679160960206, 41.46160615605089, 41.49594023779131, 41.49381158670869, 41.496559634277, 41.50138824741439, 41.505915881138336, 41.5108816490096, 41.50047770192458, 41.50349995918782, 41.496611564259645, 41.47836179177241, 41.479738555032846, 41.47539555846273, 41.472865490265775, 41.47000152429898, 41.49933777710505, 41.49734043837808, 41.51459186278328, 41.51460945240204, 41.48088061168692, 41.48406521248984, 41.47897178676022, 41.46740678375773, 41.46732632028625, 41.50136652474246, 41.5042191035748, 41.50937129704838, 41.50282136771749, 41.51852304500342, 41.51711894769145, 41.520710117949804, 41.4858704027655, 41.48940572402989, 41.486377490637786, 41.50715055848857, 41.50531151345095, 41.487732836954606, 41.48481909027603, 41.48165767270742, 41.47708164524392, 41.50928417207703, 41.51184929211055, 41.510179923742015, 41.49019906193555, 41.486988458203456, 41.51118677678911, 41.50972419490436, 41.49211045484411, 41.49554931627634, 41.50080007736205, 41.50663950624937, 41.49273223257842, 41.48795484736571, 41.488035830808414, 41.4851350545974, 41.48127403050228, 41.51318372196976, 41.516244727569784, 41.51503589569822, 41.4943859838186, 41.4943730725424, 41.49614784560686, 41.4994542696759, 41.48575461484598, 41.48380623993383, 41.486508767134865, 41.51962630879699, 41.52129218387813, 41.526867158207715, 41.532273817935035, 41.520086127099816, 41.52485902460064, 41.518510122936306, 41.50260236462081, 41.50618217612897, 41.51134098093429, 41.50285069353726, 41.52157401538955, 41.522393679236835, 41.52478036152935, 41.52844200469736, 41.52929668752524, 41.532896493113, 41.537913405979246, 41.51944138353114, 41.52128946862527, 41.52355700579253, 41.526839263208394, 41.5164705269615, 41.51434313307846, 41.51528131141229, 41.516719405997215, 41.5040555767342, 41.50052578508825, 41.49669837327201, 41.52968648709484, 41.5329961018662, 41.53815298562249, 41.54340637173648, 41.53131550410682, 41.54138397328328, 41.54241350359066, 41.545575016344635, 41.54268854139461, 41.53106222136998, 41.53027872235913, 41.50705383220979, 41.512574479889466, 41.505946823650035, 41.54460030032897, 41.54518029861872, 41.53147873694366, 41.52815018144131, 41.51596677826906, 41.51646379023146, 41.509145632592904, 41.5133962492252, 41.51748390571921, 41.505695287662206, 41.50484444939157, 41.54656032751156, 41.548965239247075, 41.54728439329048, 41.55065854631484, 41.55591287760417, 41.54704257266507, 41.551533549875735, 41.557294191686125, 41.561766009448164, 41.54570928513758, 41.547028662488735, 41.53517883492483, 41.540370472485286, 41.53040644084116, 41.532644952054916, 41.5203260863792, 41.52095531449148, 41.5062531091419, 41.50721792446124, 41.50361074260287, 41.49972973890065, 41.49455245911642, 41.55927189681501, 41.56159745757122, 41.56040995267647, 41.563838395291675, 41.56289191714073, 41.563212884955675, 41.54869984914728, 41.54592351884859, 41.53457386918129, 41.53787047128593, 41.531995470164155, 41.53246086602466, 41.53340691886349, 41.535649471548744, 41.521673447995184, 41.520541677707406, 41.522967932525894, 41.523108088438185, 41.526292385702156, 41.50815814303768, 41.505704713738, 41.50283423630974, 41.568342663026364, 41.569789127362704, 41.56390131245756, 41.56110448713322, 41.55904043648604, 41.53019480484371, 41.535872969347835, 41.540859343421786, 41.52898252658846, 41.530908160007314, 41.509875023986886, 41.51415256941042, 41.51819817507806, 41.508688340374356, 41.565957507864816, 41.57045661811447, 41.56577094522476, 41.544739048813, 41.54588183021607, 41.54976024122627, 41.532684539770266, 41.53636240364398, 41.540655790614395, 41.52968743109319, 41.52852029246137, 41.506990638275305, 41.5071334900679, 41.56717783456441, 41.570479755974844, 41.56803142825574, 41.54246264367186, 41.54210317033627, 41.5392554233388, 41.53542521731458, 41.50796816281255, 41.51024156812632, 41.505012135692965, 41.570492032778354, 41.56704437185329, 41.56364655337255, 41.5601624646166, 41.544783244434946, 41.54921287379732, 41.54387109661082, 41.50506464604179, 41.507808841377454, 41.51307359911497, 41.50301832990683, 41.57363211322126, 41.573366185894514, 41.56018587730437, 41.56026659443246, 41.5576934289283, 41.55736611379591, 41.55334940936909, 41.54531865599687, 41.54271091235561, 41.53991866032467, 41.53894550102924, 41.517135656279436, 41.521186233484414, 41.51609509391657, 41.57769745016319, 41.58110557622972, 41.57960833284028, 41.585022226586275, 41.58953751943545, 41.5763007737753, 41.5810723097366, 41.575676398521054, 41.57752714332585, 41.5603827679884, 41.55830082228004, 41.5581355275305, 41.54645202048906, 41.55033885200796, 41.54659782191895, 41.54749655131083, 41.540197251698565, 41.542560670323255, 41.53666023207553, 41.585347878029445, 41.58394010271579, 41.59339492192102, 41.59276047084748, 41.58628498276655, 41.59137777644896, 41.586072611429685, 41.579971916693054, 41.576784830964925, 41.574791441438926, 41.571717007614126, 41.56891041390294, 41.56843718335932, 41.557073016798604, 41.55721533987529, 41.55488204947454, 41.54990643796717, 41.555654234451275, 41.553220408140355, 41.554896729242785, 41.55862351395732, 41.5510984488578, 41.55644471768417, 41.546726687033896, 41.54435877563146, 41.54741718878006, 41.541792322188314, 41.5409776920798, 41.540224607629085, 41.53396506128454, 41.53484715988394, 41.59691562677225, 41.59473643480807, 41.58326018790206, 41.58042768471112, 41.578629710191755, 41.57653201113624, 41.57709846917424, 41.55844472337703, 41.560507954669426, 41.5625405765576, 41.56087023783468, 41.55806024051377, 41.56241642445159, 41.561702613553905, 41.55960033636508, 41.564436759118095, 41.56966684839831, 41.55965800807195, 41.561627772277006, 41.53563620717359, 41.533549348884556, 41.532342399181864, 41.533571716533665, 41.531357642115005, 41.601358767955425, 41.60120839588739, 41.60357711082542, 41.584888636461066, 41.585085857952855, 41.58717888624167, 41.56245757511462, 41.560859098435415, 41.60487940952093, 41.61008815144188, 41.60517599135474, 41.608526496706595, 41.605030748868536, 41.608643704889694, 41.614284028256606, 41.60581622255264, 41.60918920810993, 41.61391106479944, 41.618722840711186, 41.59064040987585, 41.58983863938992, 41.593077711921225, 41.563137847353026, 41.558969489042575, 41.6219854359993, 41.62542548499574, 41.630791969502575, 41.636217708350316, 41.62254024629131, 41.62470750479231, 41.628532295249904, 41.6337450262383, 41.59666848489594, 41.59972954423471, 41.59729645669261, 41.56545767936291, 41.563576922610125, 41.59951105629387, 41.602851760856886, 41.60772700751828, 41.596394922974106, 41.5941467612297, 41.56468003618791, 41.56285204265385, 41.611853098872444, 41.617215847168495, 41.61103676844404, 41.5951403081192, 41.596115720514504, 41.59155990104114, 41.61282708497347, 41.610317917310255, 41.59762243624108, 41.59703999586985, 41.5980101429741, 41.58776556721325, 41.58780579578501, 41.58572688715639, 41.58672011208474, 41.61445537429843, 41.61824318667457, 41.61546389670976, 41.61864740919634, 41.598690357694025, 41.59941011954919, 41.58540945311388, 41.58454450547752, 41.58145247194559, 41.588339747133276, 41.58510088523455, 41.58643348810372, 41.58827441518632, 41.62312129145772, 41.62766697863579, 41.62163146517512, 41.62033312657318, 41.6176582970614, 41.61397590044623, 41.578780921935525, 41.57872307288915, 41.620670746483995, 41.62184044219772, 41.57931845388563, 41.57641027270485, 41.57602092436844, 41.57654534501847, 41.57731151786286, 41.57350663534727, 41.62466258932591, 41.62107503859484, 41.61875952199758, 41.628880573663075, 41.631871088302866, 41.629138229836336, 41.63204765014125, 41.63594167279523, 41.63826661519516, 41.63282804691483, 41.63703943397538, 41.64023875235702, 41.640518164448956, 41.644185968136775, 41.64218255321667, 41.648289587547204, 41.6492300380311, 41.64264056674797, 41.6431884810767, 41.63963618361272, 41.65367353089125, 41.65108321251559, 41.64975202187147, 41.647892226299916, 41.6460355376843, 41.64770367295675, 41.65264198215684, 41.65702151258855, 41.652595312092195, 41.64371181243539, 41.640690459630655, 41.63863603775694, 41.636564964618366, 41.633076119002865, 41.627529712319394, 41.62264463950113, 41.637058292457674, 41.63538677189984, 41.632263994506076, 41.66042178590357, 41.65760493948542, 41.656600671483936, 41.65735726856328, 41.65406848228166, 41.65757274884444, 41.66273492297217, 41.6510409914191, 41.65235110781505, 41.63733313846312, 41.637415683031016, 41.635379931203076, 41.61787218344338, 41.61269505527994, 41.61941672734532, 41.666498901395585, 41.67171171047074, 41.66406565775226, 41.66818274805627, 41.66625601414242, 41.63290564000124, 41.63319011233193, 41.63233447262145, 41.675186913675034, 41.67842756248689, 41.67328515178947, 41.66642895654218, 41.66567482237792, 41.66524567220213, 41.63015445250699, 41.62943032373615, 41.68209811765803, 41.68522080256589, 41.68546739225594, 41.68141468682822, 41.67658362424585, 41.67224539874072, 41.66479146653695, 41.665931274237586, 41.66572127235878, 41.663282258882866, 41.65914424288433, 41.626012827802676, 41.62137702753864, 41.61768378407071, 41.61334591145693, 41.60824453626485, 41.60272784424524, 41.626099633321104, 41.622741540959545, 41.68372683842168, 41.68349008424944, 41.682517909142916, 41.679806084573244, 41.67722089293222, 41.44578999521445, 41.448614389380225, 41.4480596015105, 41.450358210286396, 41.44872268097032, 41.44538513346761, 41.44350251117722, 41.4422989225049, 41.45452717875428, 41.452394507665744, 41.45851752266759, 41.45831406831189, 41.460908830265694, 41.45777523866501, 41.46099122746292, 41.463167458650645, 41.458877572442326, 41.46098065193842, 41.46096209599799, 41.459515453425475, 41.45902408222444, 41.4540535282376, 41.46512789755146, 41.46265594586665, 41.462758356219354, 41.46984821279409, 41.473286927397154, 41.477250559699385, 41.48223141315167, 41.46808150703401, 41.4612466841665, 41.46298503414599, 41.46177276955636, 41.4600492254167, 41.4710335280859, 41.47419625155714, 41.46928972527117, 41.45701080645021, 41.458804068923136, 41.45683144298255, 41.455263923032184, 41.47647359948413, 41.47679407146574, 41.475089494693215, 41.473080867179064, 41.47879244767691, 41.481873611256646, 41.486803074526705, 41.47909853255933, 41.47144208574739, 41.47055377190233, 41.46840030154029, 41.46582916056681, 41.48636741980566, 41.49056835940503, 41.49373679770006, 41.48225432776163, 41.48547166690359, 41.47289237251962, 41.48892355368608, 41.487408168966226, 41.4758583740352, 41.48041756437624, 41.47463231071925, 41.47484762594014, 41.49019247340015, 41.49045574940834, 41.47759607854518, 41.47650687447021, 41.49368563179851, 41.49220587689801, 41.49354269533864, 41.4953916275489, 41.49679423128836, 41.478602866108325, 41.48210997140389, 41.47798806532395, 41.47655274786673, 41.475818737418216, 41.47208429801798, 41.46704167832347, 41.46185620228356, 41.49564070491611, 41.49510181466136, 41.49742622856935, 41.502018045108905, 41.50689168400081, 41.511336624684205, 41.49980779752442, 41.50217262200204, 41.49758761629712, 41.477058627085555, 41.478466469419324, 41.47656802029692, 41.474086309006715, 41.471073466284174, 41.49840368192897, 41.498561126971985, 41.51536506122963, 41.51367567827205, 41.48090894140517, 41.48302806152205, 41.48028873381633, 41.468627734633536, 41.46778053593672, 41.50078885008765, 41.50484907581584, 41.51000095936599, 41.502000688182896, 41.519153458221915, 41.517148378604276, 41.52051709471956, 41.489859749154725, 41.48518239955799, 41.506480363223304, 41.503961507106354, 41.48653769986061, 41.48595818386322, 41.48228687158616, 41.47737394677097, 41.51042360008788, 41.51292217340154, 41.509602142293126, 41.48941088253663, 41.488318170118184, 41.51121564199291, 41.511060955202126, 41.49617852577481, 41.50125368145623, 41.5066677170782, 41.492153722748, 41.48660478507558, 41.48668576379667, 41.48596741357, 41.48213972176287, 41.51353945777408, 41.51731705992681, 41.514390848347304, 41.49483942796071, 41.493177898419006, 41.49500442517333, 41.498783151275106, 41.48652657255661, 41.48514288445341, 41.487483097796, 41.5206992146172, 41.52169108579835, 41.52732182793149, 41.53230288506, 41.51984942338345, 41.5246654761953, 41.517160109874254, 41.502630264659295, 41.50681125628893, 41.511970112297824, 41.50160727188037, 41.52290387311395, 41.52302330025569, 41.52575557035725, 41.528896885240194, 41.52815313413995, 41.532496903347095, 41.537942063241275, 41.51816940504706, 41.52001709160096, 41.52232708706701, 41.52616857765033, 41.51760987285218, 41.51556364112865, 41.51399072835417, 41.51539203223931, 41.50312062877455, 41.501500068037146, 41.49767317543701, 41.531016301542365, 41.53362598655257, 41.53878256040832, 41.54386102230842, 41.53038120366323, 41.54141263401956, 41.54372002902848, 41.546440832832616, 41.54190085753711, 41.531515907547906, 41.52898806686307, 41.50708162828564, 41.5128239731725, 41.50480272218617, 41.54522951307714, 41.54387717717793, 41.53054408043074, 41.52867805223625, 41.51713895246135, 41.515885039421434, 41.50867007265869, 41.51235866852761, 41.51708325593359, 41.506916616003664, 41.50618106847942, 41.54753517574195, 41.55018579866065, 41.546884757383395, 41.551288192517454, 41.55636688894443, 41.54646439359304, 41.55156205807066, 41.55710025415671, 41.560571026249924, 41.54435926272154, 41.54583366049736, 41.53473098281311, 41.53922713468238, 41.531743115137566, 41.53144975447577, 41.52035364252451, 41.51975985218011, 41.504949676863426, 41.50589014346217, 41.504063688934274, 41.500183048320395, 41.49500533892121, 41.55990259521768, 41.5626696927314, 41.559684189415165, 41.564088563785944, 41.5638665973984, 41.56186285921344, 41.547765314917044, 41.54717579753934, 41.533995251986944, 41.537675904670415, 41.53313443048917, 41.531110802444836, 41.53213460854595, 41.53445408142901, 41.522446051915985, 41.52299545508935, 41.522070408127, 41.525148636318484, 41.50685465975459, 41.506679983885476, 41.50355215087204, 41.569062330606634, 41.56944569489131, 41.56296670591976, 41.562324887246646, 41.560213296945065, 41.53003086566412, 41.53567786028485, 41.54110818142299, 41.527838181488924, 41.52958054465866, 41.509574170675045, 41.51321667925674, 41.51716083491303, 41.50733823871908, 41.56693268641173, 41.570984362730215, 41.56466325863921, 41.54581098901464, 41.54484403677, 41.54893815558281, 41.53148889163307, 41.53578245392671, 41.53946006826307, 41.53102816668825, 41.52981025558156, 41.50832021055004, 41.50810738077848, 41.56763213558378, 41.57119857072998, 41.56688761212974, 41.541266900809354, 41.54075305290976, 41.54022906891204, 41.53639928383699, 41.50661805221154, 41.50966208104027, 41.506151079714144, 41.56976665278278, 41.56801974828871, 41.564621051108794, 41.56133520554985, 41.5450318119057, 41.55007725219592, 41.54259845365715, 41.50373154947419, 41.50722876523956, 41.51249353118264, 41.503045364039835, 41.574404817121255, 41.5722228720097, 41.55883582479563, 41.5589165372136, 41.556871965688366, 41.55819839270619, 41.55359897542882, 41.54473765847498, 41.54393065563803, 41.54078282929113, 41.53759536398977, 41.51716246900455, 41.52014863327325, 41.514744967058576, 41.57883657067035, 41.58217810525353, 41.57963657946821, 41.58547590264493, 41.59040343903799, 41.57632885429885, 41.58110039493996, 41.574432594218116, 41.576254908663664, 41.55903270398572, 41.559590654148124, 41.55858881182153, 41.54707959229632, 41.55014335144367, 41.545247696522296, 41.54622385187418, 41.539132924305555, 41.54128786449083, 41.53743192780331, 41.585640542143274, 41.5825900889309, 41.593423290779484, 41.591410451410326, 41.58631307308314, 41.59162755463529, 41.58491417512549, 41.579184276382236, 41.57800501775322, 41.575766357366035, 41.57296907453546, 41.56988519277418, 41.56708710741866, 41.558402629574374, 41.558189450477855, 41.55490981970419, 41.55035989610373, 41.556793054438025, 41.55419518734004, 41.55431627056277, 41.55925154369786, 41.55059083069838, 41.555772900067076, 41.548063168391174, 41.54395689052158, 41.54622068462971, 41.543081785078044, 41.54231833691961, 41.54156103288985, 41.53314240420116, 41.53582065471164, 41.59651509525677, 41.59595675523847, 41.58211612190526, 41.58140196558748, 41.579849865869946, 41.57782184415425, 41.575748396576756, 41.55717232657363, 41.559572043462644, 41.561190488167306, 41.562206795809146, 41.55671015921795, 41.563187499789215, 41.560383341751624, 41.560432244228146, 41.56424098623821, 41.56947094553433, 41.5587220850688, 41.56035463082187, 41.53428605969234, 41.534855069073316, 41.53367883398195, 41.534545040679404, 41.532529081864745, 41.60165107749675, 41.600145139131506, 41.60230489053166, 41.583890540660136, 41.5862438168846, 41.5630849655326, 41.56214918366916, 41.605854510205866, 41.61011633757505, 41.604775061890756, 41.607591753556676, 41.60445208526814, 41.608671599768805, 41.61431192863036, 41.60462052388897, 41.60836761462657, 41.61333175310269, 41.61897203265694, 41.59066805188242, 41.588903492640675, 41.59267675080746, 41.56255698307922, 41.559800538418685, 41.622615095225015, 41.62605398936384, 41.631041447114164, 41.636023076622905, 41.621267239067876, 41.623599367036945, 41.62855984695994, 41.63377258296351, 41.59608951469844, 41.59997879846281, 41.596361282374104, 41.56548394046735, 41.564796452032546, 41.59857463964656, 41.60227264450753, 41.60705550714045, 41.59736897991583, 41.59543651981181, 41.56374392362307, 41.56382524004983, 41.6124816695717, 41.61746487689728, 41.609928486102525, 41.593807288831464, 41.594788112778474, 41.59208706862828, 41.61171881019798, 41.61163463603618, 41.59689621977902, 41.59576747671745, 41.59668250186842, 41.588119394817404, 41.589057699595976, 41.58703280064898, 41.585392466392236, 41.61448265881178, 41.61849198796747, 41.61442607485682, 41.61750354482249, 41.59871731934136, 41.598118771115786, 41.58434570142599, 41.58531597468981, 41.58242698867089, 41.587404109834026, 41.586320702891655, 41.585160861529836, 41.5870017432605, 41.623148602351726, 41.62812004493991, 41.620281389894174, 41.61939767616648, 41.61863212168145, 41.61460412437461, 41.58008683532107, 41.57917565920586, 41.621644540353145, 41.62059670877128, 41.577968353476834, 41.577549136292305, 41.57467081286207, 41.5752174337175, 41.57733856795957, 41.57331125760859, 41.62399065002393, 41.622391694581225, 41.6196238722533, 41.6293333641277, 41.63054346095928, 41.628315365840336, 41.63318607693417, 41.636915904236055, 41.639603152374065, 41.63252678148318, 41.636216503694364, 41.640866461545535, 41.63979167689547, 41.643990298787884, 41.64083244904257, 41.64934397089816, 41.64855841816672, 41.641367902849794, 41.64183836905717, 41.63998941243596, 41.654230319342126, 41.64988749581013, 41.648460976142886, 41.64661970450337, 41.64737625954179, 41.64635360305014, 41.652995636955346, 41.65726983225847, 41.651399490193185, 41.64238406650898, 41.641964175236126, 41.63989963351074, 41.637017733245166, 41.63267460643455, 41.627778086823, 41.623171101352696, 41.63827917790808, 41.63663843525679, 41.63298119650219, 41.6604487149878, 41.65625485163253, 41.65794137916851, 41.65608478451675, 41.653487230817994, 41.65699289180076, 41.66233290231924, 41.65226066557988, 41.65115517490569, 41.63693060326354, 41.63863641402479, 41.63645063926161, 41.61752675273969, 41.61221853618705, 41.62039025374613, 41.66652583619379, 41.67173865017112, 41.66537152632538, 41.66820928506337, 41.66498329777414, 41.63440962562305, 41.633670879885905, 41.67521385664397, 41.678879950700974, 41.674625838190416, 41.66720025946939, 41.66447920369478, 41.663895596637225, 41.63144415879119, 41.62945648041791, 41.68212510344967, 41.68428458218567, 41.686803884062556, 41.68270432679704, 41.67585664220749, 41.67321897265725, 41.665930039576054, 41.66726083098909, 41.66468410919891, 41.66217392386024, 41.6583217710962, 41.62497486728353, 41.62079644972395, 41.6165394678474, 41.612943738788694, 41.607517301237934, 41.602532018009356, 41.626726676091955, 41.62319353034452, 41.68375393472383, 41.68219234754279, 41.682140013011924, 41.681409507604855, 41.67876880066084, 41.67594845885039, 41.46361876871049, 41.4680539446298, 41.46371474170822, 41.45937103392798, 41.446348891441815, 41.46814964277651, 41.4638104253465, 41.45512747840447, 41.45078374888525, 41.4464445170354, 41.481267226854584, 41.47692800576885, 41.472588781081264, 41.46824505151592, 41.463905819621324, 41.45956208284183, 41.45522284374083, 41.45087909974772, 41.44653985344091, 41.52043335204343, 41.51609414895241, 41.49004535096764, 41.48570612265952, 41.481362389471386, 41.47702315395919, 41.47268391484703, 41.46834017084408, 41.46400092452873, 41.45965717331541, 41.455317919797444, 41.45097416137433, 41.44663490065436, 41.44229563633545, 41.5292112801384, 41.52487206985062, 41.52052835470208, 41.51618913721135, 41.51184991612126, 41.50750619015963, 41.49448399320297, 41.490140252823466, 41.48580101012894, 41.48145726254137, 41.477118012646564, 41.4727787591537, 41.46843500075701, 41.464095740064735, 41.455412706570364, 41.45106893376111, 41.44672965867177, 41.43804659637015, 41.52930602158332, 41.524966796935956, 41.516283835568295, 41.51194460012428, 41.50760085979576, 41.5032616171535, 41.49891786961952, 41.49457861977956, 41.49023486504073, 41.48589560800367, 41.48155184606058, 41.47721258182702, 41.472873313997276, 41.46852954125073, 41.46419026622537, 41.45984648627605, 41.455507204055635, 41.45116341690409, 41.44682412748922, 41.44248483447924, 41.43814103652734, 41.529400472990496, 41.52506123402746, 41.52071749017769, 41.516378244019286, 41.512038994265275, 41.507695239613795, 41.50335598266528, 41.49901222081214, 41.494672956669724, 41.490329187615515, 41.485989916279784, 41.48164614002506, 41.4773068614966, 41.472967579373844, 41.46862379232134, 41.46428450300673, 41.45994070875521, 41.455601412249315, 41.451257610799345, 41.44691830710276, 41.442578999812916, 41.43823518756826, 41.53383838529108, 41.529494634356, 41.5251553811212, 41.52081162298676, 41.51647236256037, 41.512133098540254, 41.50778932960976, 41.50345005839893, 41.49910628227054, 41.49476700386957, 41.486083934953314, 41.48174014443089, 41.477400851651375, 41.47306155527946, 41.46871775396488, 41.46437845040485, 41.46003464189502, 41.455695331147474, 41.45135151544296, 41.447012197508464, 41.4426728759826, 41.546954542198286, 41.54261528911306, 41.53827153112966, 41.53393227085545, 41.52958850567588, 41.525249238213256, 41.520905465838105, 41.51656619118763, 41.51222691294532, 41.50788312977976, 41.50354384435048, 41.49920005399077, 41.49486076137511, 41.49051696382185, 41.48617766402036, 41.48183385927413, 41.477494552287425, 41.473155241710195, 41.46881142617744, 41.46447210841583, 41.460128285691574, 41.45144513083101, 41.55138744393812, 41.54704818025246, 41.54270891297583, 41.53836514078818, 41.534025866326296, 41.52968208694623, 41.52534280529969, 41.520999018727785, 41.51665972989715, 41.512320437476546, 41.50797664011985, 41.50363734051603, 41.49495422918246, 41.486271103477016, 41.48192728455089, 41.47758796340085, 41.47324863866215, 41.46890480895511, 41.46456547703578, 41.460221640140965, 41.4558823010416, 41.451538456959575, 41.55148079987148, 41.5471415220374, 41.54280224061421, 41.53411916566251, 41.529775372126835, 41.525436076341215, 41.52109227561745, 41.51675297265147, 41.51241366609738, 41.50806985459443, 41.50373054086086, 41.49938672217123, 41.49070357538305, 41.48636424729221, 41.48202041423102, 41.47768107896241, 41.47334174010701, 41.468997896270494, 41.464658550238184, 41.46031469921763, 41.455975346008984, 41.451631487804946, 41.56460072853523, 41.55591766127408, 41.551573871587394, 41.54723457964793, 41.54289528412122, 41.538551483657926, 41.53421218095343, 41.5298683733052, 41.52552906342351, 41.52118524859091, 41.51684593153259, 41.512506610888025, 41.508162785281826, 41.50382345746148, 41.49947962467235, 41.495140289676804, 41.49079644970532, 41.486457107535145, 41.48211326038188, 41.477773911037666, 41.473434558108494, 41.469090700185475, 41.46475134008312, 41.46040747497977, 41.45606810770478, 41.573376633244, 41.569032843845285, 41.56469355219477, 41.56034975561285, 41.556010456786865, 41.55166665302229, 41.54732734702139, 41.542988037435094, 41.53864422289951, 41.534304906139155, 41.52996108442235, 41.525621760488505, 41.52127793159104, 41.51693860048427, 41.51259926579314, 41.50825542612764, 41.50391608426444, 41.49957223741971, 41.49523288838502, 41.49088903436165, 41.486549678156024, 41.48220581695459, 41.47786645357861, 41.47352708661954, 41.46918321465392, 41.460499961383086, 41.57780849305592, 41.57346919455286, 41.56912539111284, 41.564786085437426, 41.56044227481791, 41.55610296197074, 41.55175914417229, 41.547419824153906, 41.54308050055199, 41.538736671988076, 41.5343973412158, 41.53005350547439, 41.52571416753233, 41.521370324613976, 41.517030979502685, 41.51269163080887, 41.50834777712802, 41.504008421265844, 41.49966456040948, 41.49532519737951, 41.49098132934819, 41.48664195915099, 41.482298083945295, 41.47795870658143, 41.47361932563631, 41.46927543967197, 41.46493605156104, 41.46059215842375, 41.58658389342007, 41.57790077784064, 41.573561465352945, 41.56921764791564, 41.56487832825932, 41.56053450364623, 41.55619517682183, 41.55185134503351, 41.543172673468014, 41.53882883091978, 41.53448948617952, 41.530145636457476, 41.52580628455112, 41.52146242765583, 41.51712306858394, 41.51278370593136, 41.50843983827912, 41.50410046846187, 41.4997565936378, 41.49541721665643, 41.491073334661095, 41.48673395051616, 41.473711275154926, 41.46936737523576, 41.465027973186324, 41.591015231231125, 41.58667591554942, 41.582332094916225, 41.57799277206873, 41.57365344564042, 41.56930961424987, 41.564970280656595, 41.560626442093955, 41.55628710133631, 41.551943255602126, 41.54760390768065, 41.543264556179324, 41.538920699690756, 41.534581341026446, 41.53023747736776, 41.525898111541046, 41.521554240712774, 41.517214867724206, 41.51287549115678, 41.50853160957709, 41.50419222584865, 41.49984833710081, 41.495508946211935, 41.4911650502965, 41.486825652247745, 41.48248174916529, 41.473802935171555, 41.46945902134149, 41.46511960539737, 41.46077568440171, 41.45643626129969, 41.59545080399226, 41.59110697661414, 41.58676764703028, 41.58242381248234, 41.57808447573638, 41.573745135411414, 41.56940129011166, 41.56506194262542, 41.56071809015725, 41.556378735510314, 41.55203487587428, 41.547695514067186, 41.543356148682086, 41.539012278297186, 41.53467290575277, 41.53032902820141, 41.52598964849825, 41.521645763780995, 41.517306376919635, 41.512966986481274, 41.50862309101808, 41.50428369342237, 41.499939790794684, 41.49560038604219, 41.49125647625059, 41.48691706434188, 41.48257314738692, 41.473894305682414, 41.46955037798532, 41.465210948190375, 41.460867013331345, 41.45652757638215, 41.599881608836284, 41.595542272553274, 41.59119843130079, 41.5868590878588, 41.57817588883972, 41.57383653466213, 41.56949267549718, 41.56515331416197, 41.560809447832284, 41.55647007934002, 41.55212620584614, 41.5477868301974, 41.54344745097248, 41.539103566735214, 41.534764180354635, 41.53042028895459, 41.52173699685663, 41.517397596166425, 41.513058191901024, 41.5087142825983, 41.5043748711792, 41.50003095471563, 41.4956915361434, 41.49134761251956, 41.48700818679475, 41.482664256011205, 41.4783248231344, 41.47398538668366, 41.46964144516345, 41.46530200156152, 41.460958052883015, 41.45661860213049, 41.6043166483906, 41.59997280047086, 41.59563345037005, 41.59128959528728, 41.58695023803113, 41.58260637578588, 41.57826701137495, 41.5739276433887, 41.56958377040261, 41.5652443952624, 41.56090051511523, 41.55656113282163, 41.5522172455139, 41.54787785606747, 41.54353846304668, 41.53919456500106, 41.53485516482825, 41.530511259623495, 41.52617185229924, 41.521827939935896, 41.517488525460756, 41.51314910741224, 41.5088051843139, 41.504465759115334, 41.500121828859825, 41.49578239651174, 41.49143845909959, 41.48709901960259, 41.482755075034376, 41.47841562838899, 41.47407617817148, 41.46973222287205, 41.465392765507, 41.46104880305291, 41.60874691974533, 41.60440756302298, 41.60006370131335, 41.595724337438774, 41.591380468569774, 41.587041097543505, 41.58269722151566, 41.57835784333825, 41.57401846158735, 41.56967457482415, 41.56533518592292, 41.560991292002285, 41.5566518959513, 41.552307994873765, 41.547968591673595, 41.54362918490087, 41.5392852730909, 41.53060194020433, 41.52626251913543, 41.52191859301499, 41.517579164798825, 41.51323973301111, 41.508895796161134, 41.50455635722699, 41.50021241322345, 41.49152901598691, 41.48718956276158, 41.4828456044526, 41.47850614408252, 41.47416668014212, 41.46982271110736, 41.46548324002303, 41.617520788876845, 41.61318142557028, 41.60883755727114, 41.604498186815405, 41.60015431135997, 41.59581493375564, 41.59147105114447, 41.5871316663921, 41.58278777662572, 41.57844838472583, 41.574108989254256, 41.56976508875799, 41.565425686139726, 41.561081778489644, 41.55674236872527, 41.55239845392192, 41.54805903701196, 41.54371961653129, 41.53503626337552, 41.530692330693284, 41.52635289592367, 41.52200895609011, 41.51766951417686, 41.513330068693854, 41.5089861181362, 41.50464666551038, 41.50030270780278, 41.4959632480347, 41.49161928317773, 41.48727981626795, 41.48293584426213, 41.47859637021122, 41.474256892591775, 41.469912909865606, 41.465573425105866, 41.61761116291322, 41.613271785913675, 41.60892790390917, 41.6045885197641, 41.59590523931687, 41.59156134300759, 41.58722194457312, 41.58287804111226, 41.57853863553391, 41.569855312200346, 41.565515895909044, 41.56117197457355, 41.55683255113974, 41.552488622654586, 41.54814919207884, 41.543809757934156, 41.539465818727436, 41.5351263774416, 41.530782431086614, 41.52644298266022, 41.522099029157516, 41.517759573591086, 41.5134201144567, 41.509076150235316, 41.504736683961724, 41.50039271259399, 41.49605323918177, 41.491709260668266, 41.48736978011792, 41.4830257944592, 41.478686306771316, 41.474346815516704, 41.62204063304906, 41.61770124596989, 41.613361855321415, 41.60901795965563, 41.60467856186525, 41.600334659050425, 41.59599525411867, 41.59165134415535, 41.58731193208279, 41.58296801497152, 41.578628595758694, 41.574289172977785, 41.569945245147466, 41.56560581522711, 41.561261880250214, 41.556922443190956, 41.55257850106802, 41.54823905687041, 41.54389960910568, 41.53955565626658, 41.53521620136429, 41.53087224138054, 41.52653277934129, 41.52218881221342, 41.51784934303773, 41.513509870295884, 41.50916589245473, 41.50482641257727, 41.500482427593376, 41.49614294058086, 41.491798948454786, 41.48745945430776, 41.483115455040036, 41.478775953759055, 41.47443644891315, 41.63515762226018, 41.630813730841325, 41.626474337294596, 41.62213043872894, 41.61779103804307, 41.61345163378972, 41.609107724506764, 41.60476831311511, 41.60042439668669, 41.59608497815729, 41.591741054584, 41.58740162891737, 41.58305769819973, 41.57871826539643, 41.574378829026855, 41.570034887595575, 41.56569544409014, 41.56135149551587, 41.557012044875144, 41.552668089158445, 41.548328631382944, 41.54398917004212, 41.53964520361464, 41.535305735139865, 41.53096176157133, 41.52662228596315, 41.52227830525409, 41.51793882251307, 41.513599336207676, 41.5092553447907, 41.50491585135329, 41.49623235222827, 41.49188834653353, 41.4875488388337, 41.483204826000915, 41.47886531117071, 41.63958657761247, 41.63524717763558, 41.62656386552167, 41.622219953377524, 41.61788053912905, 41.61354112131487, 41.60485777350991, 41.60051384351201, 41.59617441142896, 41.59183047428977, 41.58749103507309, 41.58314709079314, 41.57446819452913, 41.570124239540924, 41.565784782494404, 41.56144082036681, 41.55275738692211, 41.548417915612696, 41.54407844073974, 41.539734460767875, 41.53539497876454, 41.531050991655206, 41.526711502522055, 41.522367508275764, 41.51802801201334, 41.513688512188324, 41.5093445072395, 41.505005000286026, 41.5006609882016, 41.49632147412022, 41.491977454900784, 41.487637933692035, 41.483293907338094, 41.47895437900254, 41.64401976674504, 41.639675855346255, 41.63533644184363, 41.6309925233047, 41.62665310266959, 41.617969749224024, 41.609286381508, 41.60494694304593, 41.60060299952262, 41.596263553929944, 41.59191960326892, 41.587580150546216, 41.58323619274801, 41.57889673289581, 41.574557269480884, 41.57021330097977, 41.56587383043616, 41.56152985479926, 41.557190377127505, 41.552846394355306, 41.54850690955592, 41.54416742119479, 41.53982342772256, 41.531139931628466, 41.52680042901427, 41.52245642127473, 41.51811691153482, 41.51377739823411, 41.50943337979737, 41.50509385937177, 41.500749833803006, 41.496410306253054, 41.492066273552815, 41.48772673887903, 41.63976484186488, 41.635425414880594, 41.63108148284782, 41.626742048734634, 41.62239810956583, 41.61805866832429, 41.613719223520626, 41.60937527365065, 41.605035821719426, 41.60069186471477, 41.596352405656525, 41.592008441517734, 41.58766897533302, 41.58332500406062, 41.57898553074996, 41.574646053878375, 41.57030207190843, 41.565962587911706, 41.561618598809524, 41.5572791076882, 41.552935111454296, 41.54859561320893, 41.54425611140358, 41.539912104474965, 41.53557259554637, 41.531228581487376, 41.52688906543609, 41.52254504424729, 41.51820552107382, 41.51386599434132, 41.509521962460646, 41.50518242860681, 41.500838389597654, 41.49649884862299, 41.49215480248593, 41.487815254391, 41.66155968880375, 41.63985353716462, 41.63551409674276, 41.631170151260264, 41.626830703713075, 41.62248675109811, 41.61814729642612, 41.61380783819378, 41.609463874883005, 41.60512440952667, 41.600780439084765, 41.5920969890325, 41.58775750942978, 41.58341352472725, 41.57907403800215, 41.574734547717895, 41.570390552323154, 41.56605105491731, 41.561707052393864, 41.55736754786699, 41.55302353821537, 41.54868402656799, 41.5443445113624, 41.540000491021395, 41.535660968696085, 41.53131694122827, 41.526977411783804, 41.52263337718971, 41.51829384062662, 41.51395430050626, 41.50961025522561, 41.505270707987435, 41.500926655581836, 41.49658710122639, 41.49224304169641, 41.487903480224226, 41.674675449527506, 41.66599209383738, 41.66164815990278, 41.65730872389236, 41.652964782827, 41.64862533969347, 41.64428589300043, 41.63994194124176, 41.635602487426425, 41.63125852853832, 41.62691906760119, 41.6225751015842, 41.61823563352581, 41.61389616190887, 41.609552185201366, 41.60521270646397, 41.600868722628896, 41.59652923677159, 41.59218524580949, 41.58784575283279, 41.58350175474419, 41.57916225464865, 41.57482275099574, 41.570478742220246, 41.56613923144928, 41.561795215548614, 41.55745569766015, 41.553111674634856, 41.548772149629414, 41.54443262106753, 41.54008858735815, 41.5357490516801, 41.53140501084743, 41.52706546805374, 41.522721420098335, 41.518381870189536, 41.51404231672524, 41.50969825808857, 41.50535869750997, 41.50101463175189, 41.49667506405955, 41.492330991180616, 41.67910310442075, 41.67476366929277, 41.67041972911201, 41.66608028686341, 41.66173633955491, 41.657396890186234, 41.65305293575052, 41.64871347926228, 41.6443740192163, 41.6400300540926, 41.63569058692786, 41.63134661467828, 41.62700714039529, 41.62266316102036, 41.61832367961966, 41.613984194662166, 41.609640204602044, 41.605300712527644, 41.60095671534348, 41.59661721615268, 41.58358969410777, 41.57925018068582, 41.574910663708245, 41.57056664159603, 41.56622711750392, 41.56188308827008, 41.55754355706401, 41.55319952070906, 41.548859982389516, 41.54452044051531, 41.54017639348156, 41.53583684449469, 41.53149279034119, 41.527153234242206, 41.52280917296947, 41.51846960975889, 41.51413004299457, 41.509785971045844, 41.50544639717076, 41.50110231810414, 41.4967627371188, 41.68353049081647, 41.67919104592416, 41.67485159747498, 41.670507643960946, 41.66616818839466, 41.66182422775643, 41.65748476507361, 41.653140797311714, 41.64880132751286, 41.644461854158024, 41.64011787571346, 41.6357783952434, 41.631434409676466, 41.6270949220917, 41.62275092940294, 41.61841143470399, 41.61407193644999, 41.609727933081345, 41.60538842771396, 41.6010444172248, 41.596704904744556, 41.59236088713544, 41.58802136754288, 41.583677342814305, 41.579337816109934, 41.574998285851706, 41.57065425044682, 41.566314713077574, 41.557631126074874, 41.55328707643428, 41.54894752484464, 41.544607969702064, 41.54026390938795, 41.53592434713623, 41.53158027970586, 41.52724071034553, 41.52289663579944, 41.51855705933103, 41.514217479310624, 41.509873394093795, 41.50553380696611, 41.501189714634904, 41.68796211009082, 41.683618153967835, 41.6792786957967, 41.67493923407042, 41.670595267267295, 41.66625579842747, 41.661911824503676, 41.65757234855082, 41.6532283675069, 41.64888888444152, 41.644549397821955, 41.64020540610065, 41.635865912369354, 41.631521913529205, 41.62718241268672, 41.622838406728256, 41.61415938726868, 41.6098153706356, 41.605475852019296, 41.601131828269224, 41.59679230254357, 41.59244827167704, 41.58810873884258, 41.583764700860115, 41.579425160917346, 41.57508561742247, 41.57074156876896, 41.56640201816657, 41.56205796239845, 41.55771840468911, 41.5533743418069, 41.549034776991114, 41.54469520862414, 41.54035113507366, 41.53601155960104, 41.53166747893781, 41.52732789636008, 41.522983808584605, 41.51864421890228, 41.514304625669716, 41.5056209268924, 41.50127682134055, 41.49693721390093, 41.68804949481365, 41.68370552544049, 41.679366054034645, 41.67502657907543, 41.670682599027394, 41.666343116958146, 41.66199912979297, 41.6576596406142, 41.653315646332395, 41.648976150044625, 41.64463665020441, 41.64029264525049, 41.63595313830206, 41.63160912623282, 41.62726961217671, 41.62292559299265, 41.61424654711457, 41.60990251726117, 41.60556298543998, 41.60121894847308, 41.596879409546055, 41.59253536546621, 41.58819581943385, 41.583851768241566, 41.575172658416896, 41.5708285965588, 41.56648903276727, 41.562144963798055, 41.55780539290305, 41.55346131682325, 41.549121738825285, 41.54478215727789, 41.54043807053506, 41.53609848188549, 41.531754388033384, 41.52741479228218, 41.523070691321344, 41.518731088469025, 41.51439148206821, 41.5100473704471, 41.50570775694597, 41.50136363821744, 41.68813658217533, 41.68379259959703, 41.679453115001486, 41.67511362685434, 41.67076963360643, 41.66643013835274, 41.66208613799119, 41.65774663563148, 41.65340262815681, 41.64906311869161, 41.64472360567569, 41.64037958753416, 41.636040067413546, 41.63169604216018, 41.627356514935364, 41.6230124825707, 41.618672948242214, 41.614333410363926, 41.60998936733515, 41.605649822353996, 41.60130577221522, 41.596966220131684, 41.59262216288345, 41.58828260369808, 41.58393853934089, 41.57959897305422, 41.575259403218915, 41.57091532820113, 41.5665757512653, 41.5622316691399, 41.55789208510407, 41.553547995871554, 41.54920840473624, 41.544868810053224, 41.540524710162885, 41.536185108381176, 41.531841001385054, 41.52750139250519, 41.52315727840377, 41.51881766242628, 41.514478042901985, 41.510133918145534, 41.505794291524396, 41.50145015966399, 41.688223383460254, 41.68387938772017, 41.67953988997822, 41.675200388686406, 41.670856382281954, 41.66651687388709, 41.66217286037249, 41.657833344875115, 41.65348932425089, 41.64914980165149, 41.64481027550314, 41.64046624421727, 41.63612671096769, 41.631782672573486, 41.62744313222319, 41.623099086721176, 41.61875953927069, 41.61441998827215, 41.61007593211124, 41.60573637401328, 41.60139231074587, 41.59705274554903, 41.59270867517562, 41.58836910288042, 41.58402502540154, 41.57968544600849, 41.57534586306856, 41.571001774934295, 41.56666218489731, 41.56231808965889, 41.55797849252536, 41.553634390183305, 41.549294785953755, 41.544955178178256, 41.54061106518356, 41.53627145031281, 41.53192733021581, 41.527587708250365, 41.52324358105153, 41.51890395199191, 41.51456431938723, 41.51022018153854, 41.505880541840476, 41.688309893011315, 41.68396588415362, 41.67962637330943, 41.675286858917104, 41.6709428394003, 41.66660331790839, 41.66225929128492, 41.657919762693965, 41.653575728964356, 41.64923619327488, 41.64489665403817, 41.64055260965212, 41.631869011826765, 41.62752945839507, 41.623185399799816, 41.618845839271394, 41.61450627519665, 41.610162205947724, 41.605822634777034, 41.60147855842505, 41.597138980158945, 41.59279489670443, 41.58845531134344, 41.584111220786916, 41.57977162833153, 41.57543203233098, 41.57108793112429, 41.56674832803013, 41.56240421972273, 41.55806460953549, 41.553720494127916, 41.54938087684811, 41.540697129969054, 41.53201336889933, 41.52767373389226, 41.52332959364001, 41.51898995154219, 41.51465030590104, 41.68839611082487, 41.6840520888938, 41.679712564991505, 41.6753730375428, 41.67102900495781, 41.66668947041301, 41.66234543072483, 41.65800588908445, 41.65366184229358, 41.64498274127718, 41.63629912445987, 41.631955059916386, 41.627615493447365, 41.623271421803004, 41.61893184824072, 41.614592271133844, 41.61024818884098, 41.60590860464161, 41.60156451524916, 41.597224923957825, 41.5928808274663, 41.58854122908352, 41.584197125493446, 41.57985752001972, 41.57551791100257, 41.57117379676748, 41.56683418066015, 41.56249005932782, 41.558150436130866, 41.5538063077018, 41.54946667741573, 41.54512704358713, 41.54078290451577, 41.53644326359882, 41.53209911743204, 41.527759469427274, 41.52341531616558, 41.684138001937065, 41.679798465020816, 41.67545892455989, 41.6711148789509, 41.66677533139733, 41.66243127868861, 41.65809172404293, 41.65374766423498, 41.64940810249767, 41.645068537216595, 41.640724466762606, 41.63638489439069, 41.63204081683875, 41.62770123737649, 41.61901756617506, 41.61467797608012, 41.61033388078743, 41.60599428360344, 41.6016501812146, 41.59731057694208, 41.59296646745763, 41.588626856097086, 41.584282739517526, 41.57994312106948, 41.575603499079726, 41.571259371860315, 41.566919742783824, 41.56257560847058, 41.558235972307905, 41.553891830901364, 41.549552187652985, 41.545212540863794, 41.54086838882013, 41.536528734946025, 41.53218457581035, 41.527844914851855, 41.679884073393765, 41.67554451996476, 41.67120046137597, 41.66686090085776, 41.658177267565804, 41.65383319478495, 41.649493620089885, 41.64515404185277, 41.64080995843105, 41.636470373106526, 41.63212628259029, 41.62778669017887, 41.62344259256865, 41.61910299307084, 41.614763390031875, 41.61041928178348, 41.606079671658904, 41.60173555631779, 41.59739593910812, 41.59305181667481, 41.580028431477224, 41.57568879655889, 41.571344656399184, 41.56700501439753, 41.56266086714744, 41.55832121806302, 41.55397706372303, 41.54963740755633, 41.545297747850526, 41.540953582878544, 41.53661391609124, 41.53226974403068, 41.52793007016239, 41.67128575222943, 41.666946178790724, 41.66260210017346, 41.65826251964951, 41.65391843393991, 41.6495788463312, 41.64523925518216, 41.63655556060382, 41.6322114571674, 41.62787185185092, 41.623527741323926, 41.61918812892448, 41.61484851298557, 41.610504391825565, 41.60616476880446, 41.60182064055515, 41.57142965038054, 41.56708999549773, 41.56274583535482, 41.55840617339265, 41.55406200616326, 41.54972233712221, 41.545382664543745, 41.541038486687484, 41.53669880703093, 41.53235462208947, 41.528014935355344, 41.667031165192626, 41.662687073687366, 41.658347480290466, 41.65400338169627, 41.64966378121804, 41.64532417720119, 41.64098006797639, 41.63664045687898, 41.63229634056652, 41.627956722389044, 41.623612598989446, 41.61927297373241, 41.614933344937626, 41.6105892109101, 41.57151435380083, 41.56717468608087, 41.558490838293224, 41.55414665821847, 41.54980697634706, 41.54546729093993, 41.541123100243375, 41.53678340776154, 41.532439209983195, 41.528099510427175, 41.645408807906286, 41.64106468584619, 41.63672506192846, 41.63238093278411, 41.62804130178972, 41.623697165561616, 41.61935752749107, 41.61501788588448, 41.56725908614338, 41.56291490034696, 41.55857521276124, 41.55423101988514, 41.549891325227335, 41.545551627035515, 41.53686771827953, 41.53252350770831, 41.52818379537435, 41.636809375748726, 41.6324652338166, 41.628125590049386, 41.62378144103692, 41.61944179019694, 41.61510213582261, 41.56734319568176, 41.562998997124645, 41.55865929679316, 41.55431509115974, 41.549975383759524, 41.54563567282699, 41.5412914565819, 41.53695173858141, 41.5326075152613, 41.52826779019334, 41.636893398336255, 41.63254924366049, 41.62820958716455, 41.62386542541182, 41.61952576184648, 41.61518609474848, 41.545719428310825, 41.54137519935751, 41.53703546866361, 41.532691232638626, 41.52835149488065, 41.636977129687494, 41.63263296231224, 41.628293293131655, 41.62394911868281, 41.54145865186601, 41.53711890852268, 41.63271638976837, 41.468194720704346, 41.46733048699496, 41.46646625314241, 41.46560201914669, 41.464737785007806, 41.463873550725765, 41.463009316300564, 41.4621450817322, 41.46128084702068, 41.46041661216601, 41.468213905436464, 41.46043579168482, 41.46823307869887, 41.460454959737035, 41.46825224049154, 41.460474116322615, 41.469135626695895, 41.46827139081443, 41.46049326144155, 41.45962902412907, 41.46915476612694, 41.459648157203524, 41.45878391917016, 41.470038130981735, 41.4691738940878, 41.458803040200806, 41.45793880144694, 41.45707456255004, 41.456210323510064, 41.45534608432704, 41.454481845000956, 41.44843216571282, 41.447567925242325, 41.44670368462877, 41.44583944387217, 41.44497520297253, 41.44411096192984, 41.47005724804965, 41.4545009516803, 41.45363671163417, 41.45277247144498, 41.45190823111277, 41.451043990637515, 41.44931550925788, 41.448451268353516, 41.44413006168621, 41.470940591552065, 41.47007635364698, 41.45106308354597, 41.450198842351085, 41.44933460101318, 41.444149149982366, 41.47095968625536, 41.45021792322031, 41.449353681306164, 41.44416822681828, 41.47184300840257, 41.47097876948765, 41.4441872921939, 41.47272632008758, 41.471862080739754, 41.444206346109226, 41.47360962130936, 41.472745381528945, 41.44422538856423, 41.47881411098574, 41.47794987148793, 41.47708563184714, 41.47622139206337, 41.47535715213663, 41.47449291206689, 41.4736286718542, 41.44424441955883, 41.44338017434265, 41.480561633224866, 41.479697393438, 41.47883315350817, 41.44339919330246, 41.48144490564097, 41.48058066542238, 41.4434182008022, 41.44255395429465, 41.48492088868019, 41.484056648459024, 41.4831924080949, 41.48232816758784, 41.481463926937835, 41.442572949760574, 41.490125342567694, 41.48926110263005, 41.488396862549486, 41.48753262232598, 41.48666838195954, 41.48580414145017, 41.484939900797855, 41.442591933766685, 41.441727685969234, 41.49100858701973, 41.49014434665121, 41.44174665794253, 41.49102758019782, 41.4417656184563, 41.4409013693704, 41.52043068838117, 41.5195664517251, 41.51870221492611, 41.51783797798419, 41.516973740899346, 41.51610950367156, 41.51524526630085, 41.514381028787206, 41.513516791130634, 41.49191080326889, 41.491046561896646, 41.44092031785234, 41.524770862087365, 41.523906625572636, 41.523042388914945, 41.52217815211435, 41.52131391517084, 41.5204496780844, 41.5135357762479, 41.51267153787524, 41.49279401586337, 41.49192977406121, 41.44093925487504, 41.440075004502106, 41.526518316911314, 41.52565408010936, 41.52478984316449, 41.51269051093132, 41.51182627184293, 41.493677217980235, 41.492812975748464, 41.44009392949396, 41.439229678406676, 41.43836542717658, 41.437501175803696, 41.52912999890755, 41.52826576196159, 41.527401524872715, 41.52653728764095, 41.51184523283852, 41.49369616695741, 41.437520087623014, 41.53001319723626, 41.52914895986076, 41.511864182346386, 41.49457934768701, 41.493715104454154, 41.43753898798439, 41.436674735326726, 41.43581048252631, 41.53089638507158, 41.53003214726687, 41.511883120366505, 41.5110188794189, 41.51015463832844, 41.50929039709513, 41.50842615571897, 41.50756191419998, 41.50669767253814, 41.49719100483074, 41.49632676145491, 41.49546251793623, 41.49459827427475, 41.43582937028877, 41.53091532417888, 41.506716595642224, 41.505852353266214, 41.49720992165106, 41.435848246593906, 41.530934251790754, 41.50587126431359, 41.5050070212238, 41.49809307136449, 41.49722882698946, 41.435867111441695, 41.53095316790715, 41.50502592021513, 41.50416167641193, 41.50156894414558, 41.50070469977122, 41.49984045525408, 41.49897621059414, 41.498111965791416, 41.4358859648321, 41.530972072528044, 41.5041805633479, 41.50331631883167, 41.50245207417266, 41.501587829370884, 41.436769062414335, 41.43590480676509, 41.53099096565342, 41.43678789345862, 41.43592363724063, 41.43505938087997, 41.531009847283244, 41.43507819932967, 41.53102871741745, 41.4350970063222, 41.53104757605606, 41.43511580185754, 41.531066423199015, 41.435134585935664, 41.53108525884627, 41.43515335855653, 41.53196832692996, 41.53110408299782, 41.436036379485785, 41.4351721197201, 41.5328513845111, 41.531987140153696, 41.43605512975834, 41.532870186806335, 41.4360738685732, 41.53375322295469, 41.53288897760506, 41.43609259593034, 41.4352283344668, 41.533772002823824, 41.435247049800935, 41.53551926373442, 41.53465501753655, 41.53379077119605, 41.43526575367762, 41.53813076117891, 41.53726651484264, 41.53640226836375, 41.535538021742234, 41.43528444609682, 41.53987800276356, 41.539013756146545, 41.53814950938692, 41.43616739078102, 41.43530312705853, 41.540760987644184, 41.53989674060412, 41.437914588994396, 41.43705032499296, 41.43618606084905, 41.54164396201341, 41.540779714550624, 41.43793324873164, 41.54857665707458, 41.547712410187415, 41.54684816315766, 41.545983915985325, 41.54511966867041, 41.54425542121293, 41.543391173612854, 41.54252692587022, 41.541662677985, 41.445730276754375, 41.44486601290813, 41.44400174891944, 41.4431374847883, 41.44227322051472, 41.43881616199601, 41.437951897010244, 41.549459613373, 41.54859536606364, 41.445748918640795, 41.442291860149226, 41.44142759517027, 41.44056333004889, 41.43969906478507, 41.438834799378846, 41.54947831142346, 41.446631813894896, 41.4457675490654, 41.54949699797051, 41.44665043341998, 41.550379921873215, 41.54951567301413, 41.44666904148286, 41.553855582241674, 41.55299133338923, 41.55212708439425, 41.55126283525677, 41.55039858597678, 41.446687638083496, 41.55387423709376, 41.44670622322186, 41.5538928804406, 41.44672479689791, 41.55391151228214, 41.44674335911162, 41.553930132618355, 41.55306588151551, 41.44676190986298, 41.55481299297134, 41.55394874144921, 41.553084489784645, 41.4485089873618, 41.44764471832801, 41.44678044915192, 41.556560094597984, 41.55569584279931, 41.554831590858214, 41.44852751630748, 41.55657868210125, 41.44854603379002, 41.567832533105516, 41.566968282036314, 41.566104030824704, 41.56523977947067, 41.56437552797425, 41.5635112763354, 41.558325763511775, 41.5574615108761, 41.55659725809802, 41.44856453980936, 41.568715356369495, 41.56785110488211, 41.563529845309255, 41.562665592967505, 41.560072835087865, 41.55920858217655, 41.558344329122846, 41.4485830343655, 41.56873391719528, 41.56268414987189, 41.561819896827586, 41.56095564364092, 41.56009139031188, 41.448601517458386, 41.576530733570465, 41.57566648224433, 41.5748022307758, 41.5739379791649, 41.57307372741163, 41.57220947551598, 41.571345223477955, 41.57048097129755, 41.569616718974764, 41.56875246650962, 41.56097418791672, 41.56010993402791, 41.448619989088016, 41.576549276409956, 41.448638449254325, 41.57656780773483, 41.4521139905386, 41.451249717606565, 41.45038544453232, 41.449521171315915, 41.448656897957314, 41.57658632754505, 41.452996703352376, 41.45213243000563, 41.577469089261044, 41.57660483584058, 41.45474367929127, 41.45387940567232, 41.45301513191119, 41.577487586600164, 41.455626371530414, 41.45476209749737, 41.57923458107079, 41.578370326818636, 41.57750607242419, 41.455644778826525, 41.58011731116247, 41.579253056494956, 41.45566317465639, 41.58013577562811, 41.456545834577554, 41.45568155901996, 41.58015422857751, 41.45742848400007, 41.45656420802969, 41.58103692620682, 41.580172670010654, 41.45744684654005, 41.581055356679954, 41.457465197612976, 41.5819380328026, 41.581073775636426, 41.4574835372188, 41.581956440797974, 41.45836614340192, 41.45750186535749, 41.589753155371255, 41.58888889837391, 41.58802464123436, 41.587160383952636, 41.58629612652871, 41.58543186896259, 41.5845676112543, 41.58283909541114, 41.58197483727628, 41.45838446062663, 41.59063580273752, 41.5897715453273, 41.5845859978803, 41.58372173947486, 41.582857480927245, 41.45926704539223, 41.45840276638381, 41.590654181728, 41.459285340234345, 41.458421060673416, 41.45755678097051, 41.4566925011256, 41.590672549197855, 41.45671078284335, 41.455846502304354, 41.59155516407819, 41.59069090514702, 41.45586477200342, 41.59330202760366, 41.592437768403066, 41.59157350906033, 41.45588303023586, 41.45501874845174, 41.596777399766204, 41.595913140580684, 41.59504888125305, 41.59418462178329, 41.59332036217145, 41.455036994666486, 41.454172712189376, 41.59765998462089, 41.59679572502439, 41.4541909463871, 41.59767829890858, 41.454209169118805, 41.453344885398764, 41.59856086223224, 41.59769660167269, 41.45336309611444, 41.45249881170251, 41.59857915402477, 41.45251701040283, 41.59946169581457, 41.59859743429328, 41.45253519763773, 41.60120848882966, 41.600344227041056, 41.59947996511042, 41.45255337340719, 41.60209100990087, 41.601226747703215, 41.45257153771118, 41.602973520406366, 41.60210925779999, 41.453453977706246, 41.45258969054966, 41.60299175733036, 41.4534721196271, 41.603009982728466, 41.45349025008202, 41.60389246071518, 41.603028196600626, 41.45437265772849, 41.45350836907102, 41.603910663610755, 41.454390765798394, 41.60565738498008, 41.604793120051, 41.60392885497999, 41.45440886240194, 41.60913262641222, 41.60826836150214, 41.607404096450125, 41.60653983125619, 41.605675565920336, 41.45442694753912, 41.610015063335524, 41.609150798018945, 41.456173602470535, 41.455309311911066, 41.45444502120989, 41.610897489684575, 41.61003322396181, 41.45878453823062, 41.457920247550746, 41.457055956729164, 41.45619166576589, 41.61091563932971, 41.458802591694415, 41.611798044121606, 41.610933777445574, 41.45882063368999, 41.613544705275885, 41.61268043833648, 41.61181617125524, 41.4588386642173, 41.61615562358063, 41.615291356520046, 41.61442708931759, 41.613562821973304, 41.45885668327634, 41.617902265175516, 41.61703799785214, 41.61617373038693, 41.4597389841279, 41.45887469086705, 41.61878462927024, 41.617920361542566, 41.460621274456514, 41.45975698079378, 41.61966698278254, 41.61880271465088, 41.46063926019683, 41.61968505717605, 41.46065723446805, 41.61970312003662, 41.46067519727015, 41.61972117136419, 41.46155744429483, 41.46069314860308, 41.61973921115875, 41.463303976742836, 41.46243968079239, 41.46157538470039, 41.61975723942027, 41.464186203112156, 41.46332190676177, 41.61977525614869, 41.46593271556044, 41.46506841895196, 41.464204122201956, 41.61979326134402, 41.46681492126903, 41.46595062426122, 41.62067552735008, 41.61981125500622, 41.46942571083479, 41.46856141371101, 41.46769711644572, 41.46683281903893, 41.62501487232933, 41.6241506001512, 41.623286327831366, 41.62242205536985, 41.621557782766665, 41.62069351002179, 41.46944359875347, 41.62503284617941, 41.46946147519934, 41.62505080849419, 41.47034363877422, 41.46947934017234, 41.63544003387709, 41.63457576177255, 41.633711489526355, 41.632847217138504, 41.631982944609, 41.631118671937855, 41.62506875927361, 41.471225791813104, 41.47036149281352, 41.636322252123115, 41.63545797961868, 41.63113661497188, 41.63027234161761, 41.629408068121705, 41.62854379448415, 41.62767952070497, 41.62681524678417, 41.62595097272173, 41.62508669851766, 41.471243634917975, 41.637204459770345, 41.636340186866335, 41.47299006627877, 41.47212576648471, 41.4712614665492, 41.63981520299945, 41.6389509299794, 41.63808665681775, 41.63722238351448, 41.473872187703506, 41.47300788751267, 41.6398331168249, 41.47388999800086, 41.64071529306819, 41.63985101910897, 41.475636398931655, 41.474772097948254, 41.47390779682347, 41.64159745870825, 41.6407331843507, 41.47565418735381, 41.64161533898849, 41.47567196430044, 41.64163320772655, 41.47568972977153, 41.64251534075599, 41.64165106492238, 41.47570748376705, 41.64253318694809, 41.47572522628697, 41.64427957499368, 41.643415298366385, 41.642551021597576, 41.47574295733126, 41.64516167619986, 41.6442973991762, 41.47576067689989, 41.64517948937651, 41.47577838499283, 41.645197291009396, 41.478388998179085, 41.47752469279734, 41.47666038727433, 41.47579608161005, 41.64521508109849, 41.481863907173775, 41.48099960182291, 41.4801352963308, 41.479270990697444, 41.47840668492283, 41.64523285964379, 41.48533880670216, 41.484474501382444, 41.48361019592149, 41.4827458903193, 41.481881584575866, 41.645250626645215, 41.48622078047204, 41.48535647476002, 41.64526838210277, 41.48710274368743, 41.486238437583445, 41.64528612601641, 41.64442184523742, 41.48712038985168, 41.48625608321484, 41.64443957707205, 41.486273717366174, 41.48540941005564, 41.664335744117416, 41.66347146537897, 41.66260718649913, 41.661742907477915, 41.6608786283153, 41.644457297363054, 41.64359301537287, 41.48542703219476, 41.66435346515926, 41.66089634721845, 41.66003206737981, 41.64361072358585, 41.485444642854105, 41.66437117464944, 41.66004977419836, 41.659185493684056, 41.6436284202555, 41.642764137055586, 41.48546224203365, 41.66611743284682, 41.66525315278804, 41.66438887258789, 41.65920318841872, 41.65833890722915, 41.643646105381805, 41.48547982973341, 41.666999400752026, 41.66613512030088, 41.65835658988058, 41.65749230801612, 41.643663778964715, 41.48549740595328, 41.66701707718696, 41.657509978585, 41.656645696046006, 41.6557814133657, 41.654917130544085, 41.65405284758116, 41.65318856447692, 41.65232428123139, 41.651459997844526, 41.650595714316374, 41.6497314306469, 41.648867146836146, 41.64800286288407, 41.647138578790695, 41.64627429455603, 41.64541001018004, 41.644545725662766, 41.64368144100421, 41.4855149706933, 41.66876330468009, 41.66789902344523, 41.667034742069056, 41.648884800528194, 41.644563376691444, 41.64369909150023, 41.48553252395341, 41.669645240700895, 41.66878095907465, 41.64371673045281, 41.48555006573358, 41.678305697889144, 41.67744141714346, 41.6765771362565, 41.67571285522822, 41.67484857405867, 41.67398429274782, 41.67312001129567, 41.67225572970223, 41.670527166091496, 41.6696628840742, 41.486431908121205, 41.48556759603378, 41.67832333502921, 41.67227336311765, 41.67140908085088, 41.67054479844284, 41.48817805228023, 41.48731373994587, 41.486449427470454, 41.6783409606118, 41.49078849894953, 41.48992418650956, 41.489059873928554, 41.48819556120653, 41.67922285683664, 41.678358574636846, 41.490805997979926, 41.68010474242489, 41.67924045983524, 41.491687798883575, 41.49082348552815, 41.68012233439635, 41.49170527547735, 41.68273276491475, 41.68186848168754, 41.68100419831913, 41.68013991480949, 41.49172274058856, 41.6853431857846, 41.6844789024509, 41.68361461897599, 41.68275033535986, 41.49174019421717, 41.686225029982026, 41.685360746259704, 41.49175763636316, 41.68710686353674, 41.68624257942611, 41.4943680141527, 41.493503698584924, 41.49263938287619, 41.49177506702651, 41.687124401949106, 41.4961140666763, 41.495249750864346, 41.49438543491145, 41.68714192880023, 41.49613147700272, 41.68802372964594, 41.68715944409008, 41.496148875844675, 41.49528455898162, 41.494420241977664, 41.68804123390261, 41.49443762828509, 41.689787299397736, 41.68892301306822, 41.68805872659759, 41.494455003108655, 41.68980478158588, 41.494472366448385, 41.689822252211606, 41.49448971830421, 41.689839711274864, 41.49450705867611, 41.691585735226816, 41.690721447071745, 41.689857158775624, 41.49452438756408, 41.6916031722172, 41.494541704968064, 41.69162059764434, 41.49542333208241, 41.49455901088803, 41.6916380115082, 41.49630494861643, 41.495440627040594, 41.69165541380875, 41.496322232612115, 41.69167280454598, 41.49633950512301, 41.69169018371985, 41.4963567661491, 41.691707551330325, 41.49637401569035, 41.69258919959034, 41.69172490737738, 41.49639125374672, 41.69260654459724, 41.4972728048796, 41.4964084803182, 41.69262387804033, 41.49815434542653, 41.497290020485984, 41.69264119991956, 41.49903587538651, 41.498171550067134, 41.69265851023491, 41.502510371008235, 41.50164604573233, 41.500781720315764, 41.49991739475852, 41.49905306906063, 41.69267580898634, 41.50252755527175, 41.69442168644629, 41.6935573913805, 41.692693096173834, 41.69182880082631, 41.50340905422048, 41.502544728047795, 41.69443896311226, 41.50429054257751, 41.503426216027236, 41.69445622821357, 41.50690067377499, 41.5060363471287, 41.50517202034179, 41.50430769341427, 41.69447348175013, 41.50778214169942, 41.506917814676164, 41.694490723721934, 41.508663599028424, 41.50779927162853, 41.69450795412897, 41.51127370089166, 41.51040937339659, 41.50954504576095, 41.50868071798474, 41.694525172971204, 41.69366087478322, 41.692796576454455, 41.51129080990765, 41.69281378269357, 41.51303656406665, 41.512172235819854, 41.51130790743252, 41.69283097736851, 41.5130536511322, 41.69284816047926, 41.691983860453405, 41.691119560286815, 41.51479938484089, 41.51393505584364, 41.51307072670588, 41.6911367307972, 41.519138095407875, 41.51827376659797, 41.51740943764756, 41.51654510855661, 41.515680779325145, 41.514816449953166, 41.69115388974403, 41.69028958840095, 41.5191551516023, 41.69030673526686, 41.51917219630233, 41.690323870569486, 41.689459568051376, 41.688595265392586, 41.52005355972126, 41.51918922950794, 41.68861238809867, 41.52179924297953, 41.520934912533185, 41.52007058194638, 41.688629499242126, 41.52354491623566, 41.52268058555661, 41.52181625473708, 41.68864659882293, 41.52442624857621, 41.523561917524276, 41.688663686841046, 41.687799381977236, 41.68693507697279, 41.52444323888155, 41.68695215239779, 41.68608784673753, 41.68522354093667, 41.52446021769025, 41.685240603769955, 41.59103037269466, 41.58411579455811, 41.58325147165886, 41.524477185002276, 41.523612852412434, 41.68525765504187, 41.684393348071126, 41.59104736797016, 41.59018304568182, 41.58931872325298, 41.58586143213295, 41.58499710900177, 41.58413278573012, 41.58326846231801, 41.58240413876543, 41.523629807715814, 41.52276547447363, 41.68441038726752, 41.68354607964209, 41.59106435172221, 41.58933570597977, 41.58847138289786, 41.587607059675484, 41.586742736312665, 41.58587841280938, 41.582421117391725, 41.581556793186195, 41.52278241776905, 41.683563106763664, 41.682698798483926, 41.59194564712359, 41.59108132395076, 41.58157375978031, 41.58070943492219, 41.57984510992362, 41.57898078478462, 41.522799349568395, 41.68271581353134, 41.59196260834058, 41.57899773832371, 41.52281626987166, 41.68273281701832, 41.67754695823027, 41.59457252978032, 41.59370820600519, 41.592843882089646, 41.59197955803367, 41.57901468034412, 41.57815035404153, 41.577286027598554, 41.57642170101516, 41.522833178678795, 41.68274980894482, 41.68188549898545, 41.68102118888556, 41.680156878645164, 41.67929256826426, 41.67842825774284, 41.67756394708091, 41.676699636278485, 41.67583532533555, 41.59631811763497, 41.59545379362937, 41.594589469483346, 41.57643862998372, 41.522850075989794, 41.67585230160329, 41.67498799000763, 41.59892801954231, 41.59806369544692, 41.59719937121113, 41.59633504683494, 41.5764555474346, 41.5755912196891, 41.52286696180462, 41.675004954205775, 41.67414064195776, 41.67327632956927, 41.67241201704031, 41.67154770437087, 41.60153791172437, 41.60067358753948, 41.5998092632142, 41.59894493874853, 41.57560812511194, 41.523748172939214, 41.52288383612325, 41.67156465496562, 41.60328346990424, 41.60241914548973, 41.60155482093486, 41.575625019017366, 41.52376503627077, 41.67158159400432, 41.60330036860694, 41.57564190140535, 41.52464622579937, 41.52378188810571, 41.67159852148695, 41.67073420714372, 41.669869892660046, 41.605045906228476, 41.60418158107494, 41.60331725578107, 41.57565877227587, 41.57479444235087, 41.52379872844401, 41.66988680756575, 41.605062782892716, 41.57481130119499, 41.57394697062077, 41.52381555728566, 41.52295121843513, 41.66990371091602, 41.60594397405922, 41.605079648027626, 41.57396381743915, 41.522968035272314, 41.669920602710825, 41.66905628655661, 41.668191970262, 41.65349857177531, 41.65263425295388, 41.65176993399207, 41.60682515457345, 41.60596082817347, 41.573980652740694, 41.522984840613134, 41.66820884948265, 41.66734453253834, 41.66648021545368, 41.65437976152961, 41.653515442339454, 41.65178680353808, 41.60684199766632, 41.57399747652535, 41.57313314428623, 41.52300163445754, 41.66649708210157, 41.665632764367594, 41.664768446493255, 41.66390412847856, 41.66303981032351, 41.662175492028105, 41.661311173592345, 41.66044685501623, 41.65958253629975, 41.654396621053614, 41.65180366153587, 41.65093934141594, 41.61031613749154, 41.609451810636365, 41.60858748364089, 41.60772315650512, 41.60685882922906, 41.573149956046485, 41.5722856231596, 41.523018416805535, 41.659599387325166, 41.65873506795987, 41.65787074845423, 41.65700642880826, 41.65614210902195, 41.6552777890953, 41.654413469028334, 41.65095618735713, 41.65009186658851, 41.649227545679565, 41.61033295955494, 41.572302422896136, 41.52303518765708, 41.64924437905686, 41.64838005749961, 41.64751573580205, 41.610349770086756, 41.572319211116394, 41.523051947012135, 41.647532556616866, 41.646668234271395, 41.645803911785634, 41.61036656908701, 41.57233598782035, 41.52306869487068, 41.64582072003938, 41.6449563969061, 41.64409207363256, 41.643227750218706, 41.611247685299354, 41.61038335655564, 41.572352753008005, 41.523085431232694, 41.64324454540597, 41.642380221345014, 41.611264461742685, 41.57236950667929, 41.57150517112, 41.57064083542052, 41.523966499506095, 41.52310215609815, 41.64239700448089, 41.64153267977321, 41.61128122665397, 41.57065757656467, 41.52484755715208, 41.52398321337961, 41.641549450858385, 41.611297980033235, 41.57067430619309, 41.52486426003293, 41.64156621039931, 41.611314721880404, 41.5706910243058, 41.56982668695109, 41.56896234945624, 41.56809801182125, 41.567233674046136, 41.56636933613087, 41.56550499807547, 41.564640659879935, 41.553404250586134, 41.52574529605712, 41.52488095141643, 41.64158295839595, 41.64071863203073, 41.611331452195486, 41.56465736294688, 41.563793024106985, 41.56292868512697, 41.56206434600683, 41.561200006746574, 41.5603356673462, 41.5542852876204, 41.553420947099134, 41.552556606437754, 41.52576197644688, 41.640735367977996, 41.639871040967506, 41.61134817097843, 41.56035235638051, 41.5594880163362, 41.558623676151804, 41.5577593358273, 41.55689499536268, 41.55603065475799, 41.555166314013185, 41.55430197312829, 41.552573290938206, 41.55170894963302, 41.550844608187745, 41.549980266602375, 41.54911592487692, 41.52664299084643, 41.5257786453389, 41.63988776486608, 41.61309354237034, 41.612229210369854, 41.61136487822922, 41.54913259585552, 41.54826825348668, 41.526659648743646, 41.52579530273316, 41.63990447722098, 41.61397457146108, 41.61311023909679, 41.54828491245516, 41.54742056944331, 41.525811948629624, 41.63992117803218, 41.615719922473595, 41.61485558988596, 41.613991257158204, 41.54743721640235, 41.52582858302826, 41.64080219632688, 41.639937867299665, 41.61660093059477, 41.61573659764397, 41.54745385185487, 41.54658950769816, 41.53189563560956, 41.52584520592904, 41.640818874553915, 41.61748192804772, 41.61661759473409, 41.546606131142234, 41.54574178634361, 41.53364094446131, 41.53277659756249, 41.53191225052368, 41.53104790334486, 41.526726165350745, 41.52586181733193, 41.640835541236825, 41.61922724836746, 41.6183629148314, 41.61749858115526, 41.545758397779935, 41.544894052339785, 41.54402970675963, 41.54316536103948, 41.53365754887772, 41.53106450625735, 41.530200158437246, 41.52933581047716, 41.52847146237707, 41.527607114137005, 41.52674276575696, 41.64085219637559, 41.62010822484305, 41.61924389094479, 41.54318195946644, 41.542317613105155, 41.54145326660388, 41.534538489554215, 41.533674141793085, 41.64086883997017, 41.64000450893178, 41.620124856386845, 41.541469852524415, 41.53714811541464, 41.536283767572776, 41.53541941959093, 41.534555071469136, 41.64002114048023, 41.639156808799854, 41.638292476979416, 41.6374281450189, 41.62446314880307, 41.623598814601536, 41.62014147639479, 41.5414864269407, 41.540622079298295, 41.53975773151593, 41.538893383593596, 41.538029035531316, 41.53716468732906, 41.63744476351881, 41.63658043091671, 41.625344094344435, 41.62447975978161, 41.62361542507873, 41.62275109023583, 41.621886755252866, 41.62102242012988, 41.620158084866844, 41.63659703737257, 41.63573270412926, 41.62708936399382, 41.62622502921006, 41.62536069428629, 41.63574929854177, 41.6348849646576, 41.63402063063341, 41.633156296469195, 41.62797028854334, 41.62710595339895, 41.633172877838156, 41.63230854303352, 41.631444208088844, 41.630579873004166, 41.629715537779475, 41.628851202414765, 41.627986866910064]]}, \"crs\": {\"functionInvocationValue\": {\"functionName\": \"Projection\", \"arguments\": {\"crs\": {\"constantValue\": \"EPSG:4326\"}}}}}}}}}}]}}}}}, \"image\": {\"functionInvocationValue\": {\"functionName\": \"Image.load\", \"arguments\": {\"id\": {\"constantValue\": \"OpenLandMap/SOL/SOL_TEXTURE-CLASS_USDA-TT_M/v02\"}}}}}}}}}}, \"property\": {\"constantValue\": \"b0\"}}}}}}'"
            ]
          },
          "metadata": {
            "tags": []
          },
          "execution_count": 120
        }
      ]
    },
    {
      "cell_type": "code",
      "metadata": {
        "colab": {
          "base_uri": "https://localhost:8080/",
          "height": 293
        },
        "id": "4kGRm_jA1cdR",
        "outputId": "773c9b8b-6550-4c4d-aa59-fe7ab8a29fde"
      },
      "source": [
        "pl.scatter(gp.mesh_points_all.T[0], gp.mesh_points_all.T[1],)"
      ],
      "execution_count": null,
      "outputs": [
        {
          "output_type": "execute_result",
          "data": {
            "text/plain": [
              "<matplotlib.collections.PathCollection at 0x7f8b326ed890>"
            ]
          },
          "metadata": {
            "tags": []
          },
          "execution_count": 100
        },
        {
          "output_type": "display_data",
          "data": {
            "image/png": "[encoded data removed]",
            "text/plain": [
              "<Figure size 432x288 with 1 Axes>"
            ]
          },
          "metadata": {
            "tags": [],
            "needs_background": "light"
          }
        }
      ]
    },
    {
      "cell_type": "code",
      "metadata": {
        "colab": {
          "base_uri": "https://localhost:8080/"
        },
        "id": "uSNM3LNr27FI",
        "outputId": "d5350610-9bdb-4f2e-b7ed-ba41dcd1c209"
      },
      "source": [
        "cu.Polygon\n"
      ],
      "execution_count": null,
      "outputs": [
        {
          "output_type": "execute_result",
          "data": {
            "text/plain": [
              "array([[ 357084.7182312 ,  357084.7182312 ,  356795.38783264, ...,\n",
              "         357374.04862976,  357374.04862976,  357084.7182312 ],\n",
              "       [4617215.37905884, 4616926.04866028, 4616926.04866028, ...,\n",
              "        4617022.49212646, 4617215.37905884, 4617215.37905884]])"
            ]
          },
          "metadata": {
            "tags": []
          },
          "execution_count": 121
        }
      ]
    },
    {
      "cell_type": "code",
      "metadata": {
        "id": "Qje-U1u5Mbpk"
      },
      "source": [
        ""
      ],
      "execution_count": null,
      "outputs": []
    },
    {
      "cell_type": "code",
      "metadata": {
        "colab": {
          "base_uri": "https://localhost:8080/"
        },
        "id": "KTTbjjzY97FH",
        "outputId": "4f0b49f2-a78b-4337-e02a-8ff44ffb92b6"
      },
      "source": [
        "len(gp.polygons_xy)"
      ],
      "execution_count": null,
      "outputs": [
        {
          "output_type": "execute_result",
          "data": {
            "text/plain": [
              "2390"
            ]
          },
          "metadata": {
            "tags": []
          },
          "execution_count": 92
        }
      ]
    },
    {
      "cell_type": "code",
      "metadata": {
        "id": "_b3oUw3l99Q-"
      },
      "source": [
        ""
      ],
      "execution_count": null,
      "outputs": []
    },
    {
      "cell_type": "markdown",
      "metadata": {
        "id": "wKfwL98Oliro"
      },
      "source": [
        ""
      ]
    },
    {
      "cell_type": "code",
      "metadata": {
        "id": "YOEcCeAS8e1N"
      },
      "source": [
        ""
      ],
      "execution_count": null,
      "outputs": []
    },
    {
      "cell_type": "code",
      "metadata": {
        "id": "SjTRQGEB8gEt"
      },
      "source": [
        ""
      ],
      "execution_count": null,
      "outputs": []
    }
  ]
}